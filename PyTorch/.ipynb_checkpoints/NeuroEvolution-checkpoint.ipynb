{
 "cells": [
  {
   "cell_type": "markdown",
   "metadata": {
    "heading_collapsed": true
   },
   "source": [
    "# Setup"
   ]
  },
  {
   "cell_type": "code",
   "execution_count": 6,
   "metadata": {
    "collapsed": true,
    "hidden": true
   },
   "outputs": [],
   "source": [
    "%matplotlib inline\n",
    "\n",
    "import torch\n",
    "import random\n",
    "import numpy as np\n",
    "import pandas as pd\n",
    "import seaborn as sns\n",
    "\n",
    "import torch.nn as nn\n",
    "import torch.nn.functional as F\n",
    "import torch.optim as optim\n",
    "import matplotlib.pyplot as plt\n",
    "\n",
    "from torch.autograd import Variable\n",
    "from torchvision import datasets, transforms\n",
    "\n",
    "sns.set()"
   ]
  },
  {
   "cell_type": "markdown",
   "metadata": {},
   "source": [
    "# Hyperparameter space"
   ]
  },
  {
   "cell_type": "code",
   "execution_count": null,
   "metadata": {
    "collapsed": true
   },
   "outputs": [],
   "source": [
    "# definition of a space\n",
    "# lower bound - upper bound, type param, mutation rate\n",
    "LAYER_SPACE = {}\n",
    "LAYER_SPACE['nb_units'] = (128, 1024, 'int', 0.15)\n",
    "LAYER_SPACE['dropout_rate'] = (0.0, 0.7, 'float', 0.2)\n",
    "LAYER_SPACE['activation'] =\\\n",
    "    (0,  ['linear', 'tanh', 'relu', 'sigmoid', 'elu'], 'list', 0.2)\n",
    "\n",
    "NET_SPACE = {}\n",
    "NET_SPACE['nb_layers'] = (1, 3, 'int', 0.15)\n",
    "NET_SPACE['lr'] = (0.0001, 0.1, 'float', 0.15)\n",
    "NET_SPACE['weight_decay'] = (0.00001, 0.0004, 'float', 0.2)\n",
    "NET_SPACE['optimizer'] =\\\n",
    "    (0, ['sgd', 'adam', 'adadelta', 'rmsprop'], 'list', 0.2)"
   ]
  },
  {
   "cell_type": "markdown",
   "metadata": {},
   "source": [
    "# Randomise network"
   ]
  },
  {
   "cell_type": "code",
   "execution_count": 5,
   "metadata": {
    "collapsed": true
   },
   "outputs": [],
   "source": [
    "def random_value(space):\n",
    "    \"\"\"Sample  random value from the given space.\"\"\"\n",
    "    val = None\n",
    "    if space[2] == 'int':\n",
    "        val = random.randint(space[0], space[1])\n",
    "    if space[2] == 'list':\n",
    "        val = random.sample(space[1], 1)[0]\n",
    "    if space[2] == 'float':\n",
    "        val = ((space[1] - space[0]) * random.random()) + space[0]\n",
    "    return {'val': val, 'id': random.randint(0, 2**10)}\n",
    "\n",
    "\n",
    "def randomize_network(bounded=True):\n",
    "    \"\"\"Create a random network.\"\"\"\n",
    "    global NET_SPACE, LAYER_SPACE\n",
    "    net = dict()\n",
    "    for k in NET_SPACE.keys():\n",
    "        net[k] = random_value(NET_SPACE[k])\n",
    "    \n",
    "    if bounded: \n",
    "        net['nb_layers']['val'] = min(net['nb_layers']['val'], 1)\n",
    "    \n",
    "    layers = []\n",
    "    for i in range(net['nb_layers']['val']):\n",
    "        layer = dict()\n",
    "        for k in LAYER_SPACE.keys():\n",
    "            layer[k] = random_value(LAYER_SPACE[k])\n",
    "        layers.append(layer)\n",
    "    net['layers'] = layers\n",
    "    return net"
   ]
  },
  {
   "cell_type": "code",
   "execution_count": null,
   "metadata": {
    "collapsed": true
   },
   "outputs": [],
   "source": []
  }
 ],
 "metadata": {
  "anaconda-cloud": {},
  "kernelspec": {
   "display_name": "Python [default]",
   "language": "python",
   "name": "python3"
  },
  "language_info": {
   "codemirror_mode": {
    "name": "ipython",
    "version": 3
   },
   "file_extension": ".py",
   "mimetype": "text/x-python",
   "name": "python",
   "nbconvert_exporter": "python",
   "pygments_lexer": "ipython3",
   "version": "3.5.4"
  }
 },
 "nbformat": 4,
 "nbformat_minor": 2
}
