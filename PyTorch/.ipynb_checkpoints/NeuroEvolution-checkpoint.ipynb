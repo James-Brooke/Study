{
 "cells": [
  {
   "cell_type": "markdown",
   "metadata": {
    "heading_collapsed": true
   },
   "source": [
    "# Setup"
   ]
  },
  {
   "cell_type": "code",
   "execution_count": 6,
   "metadata": {
    "collapsed": true,
    "hidden": true
   },
   "outputs": [],
   "source": [
    "%matplotlib inline\n",
    "\n",
    "import torch\n",
    "import random\n",
    "import numpy as np\n",
    "import pandas as pd\n",
    "import seaborn as sns\n",
    "\n",
    "import torch.nn as nn\n",
    "import torch.nn.functional as F\n",
    "import torch.optim as optim\n",
    "import matplotlib.pyplot as plt\n",
    "\n",
    "from torch.autograd import Variable\n",
    "from torchvision import datasets, transforms\n",
    "\n",
    "sns.set()"
   ]
  },
  {
   "cell_type": "markdown",
   "metadata": {},
   "source": [
    "# Hyperparameter space"
   ]
  },
  {
   "cell_type": "code",
   "execution_count": 10,
   "metadata": {
    "collapsed": false
   },
   "outputs": [],
   "source": [
    "LAYER_SPACE = {\n",
    "    'nb_units':{'lb': 128, 'ub':1024, 'mutate': 0.15},\n",
    "    'dropout_rate': {'lb': 0.0, 'ub': 0.7, 'mutate': 0.2},\n",
    "    'activation': {'func': ['linear','tanh','relu','sigmoid','elu'], 'mutate':0.2}\n",
    "}"
   ]
  },
  {
   "cell_type": "code",
   "execution_count": 74,
   "metadata": {
    "collapsed": false
   },
   "outputs": [],
   "source": [
    "NET_SPACE = {\n",
    "    'nb_layers': {'lb': 1, 'ub': 3, 'mutate': 0.15},\n",
    "    'lr': {'lb': 0.001, 'ub':0.1, 'mutate': 0.15},\n",
    "    'weight_decay': {'lb': 0.00001, 'ub': 0.0004, 'mutate':0.2},\n",
    "    'optimizer': {'func': ['sgd', 'adam', 'adadelta','rmsprop'], 'mutate': 0.2}\n",
    "}"
   ]
  },
  {
   "cell_type": "code",
   "execution_count": 173,
   "metadata": {
    "collapsed": false
   },
   "outputs": [
    {
     "data": {
      "text/plain": [
       "{'layers': [{'activation': 'relu',\n",
       "   'dropout_rate': 0.4719525678235804,\n",
       "   'nb_units': 952}],\n",
       " 'lr': 0.05290581965615195,\n",
       " 'nb_layers': 1,\n",
       " 'optimizer': 'adam',\n",
       " 'weight_decay': 0.00017647275495253468}"
      ]
     },
     "execution_count": 173,
     "metadata": {},
     "output_type": "execute_result"
    }
   ],
   "source": [
    "randomize_network(LAYER_SPACE, NET_SPACE)"
   ]
  },
  {
   "cell_type": "code",
   "execution_count": null,
   "metadata": {
    "collapsed": true
   },
   "outputs": [],
   "source": []
  },
  {
   "cell_type": "code",
   "execution_count": 152,
   "metadata": {
    "collapsed": true
   },
   "outputs": [],
   "source": [
    "def randomize_network(bounded=True):\n",
    "    \"\"\"Create a random network.\"\"\"\n",
    "    global NET_SPACE, LAYER_SPACE\n",
    "    net = dict()\n",
    "    for k in NET_SPACE.keys():\n",
    "        net[k] = random_value(NET_SPACE[k])\n",
    "    \n",
    "    if bounded: \n",
    "        net['nb_layers']['val'] = min(net['nb_layers']['val'], 1)\n",
    "    \n",
    "    layers = []\n",
    "    for i in range(net['nb_layers']['val']):\n",
    "        layer = dict()\n",
    "        for k in LAYER_SPACE.keys():\n",
    "            layer[k] = random_value(LAYER_SPACE[k])\n",
    "        layers.append(layer)\n",
    "    net['layers'] = layers\n",
    "    return net"
   ]
  },
  {
   "cell_type": "code",
   "execution_count": null,
   "metadata": {
    "collapsed": true
   },
   "outputs": [],
   "source": [
    "# definition of a space\n",
    "# lower bound - upper bound, type param, mutation rate\n",
    "LAYER_SPACE = {}\n",
    "LAYER_SPACE['nb_units'] = (128, 1024, 'int', 0.15)\n",
    "LAYER_SPACE['dropout_rate'] = (0.0, 0.7, 'float', 0.2)\n",
    "LAYER_SPACE['activation'] =\\\n",
    "    (0,  ['linear', 'tanh', 'relu', 'sigmoid', 'elu'], 'list', 0.2)\n",
    "\n",
    "NET_SPACE = {}\n",
    "NET_SPACE['nb_layers'] = (1, 3, 'int', 0.15)\n",
    "NET_SPACE['lr'] = (0.0001, 0.1, 'float', 0.15)\n",
    "NET_SPACE['weight_decay'] = (0.00001, 0.0004, 'float', 0.2)\n",
    "NET_SPACE['optimizer'] =\\\n",
    "    (0, ['sgd', 'adam', 'adadelta', 'rmsprop'], 'list', 0.2)"
   ]
  },
  {
   "cell_type": "code",
   "execution_count": null,
   "metadata": {
    "collapsed": true
   },
   "outputs": [],
   "source": [
    "def random_value(space):\n",
    "    \"\"\"Sample  random value from the given space.\"\"\"\n",
    "    val = None\n",
    "    if space[2] == 'int':\n",
    "        val = random.randint(space[0], space[1])\n",
    "    if space[2] == 'list':\n",
    "        val = random.sample(space[1], 1)[0]\n",
    "    if space[2] == 'float':\n",
    "        val = ((space[1] - space[0]) * random.random()) + space[0]\n",
    "    return {'val': val, 'id': random.randint(0, 2**10)}"
   ]
  },
  {
   "cell_type": "markdown",
   "metadata": {},
   "source": [
    "# Randomise network"
   ]
  },
  {
   "cell_type": "code",
   "execution_count": 150,
   "metadata": {
    "collapsed": true
   },
   "outputs": [],
   "source": [
    "def random_value(space):\n",
    "    \"\"\"Returns random value from space.\"\"\"\n",
    "    \n",
    "    val = None\n",
    "    \n",
    "    if 'func' in space: #randomise optimiser or activation function\n",
    "        val = random.sample(space['func'], 1)[0] \n",
    "    \n",
    "    elif isinstance(space['lb'], int): #randomise number of units or layers\n",
    "        val = random.randint(space['lb'], space['ub'])\n",
    "    \n",
    "    else: #randomise percentages, i.e. dropout rates or weight decay\n",
    "        val = random.random() * (space['ub'] - space['lb']) + space['lb']\n",
    "    \n",
    "    return val"
   ]
  },
  {
   "cell_type": "code",
   "execution_count": 155,
   "metadata": {
    "collapsed": true
   },
   "outputs": [],
   "source": [
    "def randomize_network(layer_space, net_space): \n",
    "    \n",
    "    net = {}\n",
    "    \n",
    "    for key in net_space.keys():\n",
    "        net[key] = random_value(net_space[key])\n",
    "        \n",
    "    layers = []\n",
    "    \n",
    "    for i in range(net['nb_layers']):\n",
    "        layer = {}\n",
    "        for key in layer_space.keys():\n",
    "            layer[key] = random_value(layer_space[key])\n",
    "        layers.append(layer)\n",
    "        net['layers'] = layers\n",
    "        \n",
    "    return net"
   ]
  },
  {
   "cell_type": "code",
   "execution_count": null,
   "metadata": {
    "collapsed": true
   },
   "outputs": [],
   "source": []
  }
 ],
 "metadata": {
  "anaconda-cloud": {},
  "kernelspec": {
   "display_name": "Python [default]",
   "language": "python",
   "name": "python3"
  },
  "language_info": {
   "codemirror_mode": {
    "name": "ipython",
    "version": 3
   },
   "file_extension": ".py",
   "mimetype": "text/x-python",
   "name": "python",
   "nbconvert_exporter": "python",
   "pygments_lexer": "ipython3",
   "version": "3.5.4"
  }
 },
 "nbformat": 4,
 "nbformat_minor": 2
}
