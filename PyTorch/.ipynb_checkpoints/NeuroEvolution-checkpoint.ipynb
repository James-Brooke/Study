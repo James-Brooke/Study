{
 "cells": [
  {
   "cell_type": "code",
   "execution_count": 1,
   "metadata": {
    "collapsed": true
   },
   "outputs": [],
   "source": [
    "%matplotlib inline\n",
    "\n",
    "import torch\n",
    "import numpy as np\n",
    "import pandas as pd\n",
    "import seaborn as sns\n",
    "\n",
    "import torch.nn as nn\n",
    "import torch.nn.functional as F\n",
    "import torch.optim as optim\n",
    "import matplotlib.pyplot as plt\n",
    "\n",
    "from torch.autograd import Variable\n",
    "from torchvision import datasets, transforms\n",
    "\n",
    "sns.set()"
   ]
  },
  {
   "cell_type": "code",
   "execution_count": 3,
   "metadata": {
    "collapsed": true
   },
   "outputs": [],
   "source": [
    "# definition of a space\n",
    "# lower bound - upper bound, type param, mutation rate\n",
    "LAYER_SPACE = {}\n",
    "LAYER_SPACE['nb_units'] = (128, 1024, 'int', 0.15)\n",
    "LAYER_SPACE['dropout_rate'] = (0.0, 0.7, 'float', 0.2)\n",
    "LAYER_SPACE['activation'] =\\\n",
    "    (0,  ['linear', 'tanh', 'relu', 'sigmoid', 'elu'], 'list', 0.2)\n",
    "\n",
    "NET_SPACE = {}\n",
    "NET_SPACE['nb_layers'] = (1, 3, 'int', 0.15)\n",
    "NET_SPACE['lr'] = (0.0001, 0.1, 'float', 0.15)\n",
    "NET_SPACE['weight_decay'] = (0.00001, 0.0004, 'float', 0.2)\n",
    "NET_SPACE['optimizer'] =\\\n",
    "    (0, ['sgd', 'adam', 'adadelta', 'rmsprop'], 'list', 0.2)"
   ]
  },
  {
   "cell_type": "code",
   "execution_count": null,
   "metadata": {
    "collapsed": true
   },
   "outputs": [],
   "source": []
  }
 ],
 "metadata": {
  "anaconda-cloud": {},
  "kernelspec": {
   "display_name": "Python [default]",
   "language": "python",
   "name": "python3"
  },
  "language_info": {
   "codemirror_mode": {
    "name": "ipython",
    "version": 3
   },
   "file_extension": ".py",
   "mimetype": "text/x-python",
   "name": "python",
   "nbconvert_exporter": "python",
   "pygments_lexer": "ipython3",
   "version": "3.5.4"
  }
 },
 "nbformat": 4,
 "nbformat_minor": 2
}
