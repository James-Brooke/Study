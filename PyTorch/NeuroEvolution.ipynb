{
 "cells": [
  {
   "cell_type": "markdown",
   "metadata": {
    "heading_collapsed": true
   },
   "source": [
    "# Setup"
   ]
  },
  {
   "cell_type": "code",
   "execution_count": 1,
   "metadata": {
    "collapsed": true,
    "hidden": true
   },
   "outputs": [],
   "source": [
    "%matplotlib inline\n",
    "\n",
    "import torch\n",
    "import random\n",
    "import copy\n",
    "import requests #for sending updates to my phone via telegram\n",
    "import numpy as np\n",
    "import pandas as pd\n",
    "import seaborn as sns\n",
    "\n",
    "import torch.nn as nn\n",
    "import torch.nn.functional as F\n",
    "import torch.optim as optim\n",
    "import matplotlib.pyplot as plt\n",
    "\n",
    "from torch.autograd import Variable\n",
    "from torchvision import datasets, transforms\n",
    "from operator import itemgetter\n",
    "from tqdm import tqdm, tnrange, tqdm_notebook\n",
    "\n",
    "sns.set()"
   ]
  },
  {
   "cell_type": "code",
   "execution_count": 2,
   "metadata": {
    "collapsed": true,
    "hidden": true
   },
   "outputs": [],
   "source": [
    "with open(r\"D:\\TELEGRAM_BOTS\\NEURALUPDATES.txt\") as file: #Credentials for telegram bot\n",
    "    BOT_TOKEN, CHANNEL = file.read().split('\\n')"
   ]
  },
  {
   "cell_type": "markdown",
   "metadata": {
    "heading_collapsed": true
   },
   "source": [
    "# Dataloaders"
   ]
  },
  {
   "cell_type": "markdown",
   "metadata": {
    "heading_collapsed": true,
    "hidden": true
   },
   "source": [
    "## Clean MNIST loaders"
   ]
  },
  {
   "cell_type": "code",
   "execution_count": 3,
   "metadata": {
    "collapsed": true,
    "hidden": true
   },
   "outputs": [],
   "source": [
    "torch.manual_seed(1);"
   ]
  },
  {
   "cell_type": "code",
   "execution_count": 4,
   "metadata": {
    "collapsed": true,
    "hidden": true
   },
   "outputs": [],
   "source": [
    "transform = transforms.Compose([\n",
    "                       transforms.ToTensor(),\n",
    "                       #transforms.Normalize((0.1307,), (0.3081,)) #normalise pixels using mean and stdev\n",
    "                       transforms.Normalize((0.5, 0.5, 0.5), (0.5, 0.5, 0.5)) #normalise to range -1 to 1\n",
    "                   ])\n",
    "\n",
    "\n",
    "\n",
    "MNIST_train = datasets.MNIST(r'D:\\Data_sets/MNIST', train=True, download=True,\n",
    "                   transform=transform)\n",
    "\n",
    "MNIST_test = datasets.MNIST(r'D:\\Data_sets/MNIST', train=False, download=True,\n",
    "                   transform=transform)"
   ]
  },
  {
   "cell_type": "code",
   "execution_count": 5,
   "metadata": {
    "collapsed": false,
    "hidden": true
   },
   "outputs": [],
   "source": [
    "train_loader = torch.utils.data.DataLoader(MNIST_train, \n",
    "                                           batch_size=64, \n",
    "                                           shuffle=True, \n",
    "                                           pin_memory=True)\n",
    "\n",
    "test_loader = torch.utils.data.DataLoader(MNIST_test,\n",
    "                                          batch_size=1000, \n",
    "                                          shuffle=True, \n",
    "                                          pin_memory=True)"
   ]
  },
  {
   "cell_type": "markdown",
   "metadata": {
    "heading_collapsed": true,
    "hidden": true
   },
   "source": [
    "## Adversarial loader"
   ]
  },
  {
   "cell_type": "code",
   "execution_count": 6,
   "metadata": {
    "collapsed": false,
    "hidden": true
   },
   "outputs": [],
   "source": [
    "class AdversarialDataset(torch.utils.data.Dataset):\n",
    "    \"\"\"FGSM adversarials of MNIST test set\"\"\"\n",
    "\n",
    "    def __init__(self, root_dir, transform=None):\n",
    "\n",
    "        self.adversarials = np.load(root_dir+'/adversarials.npy')\n",
    "        self.labels = np.load(root_dir+'/labels.npy')\n",
    "        self.transform = transform\n",
    "\n",
    "    def __len__(self):\n",
    "        return len(self.labels)\n",
    "\n",
    "    def __getitem__(self, idx):\n",
    "        \n",
    "        image = self.adversarials[idx]\n",
    "        label = self.labels[idx]\n",
    "\n",
    "        if self.transform:\n",
    "            sample = self.transform(sample)\n",
    "\n",
    "        return image, label"
   ]
  },
  {
   "cell_type": "code",
   "execution_count": 7,
   "metadata": {
    "collapsed": false,
    "hidden": true
   },
   "outputs": [],
   "source": [
    "adversarials = AdversarialDataset('D:/Data_sets/Adversarial/MNIST')"
   ]
  },
  {
   "cell_type": "code",
   "execution_count": 8,
   "metadata": {
    "collapsed": true,
    "hidden": true
   },
   "outputs": [],
   "source": [
    "adversarial_loader = torch.utils.data.DataLoader(adversarials, \n",
    "                                           batch_size=1000, \n",
    "                                           shuffle=True, \n",
    "                                           pin_memory=True)"
   ]
  },
  {
   "cell_type": "markdown",
   "metadata": {
    "heading_collapsed": true
   },
   "source": [
    "# Hyperparameter space"
   ]
  },
  {
   "cell_type": "code",
   "execution_count": 9,
   "metadata": {
    "collapsed": false,
    "hidden": true
   },
   "outputs": [],
   "source": [
    "LAYER_SPACE = {\n",
    "    'nb_units':{'lb': 128, 'ub':2048, 'mutate': 0.15},\n",
    "    'dropout_rate': {'lb': 0.0, 'ub': 0.7, 'mutate': 0.2},\n",
    "    'activation': {'func': ['linear','tanh','relu','sigmoid','elu'], 'mutate':0.2}\n",
    "}"
   ]
  },
  {
   "cell_type": "code",
   "execution_count": 10,
   "metadata": {
    "collapsed": false,
    "hidden": true
   },
   "outputs": [],
   "source": [
    "NET_SPACE = {\n",
    "    'nb_layers': {'lb': 1, 'ub': 3, 'mutate': 0.15},\n",
    "    'lr': {'lb': 0.001, 'ub':0.1, 'mutate': 0.15},\n",
    "    'weight_decay': {'lb': 0.00001, 'ub': 0.0004, 'mutate':0.2},\n",
    "    'optimizer': {'func': ['sgd', 'adam', 'adadelta','rmsprop'], 'mutate': 0.2}\n",
    "}"
   ]
  },
  {
   "cell_type": "markdown",
   "metadata": {
    "heading_collapsed": true
   },
   "source": [
    "# Randomise network"
   ]
  },
  {
   "cell_type": "code",
   "execution_count": 11,
   "metadata": {
    "collapsed": true,
    "hidden": true
   },
   "outputs": [],
   "source": [
    "def random_value(space):\n",
    "    \"\"\"Returns random value from space.\"\"\"\n",
    "    \n",
    "    val = None\n",
    "    \n",
    "    if 'func' in space: #randomise optimiser or activation function\n",
    "        val = random.sample(space['func'], 1)[0] \n",
    "    \n",
    "    elif isinstance(space['lb'], int): #randomise number of units or layers\n",
    "        val = random.randint(space['lb'], space['ub'])\n",
    "    \n",
    "    else: #randomise percentages, i.e. dropout rates or weight decay\n",
    "        val = random.random() * (space['ub'] - space['lb']) + space['lb']\n",
    "    \n",
    "    return val"
   ]
  },
  {
   "cell_type": "code",
   "execution_count": 12,
   "metadata": {
    "collapsed": true,
    "hidden": true
   },
   "outputs": [],
   "source": [
    "def randomize_network(layer_space, net_space): \n",
    "    \"\"\"Returns a randomised neural network\"\"\"\n",
    "    net = {}\n",
    "    \n",
    "    for key in net_space.keys():\n",
    "        net[key] = random_value(net_space[key])\n",
    "        \n",
    "    layers = []\n",
    "    \n",
    "    for i in range(net['nb_layers']):\n",
    "        layer = {}\n",
    "        for key in layer_space.keys():\n",
    "            layer[key] = random_value(layer_space[key])\n",
    "        layers.append(layer)\n",
    "        net['layers'] = layers\n",
    "        \n",
    "    return net"
   ]
  },
  {
   "cell_type": "code",
   "execution_count": 13,
   "metadata": {
    "collapsed": false,
    "hidden": true,
    "scrolled": true
   },
   "outputs": [
    {
     "data": {
      "text/plain": [
       "{'layers': [{'activation': 'elu',\n",
       "   'dropout_rate': 0.1694015325787908,\n",
       "   'nb_units': 171},\n",
       "  {'activation': 'relu',\n",
       "   'dropout_rate': 0.09748066163252285,\n",
       "   'nb_units': 2000},\n",
       "  {'activation': 'relu',\n",
       "   'dropout_rate': 0.46349663176608635,\n",
       "   'nb_units': 1558}],\n",
       " 'lr': 0.08417565265630365,\n",
       " 'nb_layers': 3,\n",
       " 'optimizer': 'adam',\n",
       " 'weight_decay': 0.00019268651272456494}"
      ]
     },
     "execution_count": 13,
     "metadata": {},
     "output_type": "execute_result"
    }
   ],
   "source": [
    "randomize_network(LAYER_SPACE, NET_SPACE)"
   ]
  },
  {
   "cell_type": "markdown",
   "metadata": {
    "heading_collapsed": true
   },
   "source": [
    "# Mutate network"
   ]
  },
  {
   "cell_type": "code",
   "execution_count": 14,
   "metadata": {
    "collapsed": true,
    "hidden": true
   },
   "outputs": [],
   "source": [
    "def mutate_net(nnet, layer_space, net_space):\n",
    "    \n",
    "    net = copy.deepcopy(nnet)\n",
    "    \n",
    "    \n",
    "    # mutate optimizer\n",
    "    for k in ['lr', 'weight_decay', 'optimizer']:\n",
    "        if random.random() < net_space[k]['mutate']:\n",
    "            net[k] = random_value(net_space[k])\n",
    "    \n",
    "    \n",
    "    # mutate layers\n",
    "    for layer in net['layers']:\n",
    "        for k in layer_space.keys():\n",
    "            if random.random() < layer_space[k]['mutate']:\n",
    "                layer[k] = random_value(layer_space[k])\n",
    "                \n",
    "                \n",
    "    # mutate number of layers -- 50% add 50% remove\n",
    "    if random.random() < net_space['nb_layers']['mutate']:\n",
    "        if net['nb_layers'] <= net_space['nb_layers']['ub']:\n",
    "            if random.random()< 0.5 and \\\n",
    "            net['nb_layers'] < net_space['nb_layers']['ub']:\n",
    "                layer = {}\n",
    "                for key in layer_space.keys():\n",
    "                    layer[key] = random_value(layer_space[key])\n",
    "                net['layers'].append(layer)      \n",
    "            else:\n",
    "                if net['nb_layers'] > 1:\n",
    "                    net['layers'].pop()\n",
    "\n",
    "                \n",
    "            # value & id update\n",
    "            net['nb_layers'] = len(net['layers'])         \n",
    "            \n",
    "    return net"
   ]
  },
  {
   "cell_type": "markdown",
   "metadata": {
    "heading_collapsed": true
   },
   "source": [
    "# NetBuilder"
   ]
  },
  {
   "cell_type": "code",
   "execution_count": 15,
   "metadata": {
    "collapsed": true,
    "hidden": true
   },
   "outputs": [],
   "source": [
    "class Flatten(nn.Module):\n",
    "    \"\"\"Flattens input to vector size (batchsize, 1)\n",
    "    (for use in NetFromBuildInfo).\"\"\"\n",
    "\n",
    "    def __init__(self):\n",
    "        super(Flatten, self).__init__()\n",
    "\n",
    "    def forward(self, x):\n",
    "        return x.view(x.size(0), -1)"
   ]
  },
  {
   "cell_type": "code",
   "execution_count": 16,
   "metadata": {
    "collapsed": true,
    "hidden": true
   },
   "outputs": [],
   "source": [
    "class NetFromBuildInfo(nn.Module):\n",
    "    def __init__(self, build_info):\n",
    "        super(NetFromBuildInfo, self).__init__()\n",
    "        \n",
    "        self.activation_dict = {\n",
    "            'tanh': nn.Tanh(),\n",
    "            'relu': nn.ReLU(),\n",
    "            'sigmoid': nn.Sigmoid(),\n",
    "            'elu': nn.ELU()\n",
    "            }\n",
    "\n",
    "        #NETWORK DEFINITION\n",
    "        \n",
    "        previous_units = 28 * 28 #MNIST shape\n",
    "        \n",
    "        self.model = nn.Sequential()\n",
    "        self.model.add_module('flatten', Flatten())\n",
    "         \n",
    "        for i, layer_info in enumerate(build_info['layers']):\n",
    "            i = str(i)\n",
    "            \n",
    "            self.model.add_module(\n",
    "                'fc_' + i,\n",
    "                nn.Linear(previous_units, layer_info['nb_units'])\n",
    "                )\n",
    "            \n",
    "            previous_units = layer_info['nb_units']\n",
    "            \n",
    "            self.model.add_module(\n",
    "                'dropout_' + i,\n",
    "                nn.Dropout(p=layer_info['dropout_rate'])\n",
    "                )\n",
    "            if layer_info['activation'] == 'linear':\n",
    "                continue #linear activation is identity function\n",
    "            self.model.add_module(\n",
    "                layer_info['activation']+ i,\n",
    "                self.activation_dict[layer_info['activation']])\n",
    "\n",
    "        self.model.add_module(\n",
    "            'logits',\n",
    "            nn.Linear(previous_units, 10) #10 MNIST classes\n",
    "            )\n",
    "        \n",
    "        \n",
    "        ##OPTIMIZER\n",
    "\n",
    "        self.opt_args = {#'params': self.model.parameters(),\n",
    "                 'weight_decay': build_info['weight_decay'],\n",
    "                 'lr': build_info['lr']\n",
    "                 }\n",
    "        \n",
    "        self.optimizer_dict = {\n",
    "            'adam': optim.Adam(self.model.parameters(),**self.opt_args),\n",
    "            'rmsprop': optim.RMSprop(self.model.parameters(),**self.opt_args),\n",
    "            'adadelta':optim.Adadelta(self.model.parameters(),**self.opt_args),\n",
    "            'sgd': optim.SGD(self.model.parameters(), **self.opt_args, momentum=0.9) #momentum to train faster\n",
    "            }\n",
    "\n",
    "        self.optimizer = self.optimizer_dict[build_info['optimizer']]\n",
    "        \n",
    "        \n",
    "    def forward(self, x):\n",
    "        x = self.model(x)\n",
    "        return F.log_softmax(x, dim=1)"
   ]
  },
  {
   "cell_type": "code",
   "execution_count": 17,
   "metadata": {
    "collapsed": true,
    "hidden": true
   },
   "outputs": [],
   "source": [
    "def count_parameters(model):\n",
    "    return sum(p.numel() for p in model.parameters() if p.requires_grad)"
   ]
  },
  {
   "cell_type": "markdown",
   "metadata": {
    "heading_collapsed": true
   },
   "source": [
    "# Train test helpers"
   ]
  },
  {
   "cell_type": "code",
   "execution_count": 18,
   "metadata": {
    "collapsed": true,
    "hidden": true
   },
   "outputs": [],
   "source": [
    "def train(model, train_loader, optimizer, epoch):\n",
    "    \n",
    "    model.train(True)\n",
    "    \n",
    "    running_loss = 0.0\n",
    "    \n",
    "    for batch_idx, (data, target) in enumerate(train_loader):\n",
    "        \n",
    "        data, target = Variable(data.cuda()), Variable(target.cuda())\n",
    "        optimizer.zero_grad()\n",
    "        output = model(data)\n",
    "        loss = F.nll_loss(output, target)\n",
    "        loss.backward() \n",
    "        optimizer.step()\n",
    "        running_loss += loss.item()\n",
    "\n",
    "    running_loss /= len(train_loader.dataset)    \n",
    "    \n",
    "    if epoch % 4 == 0:\n",
    "        print('Train Epoch: {} \\t Loss: {:.6f}'.format(epoch, running_loss ))"
   ]
  },
  {
   "cell_type": "code",
   "execution_count": 19,
   "metadata": {
    "collapsed": true,
    "hidden": true
   },
   "outputs": [],
   "source": [
    "def test(model, test_loader):\n",
    "    \n",
    "    model.train(False)\n",
    "    \n",
    "    test_loss = 0\n",
    "    correct = 0\n",
    "    \n",
    "    with torch.no_grad():\n",
    "        \n",
    "        for data, target in test_loader:\n",
    "            \n",
    "            data, target = data.cuda(), target.cuda()\n",
    "            output = model(data)\n",
    "            \n",
    "            test_loss += F.nll_loss(output, target, size_average=False).item()\n",
    "            \n",
    "            pred = output.max(1, keepdim=True)[1] # get the index of the max log-probability\n",
    "            correct += pred.eq(target.view_as(pred)).sum().item()\n",
    "\n",
    "    test_loss /= len(test_loader.dataset)\n",
    "    \n",
    "    \n",
    "    return (test_loss, correct)"
   ]
  },
  {
   "cell_type": "markdown",
   "metadata": {
    "heading_collapsed": true
   },
   "source": [
    "# Evolution optimiser"
   ]
  },
  {
   "cell_type": "code",
   "execution_count": 20,
   "metadata": {
    "collapsed": false,
    "hidden": true
   },
   "outputs": [],
   "source": [
    "class TournamentOptimizer:\n",
    "    \"\"\"Define a tournament play selection process.\"\"\"\n",
    "\n",
    "    def __init__(self, population_sz, layer_space, net_space, init_fn, mutate_fn, builder_fn,\n",
    "                 train_fn, test_fn, data_loader, test_loader, adversarial_loader):\n",
    "        \n",
    "        self.init_fn = init_fn\n",
    "        self.layer_space = layer_space\n",
    "        self.net_space = net_space\n",
    "        self.mutate_fn = mutate_fn\n",
    "        self.builder_fn = builder_fn\n",
    "        self.train = train_fn\n",
    "        self.test = test_fn\n",
    "        self.dataloader = data_loader\n",
    "        self.testloader = test_loader\n",
    "        self.population_sz = population_sz\n",
    "        self.adversarials = adversarial_loader\n",
    "        \n",
    "        torch.manual_seed(1);\n",
    "        \n",
    "        self.genomes = [init_fn(self.layer_space, self.net_space) for i in range(population_sz)]   \n",
    "        self.population = [NetFromBuildInfo(i).cuda() for i in self.genomes] #randomize population of nets     \n",
    "        \n",
    "        self.test_results = {} \n",
    "        self.genome_history = {} \n",
    "\n",
    "        self.generation = 0\n",
    "\n",
    "    def step(self, generations=1, save=True, phone=False):\n",
    "        \"\"\"Tournament evolution step.\"\"\"\n",
    "\n",
    "        for _ in tnrange(generations, desc='Overall progress'): #tqdm progress bar\n",
    "            genome_holder = [] \n",
    "\n",
    "            self.generation += 1\n",
    "\n",
    "            self.genome_history[self.generation] = self.genomes\n",
    "\n",
    "            self.train_nets(save=save)\n",
    "            self.evaluate_nets()\n",
    "\n",
    "            mean = np.mean(self.test_results[self.generation]['correct'])\n",
    "            best = np.max(self.test_results[self.generation]['correct'])\n",
    "\n",
    "            tqdm.write('Generation {} Population mean:{} max:{}'\n",
    "                       .format(self.generation, mean, best))\n",
    "            \n",
    "            if phone: #update via telegram\n",
    "                requests.post(\"https://api.telegram.org/bot{}/\"\n",
    "                  \"sendMessage\".format(BOT_TOKEN), \n",
    "                  data={'chat_id': '{}'.format(CHANNEL),\n",
    "                    'text':'Generation {} completed \\n'\n",
    "                        'Population mean: {} max: {}'\n",
    "                        .format(self.generation, mean, best)})\n",
    "\n",
    "\n",
    "            children = []\n",
    "            n_elite = 2\n",
    "            sorted_pop = np.argsort(self.test_results[self.generation]['correct'])[::-1]\n",
    "            elite = sorted_pop[:n_elite]\n",
    "\n",
    "\n",
    "\n",
    "            # elites always included in the next population\n",
    "            self.elite = []\n",
    "            print('\\nTop performers:')\n",
    "            for no, i in enumerate(elite):\n",
    "                self.elite.append((self.test_results[self.generation]['correct'][i], \n",
    "                                   self.population[i]))    \n",
    "\n",
    "                genome_holder.append(self.genomes[i])\n",
    "\n",
    "                tqdm.write(\"{}: score:{}\".format(no,\n",
    "                            self.test_results[self.generation]['correct'][i]))   \n",
    "\n",
    "                children.append(self.population[i])\n",
    "\n",
    "\n",
    "\n",
    "            #https://stackoverflow.com/questions/31933784/tournament-selection-in-genetic-algorithm\n",
    "            p = 0.85 # winner probability \n",
    "            tournament_size = 3\n",
    "            probs = [p*((1-p)**i) for i in range(tournament_size-1)]\n",
    "            probs.append(1-np.sum(probs))\n",
    "            #probs = [0.85, 0.1275, 0.0224]\n",
    "\n",
    "            while len(children) < self.population_sz:\n",
    "                pop = range(len(self.population))\n",
    "                sel_k = random.sample(pop, k=tournament_size)\n",
    "                fitness_k = list(np.array(self.test_results[self.generation]['correct'])[sel_k])\n",
    "                selected = zip(sel_k, fitness_k)\n",
    "                rank = sorted(selected, key=itemgetter(1), reverse=True)\n",
    "                pick = np.random.choice(tournament_size, size=1, p=probs)[0]\n",
    "                best = rank[pick][0]\n",
    "                genome = self.mutate_fn(self.genomes[best], self.layer_space, self.net_space)\n",
    "\n",
    "                genome_holder.append(genome)\n",
    "                model =  self.builder_fn(genome).cuda()\n",
    "                children.append(model)\n",
    "\n",
    "                    \n",
    "            self.population = children\n",
    "            self.genomes = genome_holder\n",
    "\n",
    "        \n",
    "    def train_nets(self, save=True):\n",
    "        \"\"\"trains population of nets\"\"\"\n",
    "         \n",
    "        for i, net in enumerate(tqdm_notebook(self.population)):\n",
    "            for epoch in range(1, 4):\n",
    "                torch.manual_seed(1);\n",
    "                self.train(net, self.dataloader, net.optimizer, epoch)\n",
    "                \n",
    "            if save:\n",
    "                fp = r\"D:\\Models\\NeuroEvolution/{}-{}\".format(self.generation, i)\n",
    "                torch.save(net.state_dict(), fp)\n",
    "                \n",
    "                \n",
    "    def evaluate_nets(self):\n",
    "        \"\"\"evaluate the models.\"\"\"\n",
    "        \n",
    "        losses = []\n",
    "        corrects = []\n",
    "        clean_corrects = []\n",
    "        \n",
    "        self.test_results[self.generation] = {}\n",
    "        \n",
    "        for i in range(len(self.population)):\n",
    "            net = self.population[i]\n",
    "            loss, correct = self.test(net, self.adversarials) \n",
    "            _, clean_correct = self.test(net, self.testloader)\n",
    "            \n",
    "            losses.append(loss)\n",
    "            corrects.append(correct)\n",
    "            clean_corrects.append(clean_correct)\n",
    "        \n",
    "        self.test_results[self.generation]['losses'] = losses\n",
    "        self.test_results[self.generation]['correct'] = corrects\n",
    "        self.test_results[self.generation]['clean_correct'] = clean_corrects"
   ]
  },
  {
   "cell_type": "markdown",
   "metadata": {},
   "source": [
    "# Run "
   ]
  },
  {
   "cell_type": "code",
   "execution_count": 30,
   "metadata": {
    "collapsed": false
   },
   "outputs": [],
   "source": [
    "testing = TournamentOptimizer(30, LAYER_SPACE, NET_SPACE, randomize_network, \n",
    "                           mutate_net, NetFromBuildInfo, train, test,\n",
    "                          train_loader, test_loader, adversarial_loader)"
   ]
  },
  {
   "cell_type": "code",
   "execution_count": 31,
   "metadata": {
    "collapsed": false
   },
   "outputs": [
    {
     "name": "stderr",
     "output_type": "stream",
     "text": [
      "Widget Javascript not detected.  It may not be installed properly. Did you enable the widgetsnbextension? If not, then run \"jupyter nbextension enable --py --sys-prefix widgetsnbextension\"\n",
      "Widget Javascript not detected.  It may not be installed properly. Did you enable the widgetsnbextension? If not, then run \"jupyter nbextension enable --py --sys-prefix widgetsnbextension\"\n"
     ]
    },
    {
     "name": "stdout",
     "output_type": "stream",
     "text": [
      "Generation 1 Population mean:3003.266666666667 max:5713\n",
      "\n",
      "Top performers:\n",
      "0: score:5713\n",
      "1: score:5313\n"
     ]
    },
    {
     "name": "stderr",
     "output_type": "stream",
     "text": [
      "Widget Javascript not detected.  It may not be installed properly. Did you enable the widgetsnbextension? If not, then run \"jupyter nbextension enable --py --sys-prefix widgetsnbextension\"\n"
     ]
    },
    {
     "name": "stdout",
     "output_type": "stream",
     "text": [
      "Generation 2 Population mean:4383.966666666666 max:6089\n",
      "\n",
      "Top performers:\n",
      "0: score:6089\n",
      "1: score:5779\n"
     ]
    },
    {
     "name": "stderr",
     "output_type": "stream",
     "text": [
      "Widget Javascript not detected.  It may not be installed properly. Did you enable the widgetsnbextension? If not, then run \"jupyter nbextension enable --py --sys-prefix widgetsnbextension\"\n"
     ]
    },
    {
     "name": "stdout",
     "output_type": "stream",
     "text": [
      "Generation 3 Population mean:4797.8 max:6296\n",
      "\n",
      "Top performers:\n",
      "0: score:6296\n",
      "1: score:6028\n"
     ]
    },
    {
     "name": "stderr",
     "output_type": "stream",
     "text": [
      "Widget Javascript not detected.  It may not be installed properly. Did you enable the widgetsnbextension? If not, then run \"jupyter nbextension enable --py --sys-prefix widgetsnbextension\"\n"
     ]
    },
    {
     "name": "stdout",
     "output_type": "stream",
     "text": [
      "Generation 4 Population mean:4845.766666666666 max:6407\n",
      "\n",
      "Top performers:\n",
      "0: score:6407\n",
      "1: score:6042\n"
     ]
    },
    {
     "name": "stderr",
     "output_type": "stream",
     "text": [
      "Widget Javascript not detected.  It may not be installed properly. Did you enable the widgetsnbextension? If not, then run \"jupyter nbextension enable --py --sys-prefix widgetsnbextension\"\n"
     ]
    },
    {
     "name": "stdout",
     "output_type": "stream",
     "text": [
      "Generation 5 Population mean:4927.466666666666 max:6496\n",
      "\n",
      "Top performers:\n",
      "0: score:6496\n",
      "1: score:6415\n"
     ]
    },
    {
     "name": "stderr",
     "output_type": "stream",
     "text": [
      "Widget Javascript not detected.  It may not be installed properly. Did you enable the widgetsnbextension? If not, then run \"jupyter nbextension enable --py --sys-prefix widgetsnbextension\"\n"
     ]
    },
    {
     "name": "stdout",
     "output_type": "stream",
     "text": [
      "Generation 6 Population mean:5463.8 max:6591\n",
      "\n",
      "Top performers:\n",
      "0: score:6591\n",
      "1: score:6559\n"
     ]
    },
    {
     "name": "stderr",
     "output_type": "stream",
     "text": [
      "Widget Javascript not detected.  It may not be installed properly. Did you enable the widgetsnbextension? If not, then run \"jupyter nbextension enable --py --sys-prefix widgetsnbextension\"\n"
     ]
    },
    {
     "name": "stdout",
     "output_type": "stream",
     "text": [
      "Generation 7 Population mean:5165.066666666667 max:6655\n",
      "\n",
      "Top performers:\n",
      "0: score:6655\n",
      "1: score:6614\n"
     ]
    },
    {
     "name": "stderr",
     "output_type": "stream",
     "text": [
      "Widget Javascript not detected.  It may not be installed properly. Did you enable the widgetsnbextension? If not, then run \"jupyter nbextension enable --py --sys-prefix widgetsnbextension\"\n"
     ]
    },
    {
     "name": "stdout",
     "output_type": "stream",
     "text": [
      "Generation 8 Population mean:5223.933333333333 max:6673\n",
      "\n",
      "Top performers:\n",
      "0: score:6673\n",
      "1: score:6634\n"
     ]
    },
    {
     "name": "stderr",
     "output_type": "stream",
     "text": [
      "Widget Javascript not detected.  It may not be installed properly. Did you enable the widgetsnbextension? If not, then run \"jupyter nbextension enable --py --sys-prefix widgetsnbextension\"\n"
     ]
    },
    {
     "name": "stdout",
     "output_type": "stream",
     "text": [
      "Generation 9 Population mean:5344.6 max:6683\n",
      "\n",
      "Top performers:\n",
      "0: score:6683\n",
      "1: score:6662\n"
     ]
    },
    {
     "name": "stderr",
     "output_type": "stream",
     "text": [
      "Widget Javascript not detected.  It may not be installed properly. Did you enable the widgetsnbextension? If not, then run \"jupyter nbextension enable --py --sys-prefix widgetsnbextension\"\n"
     ]
    },
    {
     "name": "stdout",
     "output_type": "stream",
     "text": [
      "Generation 10 Population mean:5080.133333333333 max:6691\n",
      "\n",
      "Top performers:\n",
      "0: score:6691\n",
      "1: score:6676\n"
     ]
    },
    {
     "name": "stderr",
     "output_type": "stream",
     "text": [
      "Widget Javascript not detected.  It may not be installed properly. Did you enable the widgetsnbextension? If not, then run \"jupyter nbextension enable --py --sys-prefix widgetsnbextension\"\n"
     ]
    },
    {
     "name": "stdout",
     "output_type": "stream",
     "text": [
      "Generation 11 Population mean:5440.633333333333 max:6703\n",
      "\n",
      "Top performers:\n",
      "0: score:6703\n",
      "1: score:6693\n"
     ]
    },
    {
     "name": "stderr",
     "output_type": "stream",
     "text": [
      "Widget Javascript not detected.  It may not be installed properly. Did you enable the widgetsnbextension? If not, then run \"jupyter nbextension enable --py --sys-prefix widgetsnbextension\"\n"
     ]
    },
    {
     "name": "stdout",
     "output_type": "stream",
     "text": [
      "Generation 12 Population mean:5392.966666666666 max:6709\n",
      "\n",
      "Top performers:\n",
      "0: score:6709\n",
      "1: score:6707\n"
     ]
    },
    {
     "name": "stderr",
     "output_type": "stream",
     "text": [
      "Widget Javascript not detected.  It may not be installed properly. Did you enable the widgetsnbextension? If not, then run \"jupyter nbextension enable --py --sys-prefix widgetsnbextension\"\n"
     ]
    },
    {
     "name": "stdout",
     "output_type": "stream",
     "text": [
      "Generation 13 Population mean:5111.666666666667 max:6725\n",
      "\n",
      "Top performers:\n",
      "0: score:6725\n",
      "1: score:6717\n"
     ]
    },
    {
     "name": "stderr",
     "output_type": "stream",
     "text": [
      "Widget Javascript not detected.  It may not be installed properly. Did you enable the widgetsnbextension? If not, then run \"jupyter nbextension enable --py --sys-prefix widgetsnbextension\"\n"
     ]
    },
    {
     "name": "stdout",
     "output_type": "stream",
     "text": [
      "Generation 14 Population mean:4658.066666666667 max:6729\n",
      "\n",
      "Top performers:\n",
      "0: score:6729\n",
      "1: score:6717\n"
     ]
    },
    {
     "name": "stderr",
     "output_type": "stream",
     "text": [
      "Widget Javascript not detected.  It may not be installed properly. Did you enable the widgetsnbextension? If not, then run \"jupyter nbextension enable --py --sys-prefix widgetsnbextension\"\n"
     ]
    },
    {
     "name": "stdout",
     "output_type": "stream",
     "text": [
      "Generation 15 Population mean:5135.466666666666 max:6730\n",
      "\n",
      "Top performers:\n",
      "0: score:6730\n",
      "1: score:6716\n"
     ]
    },
    {
     "name": "stderr",
     "output_type": "stream",
     "text": [
      "Widget Javascript not detected.  It may not be installed properly. Did you enable the widgetsnbextension? If not, then run \"jupyter nbextension enable --py --sys-prefix widgetsnbextension\"\n"
     ]
    },
    {
     "name": "stdout",
     "output_type": "stream",
     "text": [
      "Generation 16 Population mean:5370.366666666667 max:6737\n",
      "\n",
      "Top performers:\n",
      "0: score:6737\n",
      "1: score:6729\n"
     ]
    },
    {
     "name": "stderr",
     "output_type": "stream",
     "text": [
      "Widget Javascript not detected.  It may not be installed properly. Did you enable the widgetsnbextension? If not, then run \"jupyter nbextension enable --py --sys-prefix widgetsnbextension\"\n"
     ]
    },
    {
     "name": "stdout",
     "output_type": "stream",
     "text": [
      "Generation 17 Population mean:5491.5 max:6734\n",
      "\n",
      "Top performers:\n",
      "0: score:6734\n",
      "1: score:6731\n"
     ]
    },
    {
     "name": "stderr",
     "output_type": "stream",
     "text": [
      "Widget Javascript not detected.  It may not be installed properly. Did you enable the widgetsnbextension? If not, then run \"jupyter nbextension enable --py --sys-prefix widgetsnbextension\"\n"
     ]
    },
    {
     "name": "stdout",
     "output_type": "stream",
     "text": [
      "Generation 18 Population mean:5423.966666666666 max:6739\n",
      "\n",
      "Top performers:\n",
      "0: score:6739\n",
      "1: score:6728\n"
     ]
    },
    {
     "name": "stderr",
     "output_type": "stream",
     "text": [
      "Widget Javascript not detected.  It may not be installed properly. Did you enable the widgetsnbextension? If not, then run \"jupyter nbextension enable --py --sys-prefix widgetsnbextension\"\n"
     ]
    },
    {
     "name": "stdout",
     "output_type": "stream",
     "text": [
      "Generation 19 Population mean:5103.9 max:6741\n",
      "\n",
      "Top performers:\n",
      "0: score:6741\n",
      "1: score:6740\n"
     ]
    },
    {
     "name": "stderr",
     "output_type": "stream",
     "text": [
      "Widget Javascript not detected.  It may not be installed properly. Did you enable the widgetsnbextension? If not, then run \"jupyter nbextension enable --py --sys-prefix widgetsnbextension\"\n"
     ]
    },
    {
     "name": "stdout",
     "output_type": "stream",
     "text": [
      "Generation 20 Population mean:4926.8 max:6743\n",
      "\n",
      "Top performers:\n",
      "0: score:6743\n",
      "1: score:6742\n"
     ]
    },
    {
     "name": "stderr",
     "output_type": "stream",
     "text": [
      "Widget Javascript not detected.  It may not be installed properly. Did you enable the widgetsnbextension? If not, then run \"jupyter nbextension enable --py --sys-prefix widgetsnbextension\"\n"
     ]
    },
    {
     "name": "stdout",
     "output_type": "stream",
     "text": [
      "Generation 21 Population mean:5606.5 max:6743\n",
      "\n",
      "Top performers:\n",
      "0: score:6743\n",
      "1: score:6741\n"
     ]
    },
    {
     "name": "stderr",
     "output_type": "stream",
     "text": [
      "Widget Javascript not detected.  It may not be installed properly. Did you enable the widgetsnbextension? If not, then run \"jupyter nbextension enable --py --sys-prefix widgetsnbextension\"\n"
     ]
    },
    {
     "name": "stdout",
     "output_type": "stream",
     "text": [
      "Generation 22 Population mean:5434.5 max:6749\n",
      "\n",
      "Top performers:\n",
      "0: score:6749\n",
      "1: score:6747\n"
     ]
    },
    {
     "name": "stderr",
     "output_type": "stream",
     "text": [
      "Widget Javascript not detected.  It may not be installed properly. Did you enable the widgetsnbextension? If not, then run \"jupyter nbextension enable --py --sys-prefix widgetsnbextension\"\n"
     ]
    },
    {
     "name": "stdout",
     "output_type": "stream",
     "text": [
      "Generation 23 Population mean:5232.566666666667 max:6755\n",
      "\n",
      "Top performers:\n",
      "0: score:6755\n",
      "1: score:6743\n"
     ]
    },
    {
     "name": "stderr",
     "output_type": "stream",
     "text": [
      "Widget Javascript not detected.  It may not be installed properly. Did you enable the widgetsnbextension? If not, then run \"jupyter nbextension enable --py --sys-prefix widgetsnbextension\"\n"
     ]
    },
    {
     "name": "stdout",
     "output_type": "stream",
     "text": [
      "Generation 24 Population mean:5224.866666666667 max:6751\n",
      "\n",
      "Top performers:\n",
      "0: score:6751\n",
      "1: score:6749\n"
     ]
    },
    {
     "name": "stderr",
     "output_type": "stream",
     "text": [
      "Widget Javascript not detected.  It may not be installed properly. Did you enable the widgetsnbextension? If not, then run \"jupyter nbextension enable --py --sys-prefix widgetsnbextension\"\n"
     ]
    },
    {
     "name": "stdout",
     "output_type": "stream",
     "text": [
      "Generation 25 Population mean:4620.0 max:6757\n",
      "\n",
      "Top performers:\n",
      "0: score:6757\n",
      "1: score:6752\n"
     ]
    },
    {
     "name": "stderr",
     "output_type": "stream",
     "text": [
      "Widget Javascript not detected.  It may not be installed properly. Did you enable the widgetsnbextension? If not, then run \"jupyter nbextension enable --py --sys-prefix widgetsnbextension\"\n"
     ]
    },
    {
     "name": "stdout",
     "output_type": "stream",
     "text": [
      "Generation 26 Population mean:5436.266666666666 max:6761\n",
      "\n",
      "Top performers:\n",
      "0: score:6761\n",
      "1: score:6749\n"
     ]
    },
    {
     "name": "stderr",
     "output_type": "stream",
     "text": [
      "Widget Javascript not detected.  It may not be installed properly. Did you enable the widgetsnbextension? If not, then run \"jupyter nbextension enable --py --sys-prefix widgetsnbextension\"\n"
     ]
    },
    {
     "name": "stdout",
     "output_type": "stream",
     "text": [
      "Generation 27 Population mean:5052.166666666667 max:6761\n",
      "\n",
      "Top performers:\n",
      "0: score:6761\n",
      "1: score:6746\n"
     ]
    },
    {
     "name": "stderr",
     "output_type": "stream",
     "text": [
      "Widget Javascript not detected.  It may not be installed properly. Did you enable the widgetsnbextension? If not, then run \"jupyter nbextension enable --py --sys-prefix widgetsnbextension\"\n"
     ]
    },
    {
     "name": "stdout",
     "output_type": "stream",
     "text": [
      "Generation 28 Population mean:5037.666666666667 max:6764\n",
      "\n",
      "Top performers:\n",
      "0: score:6764\n",
      "1: score:6742\n"
     ]
    },
    {
     "name": "stderr",
     "output_type": "stream",
     "text": [
      "Widget Javascript not detected.  It may not be installed properly. Did you enable the widgetsnbextension? If not, then run \"jupyter nbextension enable --py --sys-prefix widgetsnbextension\"\n"
     ]
    },
    {
     "name": "stdout",
     "output_type": "stream",
     "text": [
      "Generation 29 Population mean:4930.566666666667 max:6766\n",
      "\n",
      "Top performers:\n",
      "0: score:6766\n",
      "1: score:6741\n"
     ]
    },
    {
     "name": "stderr",
     "output_type": "stream",
     "text": [
      "Widget Javascript not detected.  It may not be installed properly. Did you enable the widgetsnbextension? If not, then run \"jupyter nbextension enable --py --sys-prefix widgetsnbextension\"\n"
     ]
    },
    {
     "name": "stdout",
     "output_type": "stream",
     "text": [
      "Generation 30 Population mean:5329.866666666667 max:6769\n",
      "\n",
      "Top performers:\n",
      "0: score:6769\n",
      "1: score:6745\n"
     ]
    },
    {
     "name": "stderr",
     "output_type": "stream",
     "text": [
      "Widget Javascript not detected.  It may not be installed properly. Did you enable the widgetsnbextension? If not, then run \"jupyter nbextension enable --py --sys-prefix widgetsnbextension\"\n"
     ]
    },
    {
     "name": "stdout",
     "output_type": "stream",
     "text": [
      "Generation 31 Population mean:4916.866666666667 max:6764\n",
      "\n",
      "Top performers:\n",
      "0: score:6764\n",
      "1: score:6751\n"
     ]
    },
    {
     "name": "stderr",
     "output_type": "stream",
     "text": [
      "Widget Javascript not detected.  It may not be installed properly. Did you enable the widgetsnbextension? If not, then run \"jupyter nbextension enable --py --sys-prefix widgetsnbextension\"\n"
     ]
    },
    {
     "name": "stdout",
     "output_type": "stream",
     "text": [
      "Generation 32 Population mean:4702.166666666667 max:6764\n",
      "\n",
      "Top performers:\n",
      "0: score:6764\n",
      "1: score:6750\n"
     ]
    },
    {
     "name": "stderr",
     "output_type": "stream",
     "text": [
      "Widget Javascript not detected.  It may not be installed properly. Did you enable the widgetsnbextension? If not, then run \"jupyter nbextension enable --py --sys-prefix widgetsnbextension\"\n"
     ]
    },
    {
     "name": "stdout",
     "output_type": "stream",
     "text": [
      "Generation 33 Population mean:4925.1 max:6766\n",
      "\n",
      "Top performers:\n",
      "0: score:6766\n",
      "1: score:6748\n"
     ]
    },
    {
     "name": "stderr",
     "output_type": "stream",
     "text": [
      "Widget Javascript not detected.  It may not be installed properly. Did you enable the widgetsnbextension? If not, then run \"jupyter nbextension enable --py --sys-prefix widgetsnbextension\"\n"
     ]
    },
    {
     "name": "stdout",
     "output_type": "stream",
     "text": [
      "Generation 34 Population mean:5064.933333333333 max:6763\n",
      "\n",
      "Top performers:\n",
      "0: score:6763\n",
      "1: score:6751\n"
     ]
    },
    {
     "name": "stderr",
     "output_type": "stream",
     "text": [
      "Widget Javascript not detected.  It may not be installed properly. Did you enable the widgetsnbextension? If not, then run \"jupyter nbextension enable --py --sys-prefix widgetsnbextension\"\n"
     ]
    },
    {
     "name": "stdout",
     "output_type": "stream",
     "text": [
      "Generation 35 Population mean:5246.0 max:6765\n",
      "\n",
      "Top performers:\n",
      "0: score:6765\n",
      "1: score:6749\n"
     ]
    },
    {
     "name": "stderr",
     "output_type": "stream",
     "text": [
      "Widget Javascript not detected.  It may not be installed properly. Did you enable the widgetsnbextension? If not, then run \"jupyter nbextension enable --py --sys-prefix widgetsnbextension\"\n"
     ]
    },
    {
     "name": "stdout",
     "output_type": "stream",
     "text": [
      "Generation 36 Population mean:5085.6 max:6763\n",
      "\n",
      "Top performers:\n",
      "0: score:6763\n",
      "1: score:6750\n"
     ]
    },
    {
     "name": "stderr",
     "output_type": "stream",
     "text": [
      "Widget Javascript not detected.  It may not be installed properly. Did you enable the widgetsnbextension? If not, then run \"jupyter nbextension enable --py --sys-prefix widgetsnbextension\"\n"
     ]
    },
    {
     "name": "stdout",
     "output_type": "stream",
     "text": [
      "Generation 37 Population mean:5367.9 max:6764\n",
      "\n",
      "Top performers:\n",
      "0: score:6764\n",
      "1: score:6752\n"
     ]
    },
    {
     "name": "stderr",
     "output_type": "stream",
     "text": [
      "Widget Javascript not detected.  It may not be installed properly. Did you enable the widgetsnbextension? If not, then run \"jupyter nbextension enable --py --sys-prefix widgetsnbextension\"\n"
     ]
    },
    {
     "name": "stdout",
     "output_type": "stream",
     "text": [
      "Generation 38 Population mean:4881.833333333333 max:6767\n",
      "\n",
      "Top performers:\n",
      "0: score:6767\n",
      "1: score:6759\n"
     ]
    },
    {
     "name": "stderr",
     "output_type": "stream",
     "text": [
      "Widget Javascript not detected.  It may not be installed properly. Did you enable the widgetsnbextension? If not, then run \"jupyter nbextension enable --py --sys-prefix widgetsnbextension\"\n"
     ]
    },
    {
     "name": "stdout",
     "output_type": "stream",
     "text": [
      "Generation 39 Population mean:4949.6 max:6763\n",
      "\n",
      "Top performers:\n",
      "0: score:6763\n",
      "1: score:6759\n"
     ]
    },
    {
     "name": "stderr",
     "output_type": "stream",
     "text": [
      "Widget Javascript not detected.  It may not be installed properly. Did you enable the widgetsnbextension? If not, then run \"jupyter nbextension enable --py --sys-prefix widgetsnbextension\"\n"
     ]
    },
    {
     "name": "stdout",
     "output_type": "stream",
     "text": [
      "Generation 40 Population mean:5299.333333333333 max:6763\n",
      "\n",
      "Top performers:\n",
      "0: score:6763\n",
      "1: score:6756\n"
     ]
    },
    {
     "name": "stderr",
     "output_type": "stream",
     "text": [
      "Widget Javascript not detected.  It may not be installed properly. Did you enable the widgetsnbextension? If not, then run \"jupyter nbextension enable --py --sys-prefix widgetsnbextension\"\n"
     ]
    },
    {
     "name": "stdout",
     "output_type": "stream",
     "text": [
      "Generation 41 Population mean:4957.033333333334 max:6768\n",
      "\n",
      "Top performers:\n",
      "0: score:6768\n",
      "1: score:6757\n"
     ]
    },
    {
     "name": "stderr",
     "output_type": "stream",
     "text": [
      "Widget Javascript not detected.  It may not be installed properly. Did you enable the widgetsnbextension? If not, then run \"jupyter nbextension enable --py --sys-prefix widgetsnbextension\"\n"
     ]
    },
    {
     "name": "stdout",
     "output_type": "stream",
     "text": [
      "Generation 42 Population mean:5441.933333333333 max:6769\n",
      "\n",
      "Top performers:\n",
      "0: score:6769\n",
      "1: score:6756\n"
     ]
    },
    {
     "name": "stderr",
     "output_type": "stream",
     "text": [
      "Widget Javascript not detected.  It may not be installed properly. Did you enable the widgetsnbextension? If not, then run \"jupyter nbextension enable --py --sys-prefix widgetsnbextension\"\n"
     ]
    },
    {
     "name": "stdout",
     "output_type": "stream",
     "text": [
      "Generation 43 Population mean:5556.8 max:6775\n",
      "\n",
      "Top performers:\n",
      "0: score:6775\n",
      "1: score:6758\n"
     ]
    },
    {
     "name": "stderr",
     "output_type": "stream",
     "text": [
      "Widget Javascript not detected.  It may not be installed properly. Did you enable the widgetsnbextension? If not, then run \"jupyter nbextension enable --py --sys-prefix widgetsnbextension\"\n"
     ]
    },
    {
     "name": "stdout",
     "output_type": "stream",
     "text": [
      "Generation 44 Population mean:4949.833333333333 max:6766\n",
      "\n",
      "Top performers:\n",
      "0: score:6766\n",
      "1: score:6761\n"
     ]
    },
    {
     "name": "stderr",
     "output_type": "stream",
     "text": [
      "Widget Javascript not detected.  It may not be installed properly. Did you enable the widgetsnbextension? If not, then run \"jupyter nbextension enable --py --sys-prefix widgetsnbextension\"\n"
     ]
    },
    {
     "name": "stdout",
     "output_type": "stream",
     "text": [
      "Generation 45 Population mean:5366.3 max:6771\n",
      "\n",
      "Top performers:\n",
      "0: score:6771\n",
      "1: score:6760\n"
     ]
    },
    {
     "name": "stderr",
     "output_type": "stream",
     "text": [
      "Widget Javascript not detected.  It may not be installed properly. Did you enable the widgetsnbextension? If not, then run \"jupyter nbextension enable --py --sys-prefix widgetsnbextension\"\n"
     ]
    },
    {
     "name": "stdout",
     "output_type": "stream",
     "text": [
      "Generation 46 Population mean:5027.633333333333 max:6771\n",
      "\n",
      "Top performers:\n",
      "0: score:6771\n",
      "1: score:6763\n"
     ]
    },
    {
     "name": "stderr",
     "output_type": "stream",
     "text": [
      "Widget Javascript not detected.  It may not be installed properly. Did you enable the widgetsnbextension? If not, then run \"jupyter nbextension enable --py --sys-prefix widgetsnbextension\"\n"
     ]
    },
    {
     "name": "stdout",
     "output_type": "stream",
     "text": [
      "Generation 47 Population mean:5015.333333333333 max:6774\n",
      "\n",
      "Top performers:\n",
      "0: score:6774\n",
      "1: score:6770\n"
     ]
    },
    {
     "name": "stderr",
     "output_type": "stream",
     "text": [
      "Widget Javascript not detected.  It may not be installed properly. Did you enable the widgetsnbextension? If not, then run \"jupyter nbextension enable --py --sys-prefix widgetsnbextension\"\n"
     ]
    },
    {
     "name": "stdout",
     "output_type": "stream",
     "text": [
      "Generation 48 Population mean:5698.633333333333 max:6770\n",
      "\n",
      "Top performers:\n",
      "0: score:6770\n",
      "1: score:6769\n"
     ]
    },
    {
     "name": "stderr",
     "output_type": "stream",
     "text": [
      "Widget Javascript not detected.  It may not be installed properly. Did you enable the widgetsnbextension? If not, then run \"jupyter nbextension enable --py --sys-prefix widgetsnbextension\"\n"
     ]
    },
    {
     "name": "stdout",
     "output_type": "stream",
     "text": [
      "Generation 49 Population mean:5441.5 max:6771\n",
      "\n",
      "Top performers:\n",
      "0: score:6771\n",
      "1: score:6765\n"
     ]
    },
    {
     "name": "stderr",
     "output_type": "stream",
     "text": [
      "Widget Javascript not detected.  It may not be installed properly. Did you enable the widgetsnbextension? If not, then run \"jupyter nbextension enable --py --sys-prefix widgetsnbextension\"\n"
     ]
    },
    {
     "name": "stdout",
     "output_type": "stream",
     "text": [
      "Generation 50 Population mean:5382.666666666667 max:6773\n",
      "\n",
      "Top performers:\n",
      "0: score:6773\n",
      "1: score:6770\n",
      "\n"
     ]
    }
   ],
   "source": [
    "testing.step(generations=50, save=True, phone=True)"
   ]
  },
  {
   "cell_type": "code",
   "execution_count": 23,
   "metadata": {
    "collapsed": false,
    "scrolled": true
   },
   "outputs": [
    {
     "data": {
      "text/plain": [
       "{1: {'clean_correct': [8785, 8963],\n",
       "  'correct': [5128, 3028],\n",
       "  'losses': [501942.16, 1.898473388671875]}}"
      ]
     },
     "execution_count": 23,
     "metadata": {},
     "output_type": "execute_result"
    }
   ],
   "source": [
    "testing.test_results"
   ]
  },
  {
   "cell_type": "markdown",
   "metadata": {},
   "source": [
    "# Progress plots"
   ]
  },
  {
   "cell_type": "markdown",
   "metadata": {},
   "source": [
    "## Plot func "
   ]
  },
  {
   "cell_type": "code",
   "execution_count": 34,
   "metadata": {
    "collapsed": false
   },
   "outputs": [],
   "source": [
    "def progressplotter(optimizer, clean=False):\n",
    "    \n",
    "    if clean:\n",
    "        dataset = 'clean_correct'\n",
    "    else:\n",
    "        dataset = 'correct'\n",
    "    \n",
    "    means = []\n",
    "    \n",
    "    fig = plt.figure(figsize=(20,10))\n",
    "    ax = fig.add_subplot(111)\n",
    "    \n",
    "    gens = range(len(optimizer.test_results))\n",
    "    popsize = len(optimizer.test_results[1][dataset])\n",
    "    \n",
    "    for i in gens:\n",
    "        ax.scatter([i for j in range(popsize)], optimizer.test_results[i+1][dataset])\n",
    "        mean = np.mean(optimizer.test_results[i+1][dataset])\n",
    "        means.append(mean)\n",
    "        ax.scatter(i, mean, c=1)\n",
    "        \n",
    "        if i == 0:\n",
    "            continue\n",
    "        plt.plot([i-1, i], [means[i-1], mean], c='black')\n",
    "        \n",
    "    ax.set_xticks(np.arange(0, len(means),1))\n",
    "    ax.set_xlabel('Generation')\n",
    "    ax.set_ylabel('Correct classifications')\n",
    "    \n",
    "    if clean:\n",
    "        ax.set_title('Accuracy on clean dataset')\n",
    "    else:\n",
    "        ax.set_title('Accuracy on adversarial dataset')\n",
    "    \n",
    "    for item in ([ax.title, ax.xaxis.label, ax.yaxis.label]):\n",
    "        item.set_fontsize(30)\n",
    "        \n",
    "    for item in (ax.get_xticklabels() + ax.get_yticklabels()):\n",
    "        item.set_fontsize(15)"
   ]
  },
  {
   "cell_type": "markdown",
   "metadata": {},
   "source": [
    "## Plots "
   ]
  },
  {
   "cell_type": "code",
   "execution_count": 35,
   "metadata": {
    "collapsed": false
   },
   "outputs": [
    {
     "data": {
      "image/png": "[encoded data removed]",
      "text/plain": [
       "<matplotlib.figure.Figure at 0x225f4821668>"
      ]
     },
     "metadata": {},
     "output_type": "display_data"
    }
   ],
   "source": [
    "progressplotter(testing, clean=True)"
   ]
  },
  {
   "cell_type": "code",
   "execution_count": 36,
   "metadata": {
    "collapsed": false,
    "scrolled": true
   },
   "outputs": [
    {
     "data": {
      "image/png": "[encoded data removed]",
      "text/plain": [
       "<matplotlib.figure.Figure at 0x225f4699588>"
      ]
     },
     "metadata": {},
     "output_type": "display_data"
    }
   ],
   "source": [
    "progressplotter(testing)"
   ]
  },
  {
   "cell_type": "code",
   "execution_count": 39,
   "metadata": {
    "collapsed": false
   },
   "outputs": [],
   "source": [
    "diff = {}\n",
    "for gen in testing.test_results:\n",
    "    diff[gen] = []\n",
    "    for i in range(len(testing.test_results[gen]['clean_correct'])):\n",
    "        clean = testing.test_results[gen]['clean_correct'][i]\n",
    "        adver = testing.test_results[gen]['correct'][i]\n",
    "        diff[gen].append(clean - adver)"
   ]
  },
  {
   "cell_type": "code",
   "execution_count": 40,
   "metadata": {
    "collapsed": false
   },
   "outputs": [
    {
     "data": {
      "text/plain": [
       "{1: [6093,\n",
       "  4508,\n",
       "  3488,\n",
       "  -61,\n",
       "  0,\n",
       "  0,\n",
       "  3216,\n",
       "  -90,\n",
       "  0,\n",
       "  4084,\n",
       "  -893,\n",
       "  -144,\n",
       "  522,\n",
       "  3859,\n",
       "  3483,\n",
       "  0,\n",
       "  6789,\n",
       "  3517,\n",
       "  0,\n",
       "  3714,\n",
       "  0,\n",
       "  130,\n",
       "  4324,\n",
       "  3877,\n",
       "  4390,\n",
       "  -14,\n",
       "  3883,\n",
       "  5,\n",
       "  3738,\n",
       "  158],\n",
       " 2: [3499,\n",
       "  3946,\n",
       "  3949,\n",
       "  3013,\n",
       "  3921,\n",
       "  -1333,\n",
       "  3890,\n",
       "  4035,\n",
       "  3878,\n",
       "  3891,\n",
       "  3864,\n",
       "  3311,\n",
       "  6038,\n",
       "  3400,\n",
       "  3846,\n",
       "  3700,\n",
       "  -197,\n",
       "  0,\n",
       "  4124,\n",
       "  2739,\n",
       "  3877,\n",
       "  4270,\n",
       "  3179,\n",
       "  4336,\n",
       "  3471,\n",
       "  3799,\n",
       "  3871,\n",
       "  4087,\n",
       "  18,\n",
       "  -554],\n",
       " 3: [3362,\n",
       "  3773,\n",
       "  3625,\n",
       "  3711,\n",
       "  4075,\n",
       "  3982,\n",
       "  -108,\n",
       "  3860,\n",
       "  3888,\n",
       "  3726,\n",
       "  3920,\n",
       "  4093,\n",
       "  8450,\n",
       "  3446,\n",
       "  3598,\n",
       "  3590,\n",
       "  -2788,\n",
       "  3717,\n",
       "  -529,\n",
       "  3796,\n",
       "  4931,\n",
       "  3814,\n",
       "  3429,\n",
       "  3814,\n",
       "  -3265,\n",
       "  3887,\n",
       "  313,\n",
       "  4543,\n",
       "  3638,\n",
       "  3487],\n",
       " 4: [3276,\n",
       "  3731,\n",
       "  4055,\n",
       "  3812,\n",
       "  3746,\n",
       "  2735,\n",
       "  4146,\n",
       "  3059,\n",
       "  3937,\n",
       "  -1008,\n",
       "  4000,\n",
       "  3835,\n",
       "  -515,\n",
       "  3722,\n",
       "  4111,\n",
       "  3616,\n",
       "  3742,\n",
       "  4306,\n",
       "  0,\n",
       "  -596,\n",
       "  3653,\n",
       "  4057,\n",
       "  3437,\n",
       "  6807,\n",
       "  3664,\n",
       "  3843,\n",
       "  3563,\n",
       "  3894,\n",
       "  4097,\n",
       "  3290],\n",
       " 5: [3201,\n",
       "  3190,\n",
       "  3645,\n",
       "  3773,\n",
       "  5582,\n",
       "  3744,\n",
       "  4023,\n",
       "  3513,\n",
       "  3102,\n",
       "  -428,\n",
       "  -79,\n",
       "  4184,\n",
       "  3584,\n",
       "  3509,\n",
       "  7233,\n",
       "  3213,\n",
       "  3541,\n",
       "  3826,\n",
       "  4775,\n",
       "  4480,\n",
       "  3819,\n",
       "  3837,\n",
       "  3591,\n",
       "  2812,\n",
       "  4229,\n",
       "  7361,\n",
       "  3786,\n",
       "  4007,\n",
       "  3935,\n",
       "  3507],\n",
       " 6: [3146,\n",
       "  3059,\n",
       "  -539,\n",
       "  3899,\n",
       "  3687,\n",
       "  3640,\n",
       "  3643,\n",
       "  3871,\n",
       "  3950,\n",
       "  3658,\n",
       "  3773,\n",
       "  3191,\n",
       "  3422,\n",
       "  3792,\n",
       "  4118,\n",
       "  3617,\n",
       "  3882,\n",
       "  3795,\n",
       "  3034,\n",
       "  3739,\n",
       "  3601,\n",
       "  3680,\n",
       "  3687,\n",
       "  3889,\n",
       "  5361,\n",
       "  3821,\n",
       "  3843,\n",
       "  3647,\n",
       "  3707,\n",
       "  3320],\n",
       " 7: [3019,\n",
       "  3098,\n",
       "  2958,\n",
       "  968,\n",
       "  3921,\n",
       "  3725,\n",
       "  5122,\n",
       "  3707,\n",
       "  -1840,\n",
       "  3841,\n",
       "  3510,\n",
       "  3659,\n",
       "  3922,\n",
       "  4196,\n",
       "  3506,\n",
       "  3401,\n",
       "  4532,\n",
       "  941,\n",
       "  -607,\n",
       "  3964,\n",
       "  3329,\n",
       "  3549,\n",
       "  3748,\n",
       "  3834,\n",
       "  319,\n",
       "  -1208,\n",
       "  3908,\n",
       "  3779,\n",
       "  3473,\n",
       "  4264],\n",
       " 8: [3020,\n",
       "  3079,\n",
       "  8602,\n",
       "  3746,\n",
       "  3856,\n",
       "  -176,\n",
       "  3742,\n",
       "  3668,\n",
       "  3862,\n",
       "  4183,\n",
       "  3746,\n",
       "  3444,\n",
       "  3562,\n",
       "  -2400,\n",
       "  3894,\n",
       "  4275,\n",
       "  3634,\n",
       "  4629,\n",
       "  3511,\n",
       "  3478,\n",
       "  3439,\n",
       "  3784,\n",
       "  3660,\n",
       "  3893,\n",
       "  3738,\n",
       "  4205,\n",
       "  494,\n",
       "  871,\n",
       "  4120,\n",
       "  3552],\n",
       " 9: [3016,\n",
       "  3056,\n",
       "  3398,\n",
       "  3558,\n",
       "  3686,\n",
       "  4120,\n",
       "  3832,\n",
       "  3635,\n",
       "  3940,\n",
       "  3799,\n",
       "  3842,\n",
       "  2073,\n",
       "  4429,\n",
       "  3732,\n",
       "  5700,\n",
       "  -731,\n",
       "  3516,\n",
       "  3447,\n",
       "  3645,\n",
       "  4202,\n",
       "  3611,\n",
       "  3837,\n",
       "  3597,\n",
       "  4107,\n",
       "  3561,\n",
       "  0,\n",
       "  3680,\n",
       "  1327,\n",
       "  3520,\n",
       "  3975],\n",
       " 10: [3013,\n",
       "  3045,\n",
       "  3623,\n",
       "  3832,\n",
       "  3478,\n",
       "  5982,\n",
       "  23,\n",
       "  0,\n",
       "  4963,\n",
       "  3719,\n",
       "  3622,\n",
       "  3284,\n",
       "  3561,\n",
       "  4326,\n",
       "  3544,\n",
       "  5010,\n",
       "  49,\n",
       "  3332,\n",
       "  3575,\n",
       "  3752,\n",
       "  3865,\n",
       "  3404,\n",
       "  4063,\n",
       "  3659,\n",
       "  2277,\n",
       "  3741,\n",
       "  3581,\n",
       "  3370,\n",
       "  3593,\n",
       "  4219],\n",
       " 11: [3002,\n",
       "  3028,\n",
       "  -608,\n",
       "  3665,\n",
       "  3611,\n",
       "  3644,\n",
       "  3459,\n",
       "  3510,\n",
       "  3669,\n",
       "  3612,\n",
       "  4099,\n",
       "  -849,\n",
       "  3685,\n",
       "  -43,\n",
       "  4095,\n",
       "  4056,\n",
       "  3435,\n",
       "  3424,\n",
       "  3774,\n",
       "  3448,\n",
       "  3772,\n",
       "  3959,\n",
       "  3647,\n",
       "  3757,\n",
       "  4220,\n",
       "  3600,\n",
       "  3738,\n",
       "  3478,\n",
       "  3447,\n",
       "  4247],\n",
       " 12: [2998,\n",
       "  3013,\n",
       "  3932,\n",
       "  3530,\n",
       "  4063,\n",
       "  -601,\n",
       "  3567,\n",
       "  3639,\n",
       "  3552,\n",
       "  3497,\n",
       "  3611,\n",
       "  3908,\n",
       "  3496,\n",
       "  4008,\n",
       "  4189,\n",
       "  3515,\n",
       "  3715,\n",
       "  2631,\n",
       "  3916,\n",
       "  3811,\n",
       "  4008,\n",
       "  4048,\n",
       "  4142,\n",
       "  3542,\n",
       "  3376,\n",
       "  4391,\n",
       "  3566,\n",
       "  3616,\n",
       "  3692,\n",
       "  591],\n",
       " 13: [3000,\n",
       "  2988,\n",
       "  54,\n",
       "  5690,\n",
       "  3628,\n",
       "  -232,\n",
       "  3699,\n",
       "  3496,\n",
       "  -533,\n",
       "  3564,\n",
       "  3497,\n",
       "  3536,\n",
       "  3386,\n",
       "  3525,\n",
       "  262,\n",
       "  3855,\n",
       "  4067,\n",
       "  3516,\n",
       "  4088,\n",
       "  3698,\n",
       "  4043,\n",
       "  3895,\n",
       "  3802,\n",
       "  4196,\n",
       "  5082,\n",
       "  3490,\n",
       "  3461,\n",
       "  3670,\n",
       "  3552,\n",
       "  3413],\n",
       " 14: [2999,\n",
       "  2990,\n",
       "  4282,\n",
       "  3736,\n",
       "  79,\n",
       "  4241,\n",
       "  126,\n",
       "  4288,\n",
       "  3488,\n",
       "  3110,\n",
       "  286,\n",
       "  4345,\n",
       "  3518,\n",
       "  -211,\n",
       "  3644,\n",
       "  3484,\n",
       "  3943,\n",
       "  3693,\n",
       "  4630,\n",
       "  86,\n",
       "  3634,\n",
       "  3542,\n",
       "  138,\n",
       "  3597,\n",
       "  3448,\n",
       "  3632,\n",
       "  3589,\n",
       "  243,\n",
       "  258,\n",
       "  3586],\n",
       " 15: [2996,\n",
       "  2993,\n",
       "  3549,\n",
       "  4015,\n",
       "  -1705,\n",
       "  603,\n",
       "  3563,\n",
       "  3573,\n",
       "  3376,\n",
       "  3674,\n",
       "  4256,\n",
       "  3619,\n",
       "  3585,\n",
       "  3617,\n",
       "  3922,\n",
       "  3870,\n",
       "  3466,\n",
       "  349,\n",
       "  5022,\n",
       "  3706,\n",
       "  3684,\n",
       "  3475,\n",
       "  3776,\n",
       "  632,\n",
       "  196,\n",
       "  3937,\n",
       "  3699,\n",
       "  3915,\n",
       "  3516,\n",
       "  5772],\n",
       " 16: [2990,\n",
       "  2977,\n",
       "  3895,\n",
       "  4173,\n",
       "  3561,\n",
       "  3553,\n",
       "  3618,\n",
       "  3568,\n",
       "  3527,\n",
       "  3535,\n",
       "  3776,\n",
       "  -1844,\n",
       "  3588,\n",
       "  3650,\n",
       "  3076,\n",
       "  4252,\n",
       "  4148,\n",
       "  2557,\n",
       "  2182,\n",
       "  3502,\n",
       "  3787,\n",
       "  3975,\n",
       "  5962,\n",
       "  3553,\n",
       "  4101,\n",
       "  4258,\n",
       "  3800,\n",
       "  3822,\n",
       "  5076,\n",
       "  3447],\n",
       " 17: [2991,\n",
       "  2977,\n",
       "  3584,\n",
       "  957,\n",
       "  3583,\n",
       "  3505,\n",
       "  4302,\n",
       "  3700,\n",
       "  3891,\n",
       "  4169,\n",
       "  3536,\n",
       "  4384,\n",
       "  3691,\n",
       "  3962,\n",
       "  4343,\n",
       "  4507,\n",
       "  3398,\n",
       "  3646,\n",
       "  3869,\n",
       "  5080,\n",
       "  3345,\n",
       "  3489,\n",
       "  3648,\n",
       "  3705,\n",
       "  3410,\n",
       "  3960,\n",
       "  3670,\n",
       "  3443,\n",
       "  3441,\n",
       "  4178],\n",
       " 18: [2986,\n",
       "  2980,\n",
       "  3500,\n",
       "  0,\n",
       "  3410,\n",
       "  3443,\n",
       "  3529,\n",
       "  4133,\n",
       "  3593,\n",
       "  3883,\n",
       "  3569,\n",
       "  3897,\n",
       "  3839,\n",
       "  3552,\n",
       "  3540,\n",
       "  4296,\n",
       "  3584,\n",
       "  3311,\n",
       "  5147,\n",
       "  3412,\n",
       "  3797,\n",
       "  3400,\n",
       "  -100,\n",
       "  3651,\n",
       "  3562,\n",
       "  4312,\n",
       "  4283,\n",
       "  3915,\n",
       "  4017,\n",
       "  3892],\n",
       " 19: [2986,\n",
       "  2968,\n",
       "  3625,\n",
       "  -90,\n",
       "  3445,\n",
       "  3942,\n",
       "  3384,\n",
       "  3542,\n",
       "  3428,\n",
       "  3577,\n",
       "  3569,\n",
       "  3778,\n",
       "  1077,\n",
       "  3786,\n",
       "  3457,\n",
       "  -1716,\n",
       "  3375,\n",
       "  3673,\n",
       "  3394,\n",
       "  7321,\n",
       "  -209,\n",
       "  3593,\n",
       "  3674,\n",
       "  3431,\n",
       "  4085,\n",
       "  3877,\n",
       "  3642,\n",
       "  0,\n",
       "  3428,\n",
       "  3536],\n",
       " 20: [2983,\n",
       "  2969,\n",
       "  3313,\n",
       "  -890,\n",
       "  110,\n",
       "  3611,\n",
       "  3338,\n",
       "  693,\n",
       "  3722,\n",
       "  4199,\n",
       "  3878,\n",
       "  -3,\n",
       "  3521,\n",
       "  3690,\n",
       "  3,\n",
       "  3675,\n",
       "  3553,\n",
       "  3574,\n",
       "  3401,\n",
       "  3813,\n",
       "  3701,\n",
       "  3606,\n",
       "  -4,\n",
       "  3431,\n",
       "  3639,\n",
       "  3365,\n",
       "  3671,\n",
       "  -117,\n",
       "  4147,\n",
       "  4778],\n",
       " 21: [2985,\n",
       "  2971,\n",
       "  3521,\n",
       "  4065,\n",
       "  414,\n",
       "  3444,\n",
       "  4093,\n",
       "  3779,\n",
       "  4171,\n",
       "  3574,\n",
       "  3511,\n",
       "  3685,\n",
       "  3600,\n",
       "  3400,\n",
       "  3562,\n",
       "  4185,\n",
       "  5379,\n",
       "  3556,\n",
       "  3557,\n",
       "  3444,\n",
       "  3900,\n",
       "  3355,\n",
       "  3659,\n",
       "  3682,\n",
       "  3654,\n",
       "  3672,\n",
       "  3645,\n",
       "  3532,\n",
       "  3331,\n",
       "  4695],\n",
       " 22: [2979,\n",
       "  2965,\n",
       "  3935,\n",
       "  3517,\n",
       "  3380,\n",
       "  4267,\n",
       "  4146,\n",
       "  4211,\n",
       "  3455,\n",
       "  3685,\n",
       "  3873,\n",
       "  4127,\n",
       "  3445,\n",
       "  -660,\n",
       "  -360,\n",
       "  3583,\n",
       "  3818,\n",
       "  3704,\n",
       "  4230,\n",
       "  3324,\n",
       "  3782,\n",
       "  3549,\n",
       "  -287,\n",
       "  4699,\n",
       "  4356,\n",
       "  3406,\n",
       "  3708,\n",
       "  3843,\n",
       "  3380,\n",
       "  3530],\n",
       " 23: [2984,\n",
       "  2957,\n",
       "  3688,\n",
       "  3493,\n",
       "  3913,\n",
       "  3692,\n",
       "  3419,\n",
       "  3590,\n",
       "  3454,\n",
       "  3505,\n",
       "  4202,\n",
       "  3730,\n",
       "  3711,\n",
       "  3468,\n",
       "  -960,\n",
       "  1527,\n",
       "  3860,\n",
       "  3523,\n",
       "  3918,\n",
       "  3405,\n",
       "  48,\n",
       "  3642,\n",
       "  -1886,\n",
       "  3610,\n",
       "  3437,\n",
       "  3605,\n",
       "  3738,\n",
       "  5038,\n",
       "  3864,\n",
       "  3396],\n",
       " 24: [2961,\n",
       "  2977,\n",
       "  3425,\n",
       "  3388,\n",
       "  3564,\n",
       "  262,\n",
       "  3621,\n",
       "  7885,\n",
       "  -8,\n",
       "  3737,\n",
       "  4194,\n",
       "  3515,\n",
       "  3479,\n",
       "  4880,\n",
       "  3811,\n",
       "  3400,\n",
       "  4884,\n",
       "  3783,\n",
       "  4034,\n",
       "  3928,\n",
       "  3486,\n",
       "  3430,\n",
       "  3957,\n",
       "  3865,\n",
       "  3360,\n",
       "  3894,\n",
       "  4305,\n",
       "  3552,\n",
       "  3797,\n",
       "  3321],\n",
       " 25: [2974,\n",
       "  2953,\n",
       "  4262,\n",
       "  3429,\n",
       "  4163,\n",
       "  2058,\n",
       "  2679,\n",
       "  3562,\n",
       "  3892,\n",
       "  1908,\n",
       "  3898,\n",
       "  3432,\n",
       "  2,\n",
       "  3717,\n",
       "  -102,\n",
       "  3761,\n",
       "  -1173,\n",
       "  -281,\n",
       "  3778,\n",
       "  3734,\n",
       "  3320,\n",
       "  1526,\n",
       "  3531,\n",
       "  -209,\n",
       "  3766,\n",
       "  3436,\n",
       "  75,\n",
       "  3531,\n",
       "  3628,\n",
       "  3413],\n",
       " 26: [2950,\n",
       "  2980,\n",
       "  3599,\n",
       "  3773,\n",
       "  3516,\n",
       "  3855,\n",
       "  3602,\n",
       "  1371,\n",
       "  3644,\n",
       "  -327,\n",
       "  3647,\n",
       "  3435,\n",
       "  3594,\n",
       "  3432,\n",
       "  4244,\n",
       "  3425,\n",
       "  -258,\n",
       "  3804,\n",
       "  3752,\n",
       "  4204,\n",
       "  3427,\n",
       "  4064,\n",
       "  3446,\n",
       "  3327,\n",
       "  3482,\n",
       "  3757,\n",
       "  3464,\n",
       "  3556,\n",
       "  4004,\n",
       "  3696],\n",
       " 27: [2950,\n",
       "  2983,\n",
       "  3679,\n",
       "  3560,\n",
       "  3644,\n",
       "  3356,\n",
       "  4050,\n",
       "  3512,\n",
       "  3560,\n",
       "  3395,\n",
       "  3666,\n",
       "  -119,\n",
       "  18,\n",
       "  3647,\n",
       "  257,\n",
       "  3381,\n",
       "  4249,\n",
       "  3917,\n",
       "  3468,\n",
       "  4191,\n",
       "  4153,\n",
       "  3549,\n",
       "  3531,\n",
       "  3450,\n",
       "  48,\n",
       "  -1234,\n",
       "  4320,\n",
       "  3586,\n",
       "  3966,\n",
       "  -639],\n",
       " 28: [2947,\n",
       "  2987,\n",
       "  1228,\n",
       "  4208,\n",
       "  3568,\n",
       "  3951,\n",
       "  3528,\n",
       "  3569,\n",
       "  4219,\n",
       "  4214,\n",
       "  5129,\n",
       "  3877,\n",
       "  0,\n",
       "  3597,\n",
       "  3499,\n",
       "  -284,\n",
       "  4104,\n",
       "  4294,\n",
       "  2633,\n",
       "  -974,\n",
       "  3708,\n",
       "  3618,\n",
       "  3727,\n",
       "  3446,\n",
       "  -951,\n",
       "  3572,\n",
       "  3606,\n",
       "  4194,\n",
       "  721,\n",
       "  2745],\n",
       " 29: [2948,\n",
       "  2989,\n",
       "  3899,\n",
       "  4017,\n",
       "  3886,\n",
       "  4807,\n",
       "  161,\n",
       "  3708,\n",
       "  621,\n",
       "  4262,\n",
       "  4164,\n",
       "  4112,\n",
       "  3469,\n",
       "  5289,\n",
       "  3556,\n",
       "  3477,\n",
       "  3786,\n",
       "  954,\n",
       "  3500,\n",
       "  4096,\n",
       "  3901,\n",
       "  3616,\n",
       "  3509,\n",
       "  594,\n",
       "  3902,\n",
       "  54,\n",
       "  1687,\n",
       "  4028,\n",
       "  3527,\n",
       "  3618],\n",
       " 30: [2945,\n",
       "  2987,\n",
       "  4123,\n",
       "  4136,\n",
       "  3512,\n",
       "  3828,\n",
       "  1264,\n",
       "  -82,\n",
       "  3224,\n",
       "  3596,\n",
       "  901,\n",
       "  3511,\n",
       "  3833,\n",
       "  3391,\n",
       "  3530,\n",
       "  3651,\n",
       "  3838,\n",
       "  3646,\n",
       "  3709,\n",
       "  3562,\n",
       "  4057,\n",
       "  3529,\n",
       "  3563,\n",
       "  3634,\n",
       "  -1852,\n",
       "  3444,\n",
       "  3593,\n",
       "  3600,\n",
       "  3618,\n",
       "  4017],\n",
       " 31: [2949,\n",
       "  2982,\n",
       "  3878,\n",
       "  4071,\n",
       "  3477,\n",
       "  3457,\n",
       "  1113,\n",
       "  3634,\n",
       "  4089,\n",
       "  3559,\n",
       "  3801,\n",
       "  3559,\n",
       "  698,\n",
       "  3743,\n",
       "  -22,\n",
       "  4616,\n",
       "  856,\n",
       "  329,\n",
       "  4180,\n",
       "  3627,\n",
       "  4116,\n",
       "  4090,\n",
       "  3832,\n",
       "  5046,\n",
       "  5345,\n",
       "  286,\n",
       "  4265,\n",
       "  4100,\n",
       "  3495,\n",
       "  -689],\n",
       " 32: [2951,\n",
       "  2982,\n",
       "  -2,\n",
       "  -161,\n",
       "  3812,\n",
       "  0,\n",
       "  4021,\n",
       "  3604,\n",
       "  4201,\n",
       "  4753,\n",
       "  3410,\n",
       "  -74,\n",
       "  4875,\n",
       "  3685,\n",
       "  4141,\n",
       "  5200,\n",
       "  3861,\n",
       "  4074,\n",
       "  3588,\n",
       "  5977,\n",
       "  4117,\n",
       "  -1136,\n",
       "  3913,\n",
       "  5868,\n",
       "  5985,\n",
       "  3695,\n",
       "  3706,\n",
       "  3829,\n",
       "  3480,\n",
       "  3599],\n",
       " 33: [2947,\n",
       "  2984,\n",
       "  3625,\n",
       "  3855,\n",
       "  3650,\n",
       "  3635,\n",
       "  3689,\n",
       "  4055,\n",
       "  -1751,\n",
       "  3842,\n",
       "  4123,\n",
       "  4217,\n",
       "  4060,\n",
       "  3659,\n",
       "  -287,\n",
       "  3658,\n",
       "  3894,\n",
       "  3645,\n",
       "  3818,\n",
       "  3484,\n",
       "  369,\n",
       "  3727,\n",
       "  -848,\n",
       "  4060,\n",
       "  3862,\n",
       "  4333,\n",
       "  3987,\n",
       "  3560,\n",
       "  -5,\n",
       "  3885],\n",
       " 34: [2950,\n",
       "  2978,\n",
       "  -416,\n",
       "  4243,\n",
       "  3475,\n",
       "  4154,\n",
       "  3686,\n",
       "  3876,\n",
       "  3628,\n",
       "  3606,\n",
       "  3590,\n",
       "  2256,\n",
       "  4181,\n",
       "  5661,\n",
       "  3619,\n",
       "  -40,\n",
       "  3539,\n",
       "  3500,\n",
       "  3686,\n",
       "  3873,\n",
       "  3900,\n",
       "  3535,\n",
       "  3429,\n",
       "  3567,\n",
       "  3856,\n",
       "  4263,\n",
       "  3405,\n",
       "  5694,\n",
       "  788,\n",
       "  4208],\n",
       " 35: [2948,\n",
       "  2979,\n",
       "  3625,\n",
       "  4203,\n",
       "  3534,\n",
       "  4983,\n",
       "  35,\n",
       "  3493,\n",
       "  3467,\n",
       "  3547,\n",
       "  3873,\n",
       "  3762,\n",
       "  3932,\n",
       "  3688,\n",
       "  3532,\n",
       "  3587,\n",
       "  3746,\n",
       "  4268,\n",
       "  3592,\n",
       "  110,\n",
       "  -116,\n",
       "  3612,\n",
       "  4280,\n",
       "  3631,\n",
       "  3520,\n",
       "  3674,\n",
       "  3727,\n",
       "  3543,\n",
       "  3632,\n",
       "  3589],\n",
       " 36: [2949,\n",
       "  2978,\n",
       "  3868,\n",
       "  3663,\n",
       "  3437,\n",
       "  3653,\n",
       "  3756,\n",
       "  3520,\n",
       "  3649,\n",
       "  3684,\n",
       "  3711,\n",
       "  3518,\n",
       "  4262,\n",
       "  3927,\n",
       "  3488,\n",
       "  3612,\n",
       "  2139,\n",
       "  3862,\n",
       "  5127,\n",
       "  132,\n",
       "  4783,\n",
       "  0,\n",
       "  4253,\n",
       "  3455,\n",
       "  3725,\n",
       "  6124,\n",
       "  4084,\n",
       "  4032,\n",
       "  195,\n",
       "  4178],\n",
       " 37: [2946,\n",
       "  2976,\n",
       "  0,\n",
       "  3778,\n",
       "  3582,\n",
       "  4807,\n",
       "  3857,\n",
       "  3725,\n",
       "  3637,\n",
       "  3789,\n",
       "  4139,\n",
       "  3590,\n",
       "  3591,\n",
       "  3794,\n",
       "  3784,\n",
       "  3868,\n",
       "  3612,\n",
       "  1858,\n",
       "  3499,\n",
       "  3858,\n",
       "  156,\n",
       "  739,\n",
       "  3736,\n",
       "  3725,\n",
       "  3707,\n",
       "  3644,\n",
       "  3500,\n",
       "  3577,\n",
       "  3725,\n",
       "  3420],\n",
       " 38: [2944,\n",
       "  2969,\n",
       "  3686,\n",
       "  3857,\n",
       "  3671,\n",
       "  3734,\n",
       "  3452,\n",
       "  3663,\n",
       "  3829,\n",
       "  3593,\n",
       "  3781,\n",
       "  3556,\n",
       "  3413,\n",
       "  -414,\n",
       "  3731,\n",
       "  7111,\n",
       "  3532,\n",
       "  5135,\n",
       "  3811,\n",
       "  3644,\n",
       "  -259,\n",
       "  3780,\n",
       "  7047,\n",
       "  3653,\n",
       "  4211,\n",
       "  1357,\n",
       "  152,\n",
       "  3600,\n",
       "  4592,\n",
       "  4269],\n",
       " 39: [2952,\n",
       "  2964,\n",
       "  3582,\n",
       "  917,\n",
       "  200,\n",
       "  3459,\n",
       "  5605,\n",
       "  3782,\n",
       "  -987,\n",
       "  3821,\n",
       "  3604,\n",
       "  3530,\n",
       "  3473,\n",
       "  3694,\n",
       "  3452,\n",
       "  3735,\n",
       "  3794,\n",
       "  3574,\n",
       "  282,\n",
       "  4672,\n",
       "  6185,\n",
       "  3941,\n",
       "  3480,\n",
       "  7121,\n",
       "  -7,\n",
       "  3744,\n",
       "  3679,\n",
       "  3529,\n",
       "  3574,\n",
       "  4148],\n",
       " 40: [2965,\n",
       "  2955,\n",
       "  3616,\n",
       "  3640,\n",
       "  3858,\n",
       "  3394,\n",
       "  3114,\n",
       "  3988,\n",
       "  3607,\n",
       "  4114,\n",
       "  3486,\n",
       "  3787,\n",
       "  3641,\n",
       "  3261,\n",
       "  54,\n",
       "  4990,\n",
       "  248,\n",
       "  3739,\n",
       "  3508,\n",
       "  3846,\n",
       "  3985,\n",
       "  4485,\n",
       "  4334,\n",
       "  3661,\n",
       "  3931,\n",
       "  3682,\n",
       "  3677,\n",
       "  3539,\n",
       "  3722,\n",
       "  3503],\n",
       " 41: [2961,\n",
       "  2954,\n",
       "  3728,\n",
       "  3568,\n",
       "  3869,\n",
       "  3730,\n",
       "  4350,\n",
       "  4277,\n",
       "  4022,\n",
       "  3754,\n",
       "  3517,\n",
       "  3709,\n",
       "  3594,\n",
       "  3561,\n",
       "  3663,\n",
       "  3728,\n",
       "  5030,\n",
       "  0,\n",
       "  3821,\n",
       "  3445,\n",
       "  3855,\n",
       "  3751,\n",
       "  3870,\n",
       "  3375,\n",
       "  468,\n",
       "  54,\n",
       "  4967,\n",
       "  3554,\n",
       "  2271,\n",
       "  6915],\n",
       " 42: [2960,\n",
       "  2954,\n",
       "  3588,\n",
       "  3773,\n",
       "  3724,\n",
       "  5537,\n",
       "  3679,\n",
       "  3870,\n",
       "  3559,\n",
       "  3695,\n",
       "  3666,\n",
       "  3486,\n",
       "  3477,\n",
       "  3536,\n",
       "  3886,\n",
       "  3488,\n",
       "  3510,\n",
       "  3791,\n",
       "  3519,\n",
       "  -1056,\n",
       "  3574,\n",
       "  3719,\n",
       "  4030,\n",
       "  3642,\n",
       "  -220,\n",
       "  4016,\n",
       "  3755,\n",
       "  1094,\n",
       "  1993,\n",
       "  3437],\n",
       " 43: [2955,\n",
       "  2953,\n",
       "  5859,\n",
       "  3479,\n",
       "  3590,\n",
       "  4149,\n",
       "  5716,\n",
       "  3681,\n",
       "  -655,\n",
       "  3599,\n",
       "  3465,\n",
       "  3612,\n",
       "  3526,\n",
       "  3492,\n",
       "  3605,\n",
       "  3861,\n",
       "  3496,\n",
       "  4177,\n",
       "  3823,\n",
       "  3567,\n",
       "  3746,\n",
       "  3717,\n",
       "  3414,\n",
       "  3925,\n",
       "  3731,\n",
       "  3746,\n",
       "  3346,\n",
       "  3551,\n",
       "  3922,\n",
       "  3511],\n",
       " 44: [2964,\n",
       "  2950,\n",
       "  3726,\n",
       "  3340,\n",
       "  3636,\n",
       "  3570,\n",
       "  3438,\n",
       "  4429,\n",
       "  3727,\n",
       "  4204,\n",
       "  7058,\n",
       "  3502,\n",
       "  3881,\n",
       "  3555,\n",
       "  4100,\n",
       "  3536,\n",
       "  3558,\n",
       "  3453,\n",
       "  6136,\n",
       "  4045,\n",
       "  3601,\n",
       "  3912,\n",
       "  4084,\n",
       "  3632,\n",
       "  3462,\n",
       "  2822,\n",
       "  3478,\n",
       "  0,\n",
       "  3628,\n",
       "  115],\n",
       " 45: [2960,\n",
       "  2949,\n",
       "  6742,\n",
       "  3444,\n",
       "  3420,\n",
       "  3852,\n",
       "  3563,\n",
       "  3515,\n",
       "  3531,\n",
       "  3625,\n",
       "  3564,\n",
       "  3504,\n",
       "  4187,\n",
       "  3530,\n",
       "  4499,\n",
       "  3558,\n",
       "  3587,\n",
       "  3480,\n",
       "  3400,\n",
       "  2,\n",
       "  4310,\n",
       "  3455,\n",
       "  3577,\n",
       "  3776,\n",
       "  3626,\n",
       "  126,\n",
       "  4017,\n",
       "  452,\n",
       "  3654,\n",
       "  3601],\n",
       " 46: [2959,\n",
       "  2948,\n",
       "  3848,\n",
       "  3434,\n",
       "  3422,\n",
       "  -501,\n",
       "  3416,\n",
       "  3672,\n",
       "  3666,\n",
       "  3507,\n",
       "  53,\n",
       "  3476,\n",
       "  3646,\n",
       "  3753,\n",
       "  54,\n",
       "  4264,\n",
       "  3886,\n",
       "  4003,\n",
       "  4431,\n",
       "  3396,\n",
       "  3397,\n",
       "  3946,\n",
       "  3423,\n",
       "  3622,\n",
       "  6659,\n",
       "  3829,\n",
       "  4247,\n",
       "  6247,\n",
       "  234,\n",
       "  3605],\n",
       " 47: [2957,\n",
       "  2940,\n",
       "  -992,\n",
       "  3636,\n",
       "  3502,\n",
       "  7250,\n",
       "  3630,\n",
       "  3633,\n",
       "  3940,\n",
       "  3548,\n",
       "  3695,\n",
       "  3840,\n",
       "  3953,\n",
       "  4199,\n",
       "  3771,\n",
       "  3456,\n",
       "  3465,\n",
       "  5980,\n",
       "  5614,\n",
       "  4206,\n",
       "  4,\n",
       "  3865,\n",
       "  3712,\n",
       "  3896,\n",
       "  3579,\n",
       "  3767,\n",
       "  25,\n",
       "  4202,\n",
       "  3760,\n",
       "  3728],\n",
       " 48: [2960,\n",
       "  2942,\n",
       "  3860,\n",
       "  248,\n",
       "  3977,\n",
       "  3417,\n",
       "  4266,\n",
       "  3438,\n",
       "  3861,\n",
       "  3524,\n",
       "  3459,\n",
       "  3710,\n",
       "  4267,\n",
       "  3668,\n",
       "  3800,\n",
       "  3943,\n",
       "  3954,\n",
       "  3606,\n",
       "  3621,\n",
       "  3563,\n",
       "  3546,\n",
       "  3607,\n",
       "  3628,\n",
       "  3497,\n",
       "  3540,\n",
       "  3885,\n",
       "  3450,\n",
       "  3736,\n",
       "  3558,\n",
       "  3817],\n",
       " 49: [2956,\n",
       "  2945,\n",
       "  3368,\n",
       "  3507,\n",
       "  3476,\n",
       "  3679,\n",
       "  4160,\n",
       "  3618,\n",
       "  3539,\n",
       "  3611,\n",
       "  1913,\n",
       "  3452,\n",
       "  4208,\n",
       "  3575,\n",
       "  3566,\n",
       "  3703,\n",
       "  3529,\n",
       "  119,\n",
       "  4349,\n",
       "  3425,\n",
       "  5723,\n",
       "  3476,\n",
       "  3851,\n",
       "  3734,\n",
       "  1,\n",
       "  3867,\n",
       "  3558,\n",
       "  3574,\n",
       "  3818,\n",
       "  3485],\n",
       " 50: [2958,\n",
       "  2940,\n",
       "  3676,\n",
       "  4129,\n",
       "  3903,\n",
       "  4173,\n",
       "  3498,\n",
       "  3520,\n",
       "  3527,\n",
       "  3842,\n",
       "  3825,\n",
       "  3899,\n",
       "  3408,\n",
       "  3827,\n",
       "  4165,\n",
       "  3457,\n",
       "  3577,\n",
       "  3611,\n",
       "  4040,\n",
       "  3450,\n",
       "  5641,\n",
       "  3594,\n",
       "  3994,\n",
       "  4171,\n",
       "  3660,\n",
       "  3852,\n",
       "  88,\n",
       "  4803,\n",
       "  3968,\n",
       "  2453]}"
      ]
     },
     "execution_count": 40,
     "metadata": {},
     "output_type": "execute_result"
    }
   ],
   "source": [
    "diff"
   ]
  },
  {
   "cell_type": "code",
   "execution_count": 43,
   "metadata": {
    "collapsed": false
   },
   "outputs": [
    {
     "data": {
      "image/png": "[encoded data removed]",
      "text/plain": [
       "<matplotlib.figure.Figure at 0x225f4b6db00>"
      ]
     },
     "metadata": {},
     "output_type": "display_data"
    }
   ],
   "source": [
    "fig = plt.figure(figsize=(20,10))\n",
    "ax = fig.add_subplot(111)\n",
    "\n",
    "gens = range(50)\n",
    "popsize = 30\n",
    "\n",
    "for i in gens:\n",
    "    ax.scatter([i for j in range(popsize)], diff[i+1])"
   ]
  },
  {
   "cell_type": "markdown",
   "metadata": {
    "heading_collapsed": true
   },
   "source": [
    "# Tests"
   ]
  },
  {
   "cell_type": "code",
   "execution_count": 27,
   "metadata": {
    "collapsed": false,
    "hidden": true
   },
   "outputs": [],
   "source": [
    "def rebuild_from_save(optimizer, generation, position):\n",
    "    \n",
    "    genome = optimizer.genome_history[generation][position]\n",
    "    \n",
    "    net = NetFromBuildInfo(genome)\n",
    "    \n",
    "    net.load_state_dict(torch.load(r\"D:\\Models\\NeuroEvolution\\{}-{}\".format(generation, position)))\n",
    "    \n",
    "    return net.cuda()"
   ]
  },
  {
   "cell_type": "code",
   "execution_count": 28,
   "metadata": {
    "collapsed": true,
    "hidden": true
   },
   "outputs": [],
   "source": [
    "def sanity_check(optimizer, test_loader):\n",
    "    \n",
    "    for generation in optimizer.test_results:\n",
    "        print('generation {}: \\n'.format(generation))\n",
    "        for i, result in enumerate(optimizer.test_results[generation]['correct']):\n",
    "            \n",
    "            mod = rebuild_from_save(optimizer, generation, i)\n",
    "            _, rebuild_result = test(mod, test_loader)\n",
    "            \n",
    "            if result == rebuild_result:\n",
    "                print(\"result = {}, rebuild result = {}. (equal)\".format(result, rebuild_result))\n",
    "            else:\n",
    "                print(\"result = {}, rebuild result = {}. (different!!)\".format(result, rebuild_result))"
   ]
  },
  {
   "cell_type": "code",
   "execution_count": 29,
   "metadata": {
    "collapsed": false,
    "hidden": true,
    "scrolled": true
   },
   "outputs": [
    {
     "name": "stdout",
     "output_type": "stream",
     "text": [
      "generation 1: \n",
      "\n"
     ]
    },
    {
     "ename": "FileNotFoundError",
     "evalue": "[Errno 2] No such file or directory: 'D:\\\\Models\\\\NeuroEvolution\\\\1-0'",
     "output_type": "error",
     "traceback": [
      "\u001b[1;31m---------------------------------------------------------------------------\u001b[0m",
      "\u001b[1;31mFileNotFoundError\u001b[0m                         Traceback (most recent call last)",
      "\u001b[1;32m<ipython-input-29-14739d18a2c3>\u001b[0m in \u001b[0;36m<module>\u001b[1;34m()\u001b[0m\n\u001b[1;32m----> 1\u001b[1;33m \u001b[0msanity_check\u001b[0m\u001b[1;33m(\u001b[0m\u001b[0mtesting\u001b[0m\u001b[1;33m,\u001b[0m \u001b[0madversarial_loader\u001b[0m\u001b[1;33m)\u001b[0m\u001b[1;33m\u001b[0m\u001b[0m\n\u001b[0m",
      "\u001b[1;32m<ipython-input-28-034cc2d0298c>\u001b[0m in \u001b[0;36msanity_check\u001b[1;34m(optimizer, test_loader)\u001b[0m\n\u001b[0;32m      5\u001b[0m         \u001b[1;32mfor\u001b[0m \u001b[0mi\u001b[0m\u001b[1;33m,\u001b[0m \u001b[0mresult\u001b[0m \u001b[1;32min\u001b[0m \u001b[0menumerate\u001b[0m\u001b[1;33m(\u001b[0m\u001b[0moptimizer\u001b[0m\u001b[1;33m.\u001b[0m\u001b[0mtest_results\u001b[0m\u001b[1;33m[\u001b[0m\u001b[0mgeneration\u001b[0m\u001b[1;33m]\u001b[0m\u001b[1;33m[\u001b[0m\u001b[1;34m'correct'\u001b[0m\u001b[1;33m]\u001b[0m\u001b[1;33m)\u001b[0m\u001b[1;33m:\u001b[0m\u001b[1;33m\u001b[0m\u001b[0m\n\u001b[0;32m      6\u001b[0m \u001b[1;33m\u001b[0m\u001b[0m\n\u001b[1;32m----> 7\u001b[1;33m             \u001b[0mmod\u001b[0m \u001b[1;33m=\u001b[0m \u001b[0mrebuild_from_save\u001b[0m\u001b[1;33m(\u001b[0m\u001b[0moptimizer\u001b[0m\u001b[1;33m,\u001b[0m \u001b[0mgeneration\u001b[0m\u001b[1;33m,\u001b[0m \u001b[0mi\u001b[0m\u001b[1;33m)\u001b[0m\u001b[1;33m\u001b[0m\u001b[0m\n\u001b[0m\u001b[0;32m      8\u001b[0m             \u001b[0m_\u001b[0m\u001b[1;33m,\u001b[0m \u001b[0mrebuild_result\u001b[0m \u001b[1;33m=\u001b[0m \u001b[0mtest\u001b[0m\u001b[1;33m(\u001b[0m\u001b[0mmod\u001b[0m\u001b[1;33m,\u001b[0m \u001b[0mtest_loader\u001b[0m\u001b[1;33m)\u001b[0m\u001b[1;33m\u001b[0m\u001b[0m\n\u001b[0;32m      9\u001b[0m \u001b[1;33m\u001b[0m\u001b[0m\n",
      "\u001b[1;32m<ipython-input-27-bf510345957f>\u001b[0m in \u001b[0;36mrebuild_from_save\u001b[1;34m(optimizer, generation, position)\u001b[0m\n\u001b[0;32m      5\u001b[0m     \u001b[0mnet\u001b[0m \u001b[1;33m=\u001b[0m \u001b[0mNetFromBuildInfo\u001b[0m\u001b[1;33m(\u001b[0m\u001b[0mgenome\u001b[0m\u001b[1;33m)\u001b[0m\u001b[1;33m\u001b[0m\u001b[0m\n\u001b[0;32m      6\u001b[0m \u001b[1;33m\u001b[0m\u001b[0m\n\u001b[1;32m----> 7\u001b[1;33m     \u001b[0mnet\u001b[0m\u001b[1;33m.\u001b[0m\u001b[0mload_state_dict\u001b[0m\u001b[1;33m(\u001b[0m\u001b[0mtorch\u001b[0m\u001b[1;33m.\u001b[0m\u001b[0mload\u001b[0m\u001b[1;33m(\u001b[0m\u001b[1;34mr\"D:\\Models\\NeuroEvolution\\{}-{}\"\u001b[0m\u001b[1;33m.\u001b[0m\u001b[0mformat\u001b[0m\u001b[1;33m(\u001b[0m\u001b[0mgeneration\u001b[0m\u001b[1;33m,\u001b[0m \u001b[0mposition\u001b[0m\u001b[1;33m)\u001b[0m\u001b[1;33m)\u001b[0m\u001b[1;33m)\u001b[0m\u001b[1;33m\u001b[0m\u001b[0m\n\u001b[0m\u001b[0;32m      8\u001b[0m \u001b[1;33m\u001b[0m\u001b[0m\n\u001b[0;32m      9\u001b[0m     \u001b[1;32mreturn\u001b[0m \u001b[0mnet\u001b[0m\u001b[1;33m.\u001b[0m\u001b[0mcuda\u001b[0m\u001b[1;33m(\u001b[0m\u001b[1;33m)\u001b[0m\u001b[1;33m\u001b[0m\u001b[0m\n",
      "\u001b[1;32m~\\Anaconda3\\lib\\site-packages\\torch\\serialization.py\u001b[0m in \u001b[0;36mload\u001b[1;34m(f, map_location, pickle_module)\u001b[0m\n\u001b[0;32m    299\u001b[0m             \u001b[1;33m(\u001b[0m\u001b[0msys\u001b[0m\u001b[1;33m.\u001b[0m\u001b[0mversion_info\u001b[0m\u001b[1;33m[\u001b[0m\u001b[1;36m0\u001b[0m\u001b[1;33m]\u001b[0m \u001b[1;33m==\u001b[0m \u001b[1;36m3\u001b[0m \u001b[1;32mand\u001b[0m \u001b[0misinstance\u001b[0m\u001b[1;33m(\u001b[0m\u001b[0mf\u001b[0m\u001b[1;33m,\u001b[0m \u001b[0mpathlib\u001b[0m\u001b[1;33m.\u001b[0m\u001b[0mPath\u001b[0m\u001b[1;33m)\u001b[0m\u001b[1;33m)\u001b[0m\u001b[1;33m:\u001b[0m\u001b[1;33m\u001b[0m\u001b[0m\n\u001b[0;32m    300\u001b[0m         \u001b[0mnew_fd\u001b[0m \u001b[1;33m=\u001b[0m \u001b[1;32mTrue\u001b[0m\u001b[1;33m\u001b[0m\u001b[0m\n\u001b[1;32m--> 301\u001b[1;33m         \u001b[0mf\u001b[0m \u001b[1;33m=\u001b[0m \u001b[0mopen\u001b[0m\u001b[1;33m(\u001b[0m\u001b[0mf\u001b[0m\u001b[1;33m,\u001b[0m \u001b[1;34m'rb'\u001b[0m\u001b[1;33m)\u001b[0m\u001b[1;33m\u001b[0m\u001b[0m\n\u001b[0m\u001b[0;32m    302\u001b[0m     \u001b[1;32mtry\u001b[0m\u001b[1;33m:\u001b[0m\u001b[1;33m\u001b[0m\u001b[0m\n\u001b[0;32m    303\u001b[0m         \u001b[1;32mreturn\u001b[0m \u001b[0m_load\u001b[0m\u001b[1;33m(\u001b[0m\u001b[0mf\u001b[0m\u001b[1;33m,\u001b[0m \u001b[0mmap_location\u001b[0m\u001b[1;33m,\u001b[0m \u001b[0mpickle_module\u001b[0m\u001b[1;33m)\u001b[0m\u001b[1;33m\u001b[0m\u001b[0m\n",
      "\u001b[1;31mFileNotFoundError\u001b[0m: [Errno 2] No such file or directory: 'D:\\\\Models\\\\NeuroEvolution\\\\1-0'"
     ]
    }
   ],
   "source": [
    "sanity_check(testing, adversarial_loader)"
   ]
  }
 ],
 "metadata": {
  "anaconda-cloud": {},
  "kernelspec": {
   "display_name": "Python [default]",
   "language": "python",
   "name": "python3"
  },
  "language_info": {
   "codemirror_mode": {
    "name": "ipython",
    "version": 3
   },
   "file_extension": ".py",
   "mimetype": "text/x-python",
   "name": "python",
   "nbconvert_exporter": "python",
   "pygments_lexer": "ipython3",
   "version": "3.5.4"
  },
  "widgets": {
   "state": {
    "0086b19a8a3d422599c67d26182aa7ec": {
     "views": [
      {
       "cell_index": 32
      }
     ]
    },
    "016472479623491691c4abb617f358b2": {
     "views": [
      {
       "cell_index": 32
      }
     ]
    },
    "0cb03c01d9354ce89d45321afc1505ce": {
     "views": [
      {
       "cell_index": 32
      }
     ]
    },
    "0d023277049240f19d80213b7923f5af": {
     "views": [
      {
       "cell_index": 32
      }
     ]
    },
    "1274561b23b94e4d8f61826358e51009": {
     "views": [
      {
       "cell_index": 32
      }
     ]
    },
    "1411549b68c2437aac6f2e0719774f1c": {
     "views": [
      {
       "cell_index": 32
      }
     ]
    },
    "1419eb4202764d4c828db5e3734dcca2": {
     "views": [
      {
       "cell_index": 32
      }
     ]
    },
    "1436f81b1674424ebf028a3137885d5e": {
     "views": [
      {
       "cell_index": 32
      }
     ]
    },
    "18d2f5d5159046c9a1320f0c899e249a": {
     "views": [
      {
       "cell_index": 32
      }
     ]
    },
    "1958ce1340cf44cd85706f96fb093f0e": {
     "views": [
      {
       "cell_index": 32
      }
     ]
    },
    "1befa6fcf95c42c08b07bb7a87905070": {
     "views": [
      {
       "cell_index": 32
      }
     ]
    },
    "1e1df5bc73d24900a76dce7ca60892d8": {
     "views": [
      {
       "cell_index": 32
      }
     ]
    },
    "2734769f12fd4599a288d4f974da692d": {
     "views": [
      {
       "cell_index": 32
      }
     ]
    },
    "28b7464497734d61b9caae37416562d7": {
     "views": [
      {
       "cell_index": 32
      }
     ]
    },
    "33a283c1d4424d13a31676c3ecbb12e4": {
     "views": [
      {
       "cell_index": 32
      }
     ]
    },
    "34dda266814348b2b526b50770495a74": {
     "views": [
      {
       "cell_index": 32
      }
     ]
    },
    "3934bc1ef93a4c16bb4b82a7eee67809": {
     "views": [
      {
       "cell_index": 32
      }
     ]
    },
    "3b9a2df0b2724c658f1341da7340a1e0": {
     "views": [
      {
       "cell_index": 32
      }
     ]
    },
    "3cec381abdec4f2ebac5e15fb228f76a": {
     "views": [
      {
       "cell_index": 32
      }
     ]
    },
    "4035720b6d5c4a5dae8e43ef72655175": {
     "views": [
      {
       "cell_index": 32
      }
     ]
    },
    "408d2bf72f974dcdbc2441275644a5f1": {
     "views": [
      {
       "cell_index": 32
      }
     ]
    },
    "43bfbf2e5d4841daa3a216b3098b0347": {
     "views": [
      {
       "cell_index": 32
      }
     ]
    },
    "443de9ebdf474e90a4bc7f76024b9b58": {
     "views": [
      {
       "cell_index": 32
      }
     ]
    },
    "450636ede9cd40f98556354444b92079": {
     "views": [
      {
       "cell_index": 32
      }
     ]
    },
    "473851ba24ad4ff694eedbf3abc3fde1": {
     "views": [
      {
       "cell_index": 32
      }
     ]
    },
    "50fb3b32aa2e41d59bde03c1f0f399cc": {
     "views": [
      {
       "cell_index": 32
      }
     ]
    },
    "5f75453586c94fdf8b0bd3999e89f73f": {
     "views": [
      {
       "cell_index": 32
      }
     ]
    },
    "70bbc462f2574dffa6839b05715048ac": {
     "views": [
      {
       "cell_index": 32
      }
     ]
    },
    "803eb1e09b5b419f9791452b60ddeceb": {
     "views": [
      {
       "cell_index": 32
      }
     ]
    },
    "80d4fb4f09d44d29bb79ca449f302a9b": {
     "views": [
      {
       "cell_index": 32
      }
     ]
    },
    "8b7198a2f61044b5b8b4114e1f6e0c47": {
     "views": [
      {
       "cell_index": 32
      }
     ]
    },
    "9120f199503e4c76bd1432838ca9b0b5": {
     "views": [
      {
       "cell_index": 32
      }
     ]
    },
    "9576f632f14645f5ab577002859f7a38": {
     "views": [
      {
       "cell_index": 32
      }
     ]
    },
    "99bede4aa6604f5bb2362ced041eedad": {
     "views": [
      {
       "cell_index": 32
      }
     ]
    },
    "a08caea295ee4f1a99bf214019e52fb9": {
     "views": [
      {
       "cell_index": 32
      }
     ]
    },
    "a2e9fbf25c114047a6008478d069ece8": {
     "views": [
      {
       "cell_index": 32
      }
     ]
    },
    "a68aa9d332094040b351e97a1f102388": {
     "views": [
      {
       "cell_index": 32
      }
     ]
    },
    "a699d0bccee8447bab56c5f7dfa74940": {
     "views": [
      {
       "cell_index": 32
      }
     ]
    },
    "a80420d8f82247b1b877573552724618": {
     "views": [
      {
       "cell_index": 32
      }
     ]
    },
    "ada07769b47a4413833a0422957f72ec": {
     "views": [
      {
       "cell_index": 32
      }
     ]
    },
    "afdd48a9872844b092c1c070cab4506d": {
     "views": [
      {
       "cell_index": 32
      }
     ]
    },
    "b00a7bf34eb0491ab39d818972cee462": {
     "views": [
      {
       "cell_index": 32
      }
     ]
    },
    "b44ed270542b4a81ad368de3426b3546": {
     "views": [
      {
       "cell_index": 32
      }
     ]
    },
    "b79995d4e246448394e1c4c5eb7c2a52": {
     "views": [
      {
       "cell_index": 32
      }
     ]
    },
    "b8221558c864430ba1328822a8ae3b11": {
     "views": [
      {
       "cell_index": 32
      }
     ]
    },
    "b862f11330374ed3909f9cc2952faa8f": {
     "views": [
      {
       "cell_index": 32
      }
     ]
    },
    "b90d93f772de4c4db8f7f108edaf9ded": {
     "views": [
      {
       "cell_index": 32
      }
     ]
    },
    "c55a29a9306f4c15b04d0205b58b3794": {
     "views": [
      {
       "cell_index": 32
      }
     ]
    },
    "c69ca8cae9bd49b08e6a69bc4028acc5": {
     "views": [
      {
       "cell_index": 32
      }
     ]
    },
    "ca0ad2961fda4936a69fdeca91b3bf78": {
     "views": [
      {
       "cell_index": 32
      }
     ]
    },
    "cc27c3eea81649dc97e79c9dfd1fda09": {
     "views": [
      {
       "cell_index": 32
      }
     ]
    },
    "d6b7af15933a45b9b07a117006b4216e": {
     "views": [
      {
       "cell_index": 32
      }
     ]
    },
    "dec1fcc0c8ac47a7ae700b46d31f1646": {
     "views": [
      {
       "cell_index": 32
      }
     ]
    },
    "e00c9543f3194e2bb0daa56261b29c8c": {
     "views": [
      {
       "cell_index": 32
      }
     ]
    },
    "e330170a679b4dcf99c8f3414d57ced7": {
     "views": [
      {
       "cell_index": 32
      }
     ]
    },
    "f059f087954c4083bf477de531a34bf6": {
     "views": [
      {
       "cell_index": 32
      }
     ]
    },
    "f7490e08bcdf43b39fe972a5fabcd8c8": {
     "views": [
      {
       "cell_index": 32
      }
     ]
    },
    "f84c68d73286491c8236fc9a037a0dde": {
     "views": [
      {
       "cell_index": 32
      }
     ]
    },
    "f9e2a98840644d34817f32f391e773fb": {
     "views": [
      {
       "cell_index": 32
      }
     ]
    }
   },
   "version": "1.2.0"
  }
 },
 "nbformat": 4,
 "nbformat_minor": 2
}
