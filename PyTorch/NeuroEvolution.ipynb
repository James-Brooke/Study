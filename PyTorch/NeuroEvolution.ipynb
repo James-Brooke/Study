{
 "cells": [
  {
   "cell_type": "markdown",
   "metadata": {
    "heading_collapsed": true
   },
   "source": [
    "# Setup"
   ]
  },
  {
   "cell_type": "code",
   "execution_count": 63,
   "metadata": {
    "collapsed": true,
    "hidden": true
   },
   "outputs": [],
   "source": [
    "%matplotlib inline\n",
    "\n",
    "import torch\n",
    "import random\n",
    "import copy\n",
    "import requests #for sending updates to my phone via telegram\n",
    "import numpy as np\n",
    "import pandas as pd\n",
    "import seaborn as sns\n",
    "\n",
    "import torch.nn as nn\n",
    "import torch.nn.functional as F\n",
    "import torch.optim as optim\n",
    "import matplotlib.pyplot as plt\n",
    "\n",
    "from torch.autograd import Variable\n",
    "from torchvision import datasets, transforms\n",
    "from operator import itemgetter\n",
    "from tqdm import tqdm, tnrange, tqdm_notebook\n",
    "\n",
    "sns.set()"
   ]
  },
  {
   "cell_type": "code",
   "execution_count": 87,
   "metadata": {
    "collapsed": true,
    "hidden": true
   },
   "outputs": [],
   "source": [
    "with open(r\"D:\\TELEGRAM_BOTS\\NEURALUPDATES.txt\") as file: #Credentials for telegram bot\n",
    "    BOT_TOKEN, CHANNEL = file.read().split('\\n')"
   ]
  },
  {
   "cell_type": "markdown",
   "metadata": {
    "heading_collapsed": true
   },
   "source": [
    "# Dataloaders"
   ]
  },
  {
   "cell_type": "markdown",
   "metadata": {
    "heading_collapsed": true,
    "hidden": true
   },
   "source": [
    "## Clean MNIST loaders"
   ]
  },
  {
   "cell_type": "code",
   "execution_count": 2,
   "metadata": {
    "collapsed": true,
    "hidden": true
   },
   "outputs": [],
   "source": [
    "torch.manual_seed(1);"
   ]
  },
  {
   "cell_type": "code",
   "execution_count": 3,
   "metadata": {
    "collapsed": true,
    "hidden": true
   },
   "outputs": [],
   "source": [
    "transform = transforms.Compose([\n",
    "                       transforms.ToTensor(),\n",
    "                       #transforms.Normalize((0.1307,), (0.3081,)) #normalise pixels using mean and stdev\n",
    "                       transforms.Normalize((0.5, 0.5, 0.5), (0.5, 0.5, 0.5)) #normalise to range -1 to 1\n",
    "                   ])\n",
    "\n",
    "\n",
    "\n",
    "MNIST_train = datasets.MNIST(r'D:\\Data_sets/MNIST', train=True, download=True,\n",
    "                   transform=transform)\n",
    "\n",
    "MNIST_test = datasets.MNIST(r'D:\\Data_sets/MNIST', train=False, download=True,\n",
    "                   transform=transform)"
   ]
  },
  {
   "cell_type": "code",
   "execution_count": 4,
   "metadata": {
    "collapsed": false,
    "hidden": true
   },
   "outputs": [],
   "source": [
    "train_loader = torch.utils.data.DataLoader(MNIST_train, \n",
    "                                           batch_size=64, \n",
    "                                           shuffle=True, \n",
    "                                           pin_memory=True)\n",
    "\n",
    "test_loader = torch.utils.data.DataLoader(MNIST_test,\n",
    "                                          batch_size=1000, \n",
    "                                          shuffle=True, \n",
    "                                          pin_memory=True)"
   ]
  },
  {
   "cell_type": "markdown",
   "metadata": {
    "heading_collapsed": true,
    "hidden": true
   },
   "source": [
    "## Adversarial loader"
   ]
  },
  {
   "cell_type": "code",
   "execution_count": 5,
   "metadata": {
    "collapsed": false,
    "hidden": true
   },
   "outputs": [],
   "source": [
    "class AdversarialDataset(torch.utils.data.Dataset):\n",
    "    \"\"\"FGSM adversarials of MNIST test set\"\"\"\n",
    "\n",
    "    def __init__(self, root_dir, transform=None):\n",
    "\n",
    "        self.adversarials = np.load(root_dir+'/adversarials.npy')\n",
    "        self.labels = np.load(root_dir+'/labels.npy')\n",
    "        self.transform = transform\n",
    "\n",
    "    def __len__(self):\n",
    "        return len(self.labels)\n",
    "\n",
    "    def __getitem__(self, idx):\n",
    "        \n",
    "        image = self.adversarials[idx]\n",
    "        label = self.labels[idx]\n",
    "\n",
    "        if self.transform:\n",
    "            sample = self.transform(sample)\n",
    "\n",
    "        return image, label"
   ]
  },
  {
   "cell_type": "code",
   "execution_count": 6,
   "metadata": {
    "collapsed": false,
    "hidden": true
   },
   "outputs": [],
   "source": [
    "adversarials = AdversarialDataset('D:/Data_sets/Adversarial/MNIST')"
   ]
  },
  {
   "cell_type": "code",
   "execution_count": 7,
   "metadata": {
    "collapsed": true,
    "hidden": true
   },
   "outputs": [],
   "source": [
    "adversarial_loader = torch.utils.data.DataLoader(adversarials, \n",
    "                                           batch_size=1000, \n",
    "                                           shuffle=True, \n",
    "                                           pin_memory=True)"
   ]
  },
  {
   "cell_type": "markdown",
   "metadata": {
    "heading_collapsed": true
   },
   "source": [
    "# Hyperparameter space"
   ]
  },
  {
   "cell_type": "code",
   "execution_count": 13,
   "metadata": {
    "collapsed": false,
    "hidden": true
   },
   "outputs": [],
   "source": [
    "LAYER_SPACE = {\n",
    "    'nb_units':{'lb': 128, 'ub':2048, 'mutate': 0.15},\n",
    "    'dropout_rate': {'lb': 0.0, 'ub': 0.7, 'mutate': 0.2},\n",
    "    'activation': {'func': ['linear','tanh','relu','sigmoid','elu'], 'mutate':0.2}\n",
    "}"
   ]
  },
  {
   "cell_type": "code",
   "execution_count": 9,
   "metadata": {
    "collapsed": false,
    "hidden": true
   },
   "outputs": [],
   "source": [
    "NET_SPACE = {\n",
    "    'nb_layers': {'lb': 1, 'ub': 3, 'mutate': 0.15},\n",
    "    'lr': {'lb': 0.001, 'ub':0.1, 'mutate': 0.15},\n",
    "    'weight_decay': {'lb': 0.00001, 'ub': 0.0004, 'mutate':0.2},\n",
    "    'optimizer': {'func': ['sgd', 'adam', 'adadelta','rmsprop'], 'mutate': 0.2}\n",
    "}"
   ]
  },
  {
   "cell_type": "markdown",
   "metadata": {
    "heading_collapsed": true
   },
   "source": [
    "# Randomise network"
   ]
  },
  {
   "cell_type": "code",
   "execution_count": 10,
   "metadata": {
    "collapsed": true,
    "hidden": true
   },
   "outputs": [],
   "source": [
    "def random_value(space):\n",
    "    \"\"\"Returns random value from space.\"\"\"\n",
    "    \n",
    "    val = None\n",
    "    \n",
    "    if 'func' in space: #randomise optimiser or activation function\n",
    "        val = random.sample(space['func'], 1)[0] \n",
    "    \n",
    "    elif isinstance(space['lb'], int): #randomise number of units or layers\n",
    "        val = random.randint(space['lb'], space['ub'])\n",
    "    \n",
    "    else: #randomise percentages, i.e. dropout rates or weight decay\n",
    "        val = random.random() * (space['ub'] - space['lb']) + space['lb']\n",
    "    \n",
    "    return val"
   ]
  },
  {
   "cell_type": "code",
   "execution_count": 11,
   "metadata": {
    "collapsed": true,
    "hidden": true
   },
   "outputs": [],
   "source": [
    "def randomize_network(layer_space, net_space): \n",
    "    \"\"\"Returns a randomised neural network\"\"\"\n",
    "    net = {}\n",
    "    \n",
    "    for key in net_space.keys():\n",
    "        net[key] = random_value(net_space[key])\n",
    "        \n",
    "    layers = []\n",
    "    \n",
    "    for i in range(net['nb_layers']):\n",
    "        layer = {}\n",
    "        for key in layer_space.keys():\n",
    "            layer[key] = random_value(layer_space[key])\n",
    "        layers.append(layer)\n",
    "        net['layers'] = layers\n",
    "        \n",
    "    return net"
   ]
  },
  {
   "cell_type": "code",
   "execution_count": 15,
   "metadata": {
    "collapsed": false,
    "hidden": true,
    "scrolled": true
   },
   "outputs": [
    {
     "data": {
      "text/plain": [
       "{'layers': [{'activation': 'elu',\n",
       "   'dropout_rate': 0.20230738133777323,\n",
       "   'nb_units': 1619},\n",
       "  {'activation': 'sigmoid',\n",
       "   'dropout_rate': 0.3774231243539173,\n",
       "   'nb_units': 467}],\n",
       " 'lr': 0.08430360388826245,\n",
       " 'nb_layers': 2,\n",
       " 'optimizer': 'adadelta',\n",
       " 'weight_decay': 0.0002858564378306}"
      ]
     },
     "execution_count": 15,
     "metadata": {},
     "output_type": "execute_result"
    }
   ],
   "source": [
    "randomize_network(LAYER_SPACE, NET_SPACE)"
   ]
  },
  {
   "cell_type": "markdown",
   "metadata": {
    "heading_collapsed": true
   },
   "source": [
    "# Mutate network"
   ]
  },
  {
   "cell_type": "code",
   "execution_count": 16,
   "metadata": {
    "collapsed": true,
    "hidden": true
   },
   "outputs": [],
   "source": [
    "def mutate_net(nnet, layer_space, net_space):\n",
    "    \n",
    "    net = copy.deepcopy(nnet)\n",
    "    \n",
    "    \n",
    "    # mutate optimizer\n",
    "    for k in ['lr', 'weight_decay', 'optimizer']:\n",
    "        if random.random() < net_space[k]['mutate']:\n",
    "            net[k] = random_value(net_space[k])\n",
    "    \n",
    "    \n",
    "    # mutate layers\n",
    "    for layer in net['layers']:\n",
    "        for k in layer_space.keys():\n",
    "            if random.random() < layer_space[k]['mutate']:\n",
    "                layer[k] = random_value(layer_space[k])\n",
    "                \n",
    "                \n",
    "    # mutate number of layers -- 50% add 50% remove\n",
    "    if random.random() < net_space['nb_layers']['mutate']:\n",
    "        if net['nb_layers'] <= net_space['nb_layers']['ub']:\n",
    "            if random.random()< 0.5 and \\\n",
    "            net['nb_layers'] < net_space['nb_layers']['ub']:\n",
    "                layer = {}\n",
    "                for key in layer_space.keys():\n",
    "                    layer[key] = random_value(layer_space[key])\n",
    "                net['layers'].append(layer)      \n",
    "            else:\n",
    "                if net['nb_layers'] > 1:\n",
    "                    net['layers'].pop()\n",
    "\n",
    "                \n",
    "            # value & id update\n",
    "            net['nb_layers'] = len(net['layers'])         \n",
    "            \n",
    "    return net"
   ]
  },
  {
   "cell_type": "markdown",
   "metadata": {
    "heading_collapsed": true
   },
   "source": [
    "# NetBuilder"
   ]
  },
  {
   "cell_type": "code",
   "execution_count": 17,
   "metadata": {
    "collapsed": true,
    "hidden": true
   },
   "outputs": [],
   "source": [
    "class Flatten(nn.Module):\n",
    "    \"\"\"Flattens input to vector size (batchsize, 1)\n",
    "    (for use in NetFromBuildInfo).\"\"\"\n",
    "\n",
    "    def __init__(self):\n",
    "        super(Flatten, self).__init__()\n",
    "\n",
    "    def forward(self, x):\n",
    "        return x.view(x.size(0), -1)"
   ]
  },
  {
   "cell_type": "code",
   "execution_count": 18,
   "metadata": {
    "collapsed": true,
    "hidden": true
   },
   "outputs": [],
   "source": [
    "class NetFromBuildInfo(nn.Module):\n",
    "    def __init__(self, build_info):\n",
    "        super(NetFromBuildInfo, self).__init__()\n",
    "        \n",
    "        self.activation_dict = {\n",
    "            'tanh': nn.Tanh(),\n",
    "            'relu': nn.ReLU(),\n",
    "            'sigmoid': nn.Sigmoid(),\n",
    "            'elu': nn.ELU()\n",
    "            }\n",
    "\n",
    "        #NETWORK DEFINITION\n",
    "        \n",
    "        previous_units = 28 * 28 #MNIST shape\n",
    "        \n",
    "        self.model = nn.Sequential()\n",
    "        self.model.add_module('flatten', Flatten())\n",
    "         \n",
    "        for i, layer_info in enumerate(build_info['layers']):\n",
    "            i = str(i)\n",
    "            \n",
    "            self.model.add_module(\n",
    "                'fc_' + i,\n",
    "                nn.Linear(previous_units, layer_info['nb_units'])\n",
    "                )\n",
    "            \n",
    "            previous_units = layer_info['nb_units']\n",
    "            \n",
    "            self.model.add_module(\n",
    "                'dropout_' + i,\n",
    "                nn.Dropout(p=layer_info['dropout_rate'])\n",
    "                )\n",
    "            if layer_info['activation'] == 'linear':\n",
    "                continue #linear activation is identity function\n",
    "            self.model.add_module(\n",
    "                layer_info['activation']+ i,\n",
    "                self.activation_dict[layer_info['activation']])\n",
    "\n",
    "        self.model.add_module(\n",
    "            'logits',\n",
    "            nn.Linear(previous_units, 10) #10 MNIST classes\n",
    "            )\n",
    "        \n",
    "        \n",
    "        ##OPTIMIZER\n",
    "\n",
    "        self.opt_args = {#'params': self.model.parameters(),\n",
    "                 'weight_decay': build_info['weight_decay'],\n",
    "                 'lr': build_info['lr']\n",
    "                 }\n",
    "        \n",
    "        self.optimizer_dict = {\n",
    "            'adam': optim.Adam(self.model.parameters(),**self.opt_args),\n",
    "            'rmsprop': optim.RMSprop(self.model.parameters(),**self.opt_args),\n",
    "            'adadelta':optim.Adadelta(self.model.parameters(),**self.opt_args),\n",
    "            'sgd': optim.SGD(self.model.parameters(), **self.opt_args, momentum=0.9) #momentum to train faster\n",
    "            }\n",
    "\n",
    "        self.optimizer = self.optimizer_dict[build_info['optimizer']]\n",
    "        \n",
    "        \n",
    "    def forward(self, x):\n",
    "        x = self.model(x)\n",
    "        return F.log_softmax(x, dim=1)"
   ]
  },
  {
   "cell_type": "code",
   "execution_count": 19,
   "metadata": {
    "collapsed": true,
    "hidden": true
   },
   "outputs": [],
   "source": [
    "def count_parameters(model):\n",
    "    return sum(p.numel() for p in model.parameters() if p.requires_grad)"
   ]
  },
  {
   "cell_type": "markdown",
   "metadata": {
    "heading_collapsed": true
   },
   "source": [
    "# Train test helpers"
   ]
  },
  {
   "cell_type": "code",
   "execution_count": 55,
   "metadata": {
    "collapsed": true,
    "hidden": true
   },
   "outputs": [],
   "source": [
    "def train(model, train_loader, optimizer, epoch):\n",
    "    \n",
    "    model.train(True)\n",
    "    \n",
    "    running_loss = 0.0\n",
    "    \n",
    "    for batch_idx, (data, target) in enumerate(train_loader):\n",
    "        \n",
    "        data, target = Variable(data.cuda()), Variable(target.cuda())\n",
    "        optimizer.zero_grad()\n",
    "        output = model(data)\n",
    "        loss = F.nll_loss(output, target)\n",
    "        loss.backward() \n",
    "        optimizer.step()\n",
    "        running_loss += loss.item()\n",
    "\n",
    "    running_loss /= len(train_loader.dataset)    \n",
    "    \n",
    "    if epoch % 4 == 0:\n",
    "        print('Train Epoch: {} \\t Loss: {:.6f}'.format(epoch, running_loss ))"
   ]
  },
  {
   "cell_type": "code",
   "execution_count": 21,
   "metadata": {
    "collapsed": true,
    "hidden": true
   },
   "outputs": [],
   "source": [
    "def test(model, test_loader):\n",
    "    \n",
    "    model.train(False)\n",
    "    \n",
    "    test_loss = 0\n",
    "    correct = 0\n",
    "    \n",
    "    with torch.no_grad():\n",
    "        \n",
    "        for data, target in test_loader:\n",
    "            \n",
    "            data, target = data.cuda(), target.cuda()\n",
    "            output = model(data)\n",
    "            \n",
    "            test_loss += F.nll_loss(output, target, size_average=False).item()\n",
    "            \n",
    "            pred = output.max(1, keepdim=True)[1] # get the index of the max log-probability\n",
    "            correct += pred.eq(target.view_as(pred)).sum().item()\n",
    "\n",
    "    test_loss /= len(test_loader.dataset)\n",
    "    \n",
    "    \n",
    "    return (test_loss, correct)"
   ]
  },
  {
   "cell_type": "markdown",
   "metadata": {},
   "source": [
    "# Evolution optimiser"
   ]
  },
  {
   "cell_type": "code",
   "execution_count": 131,
   "metadata": {
    "collapsed": false
   },
   "outputs": [],
   "source": [
    "class TournamentOptimizer:\n",
    "    \"\"\"Define a tournament play selection process.\"\"\"\n",
    "\n",
    "    def __init__(self, population_sz, layer_space, net_space, init_fn, mutate_fn, builder_fn,\n",
    "                 train_fn, test_fn, data_loader, test_loader, adversarial_loader):\n",
    "        \n",
    "        self.init_fn = init_fn\n",
    "        self.layer_space = layer_space\n",
    "        self.net_space = net_space\n",
    "        self.mutate_fn = mutate_fn\n",
    "        self.builder_fn = builder_fn\n",
    "        self.train = train_fn\n",
    "        self.test = test_fn\n",
    "        self.dataloader = data_loader\n",
    "        self.testloader = test_loader\n",
    "        self.population_sz = population_sz\n",
    "        self.adversarials = adversarial_loader\n",
    "        \n",
    "        torch.manual_seed(1);\n",
    "        \n",
    "        self.genomes = [init_fn(self.layer_space, self.net_space) for i in range(population_sz)]   \n",
    "        self.population = [NetFromBuildInfo(i).cuda() for i in self.genomes] #randomize population of nets     \n",
    "        \n",
    "        self.test_results = {} \n",
    "        self.genome_history = {} \n",
    "\n",
    "        self.generation = 0\n",
    "\n",
    "    def step(self, generations=1, save=True, phone=False):\n",
    "        \"\"\"Tournament evolution step.\"\"\"\n",
    "\n",
    "        for _ in tnrange(generations, desc='Overall progress'): #tqdm progress bar\n",
    "            genome_holder = [] \n",
    "\n",
    "            self.generation += 1\n",
    "\n",
    "            self.genome_history[self.generation] = self.genomes\n",
    "\n",
    "            self.train_nets(save=save)\n",
    "            self.evaluate_nets()\n",
    "\n",
    "            mean = np.mean(self.test_results[self.generation]['correct'])\n",
    "            best = np.max(self.test_results[self.generation]['correct'])\n",
    "\n",
    "            tqdm.write('Generation {} Population mean:{} max:{}'\n",
    "                       .format(self.generation, mean, best))\n",
    "            \n",
    "            if phone: #update via telegram\n",
    "                requests.post(\"https://api.telegram.org/bot{}/\"\n",
    "                  \"sendMessage\".format(BOT_TOKEN), \n",
    "                  data={'chat_id': '{}'.format(CHANNEL),\n",
    "                    'text':'Generation {} completed \\n'\n",
    "                        'Population mean: {} max: {}'\n",
    "                        .format(self.generation, mean, best)})\n",
    "\n",
    "\n",
    "            children = []\n",
    "            n_elite = 2\n",
    "            sorted_pop = np.argsort(self.test_results[self.generation]['correct'])[::-1]\n",
    "            elite = sorted_pop[:n_elite]\n",
    "\n",
    "\n",
    "\n",
    "            # elites always included in the next population\n",
    "            self.elite = []\n",
    "            print('\\nTop performers:')\n",
    "            for no, i in enumerate(elite):\n",
    "                self.elite.append((self.test_results[self.generation]['correct'][i], \n",
    "                                   self.population[i]))    \n",
    "\n",
    "                genome_holder.append(self.genomes[i])\n",
    "\n",
    "                tqdm.write(\"{}: score:{}\".format(no,\n",
    "                            self.test_results[self.generation]['correct'][i]))   \n",
    "\n",
    "                children.append(self.population[i])\n",
    "\n",
    "\n",
    "\n",
    "            #https://stackoverflow.com/questions/31933784/tournament-selection-in-genetic-algorithm\n",
    "            p = 0.85 # winner probability \n",
    "            tournament_size = 3\n",
    "            probs = [p*((1-p)**i) for i in range(tournament_size-1)]\n",
    "            probs.append(1-np.sum(probs))\n",
    "            #probs = [0.85, 0.1275, 0.0224]\n",
    "\n",
    "            while len(children) < self.population_sz:\n",
    "                pop = range(len(self.population))\n",
    "                sel_k = random.sample(pop, k=tournament_size)\n",
    "                fitness_k = list(np.array(self.test_results[self.generation]['correct'])[sel_k])\n",
    "                selected = zip(sel_k, fitness_k)\n",
    "                rank = sorted(selected, key=itemgetter(1), reverse=True)\n",
    "                pick = np.random.choice(tournament_size, size=1, p=probs)[0]\n",
    "                best = rank[pick][0]\n",
    "                genome = self.mutate_fn(self.genomes[best], self.layer_space, self.net_space)\n",
    "\n",
    "                genome_holder.append(genome)\n",
    "                model =  self.builder_fn(genome).cuda()\n",
    "                children.append(model)\n",
    "\n",
    "                    \n",
    "            self.population = children\n",
    "            self.genomes = genome_holder\n",
    "\n",
    "        \n",
    "    def train_nets(self, save=True):\n",
    "         \n",
    "        for i, net in enumerate(tqdm_notebook(self.population)):\n",
    "            for epoch in range(1, 4):\n",
    "                torch.manual_seed(1);\n",
    "                self.train(net, self.dataloader, net.optimizer, epoch)\n",
    "                \n",
    "            if save:\n",
    "                fp = r\"D:\\Models\\NeuroEvolution/{}-{}\".format(self.generation, i)\n",
    "                torch.save(net.state_dict(), fp)\n",
    "                \n",
    "                \n",
    "    def evaluate_nets(self):\n",
    "        \"\"\"evaluate the models.\"\"\"\n",
    "        \n",
    "        losses = []\n",
    "        corrects = []\n",
    "        clean_corrects = []\n",
    "        \n",
    "        self.test_results[self.generation] = {}\n",
    "        \n",
    "        for i in range(len(self.population)):\n",
    "            net = self.population[i]\n",
    "            loss, correct = self.test(net, self.adversarials) \n",
    "            _, clean_correct = self.test(net, self.testloader)\n",
    "            \n",
    "            losses.append(loss)\n",
    "            corrects.append(correct)\n",
    "            clean_corrects.append(clean_correct)\n",
    "        \n",
    "        self.test_results[self.generation]['losses'] = losses\n",
    "        self.test_results[self.generation]['correct'] = corrects\n",
    "        self.test_results[self.generation]['clean_correct'] = clean_corrects"
   ]
  },
  {
   "cell_type": "markdown",
   "metadata": {},
   "source": [
    "# Run "
   ]
  },
  {
   "cell_type": "code",
   "execution_count": 132,
   "metadata": {
    "collapsed": false
   },
   "outputs": [],
   "source": [
    "testing = TournamentOptimizer(2, LAYER_SPACE, NET_SPACE, randomize_network, \n",
    "                           mutate_net, NetFromBuildInfo, train, test,\n",
    "                          train_loader, test_loader, adversarial_loader)"
   ]
  },
  {
   "cell_type": "code",
   "execution_count": 133,
   "metadata": {
    "collapsed": false
   },
   "outputs": [
    {
     "name": "stdout",
     "output_type": "stream",
     "text": [
      "Generation 1 Population mean:5070.5 max:5306\n",
      "\n",
      "Top performers:\n",
      "0: score:5306\n",
      "1: score:4835\n",
      "\n"
     ]
    }
   ],
   "source": [
    "testing.step(generations=1, save=False, phone=True)"
   ]
  },
  {
   "cell_type": "code",
   "execution_count": 49,
   "metadata": {
    "collapsed": false,
    "scrolled": true
   },
   "outputs": [
    {
     "data": {
      "text/plain": [
       "{1: {'clean_correct': [9081,\n",
       "   9282,\n",
       "   8845,\n",
       "   1028,\n",
       "   3177,\n",
       "   6268,\n",
       "   8493,\n",
       "   971,\n",
       "   1010,\n",
       "   1009,\n",
       "   980,\n",
       "   1135,\n",
       "   8529,\n",
       "   2766,\n",
       "   8887,\n",
       "   1010,\n",
       "   9319,\n",
       "   8403,\n",
       "   995,\n",
       "   9009,\n",
       "   1010,\n",
       "   2096,\n",
       "   8851,\n",
       "   4224,\n",
       "   9248,\n",
       "   9104,\n",
       "   7804,\n",
       "   958,\n",
       "   958,\n",
       "   9033],\n",
       "  'correct': [5168,\n",
       "   4282,\n",
       "   3722,\n",
       "   1028,\n",
       "   1293,\n",
       "   3528,\n",
       "   972,\n",
       "   1962,\n",
       "   1010,\n",
       "   982,\n",
       "   980,\n",
       "   1135,\n",
       "   3760,\n",
       "   1023,\n",
       "   3353,\n",
       "   1001,\n",
       "   5208,\n",
       "   4701,\n",
       "   2188,\n",
       "   5375,\n",
       "   1102,\n",
       "   1028,\n",
       "   1909,\n",
       "   1690,\n",
       "   5288,\n",
       "   2221,\n",
       "   4819,\n",
       "   982,\n",
       "   958,\n",
       "   3870],\n",
       "  'losses': [1.3815863037109375,\n",
       "   2.4954451416015626,\n",
       "   1.90951064453125,\n",
       "   2.3021269775390625,\n",
       "   553.00545625,\n",
       "   2.1910146728515625,\n",
       "   40642.1188,\n",
       "   479699.584,\n",
       "   3.6009364990234376,\n",
       "   87415055.9744,\n",
       "   nan,\n",
       "   2.30294248046875,\n",
       "   1.8641743408203124,\n",
       "   284238.8608,\n",
       "   2.1573131103515624,\n",
       "   41.256786328125,\n",
       "   2.30957392578125,\n",
       "   4.284876611328125,\n",
       "   294220.4032,\n",
       "   3.109403759765625,\n",
       "   6.215625,\n",
       "   2.2995462158203126,\n",
       "   3.560802734375,\n",
       "   253.7763421875,\n",
       "   1.3453234985351563,\n",
       "   3.3064238037109375,\n",
       "   19.1643263671875,\n",
       "   3.00793515625,\n",
       "   8.095049365234376,\n",
       "   1.615506884765625]}}"
      ]
     },
     "execution_count": 49,
     "metadata": {},
     "output_type": "execute_result"
    }
   ],
   "source": [
    "testing.test_results"
   ]
  },
  {
   "cell_type": "markdown",
   "metadata": {},
   "source": [
    "# Progress plots"
   ]
  },
  {
   "cell_type": "markdown",
   "metadata": {
    "heading_collapsed": true
   },
   "source": [
    "## Plot func "
   ]
  },
  {
   "cell_type": "code",
   "execution_count": 36,
   "metadata": {
    "collapsed": false,
    "hidden": true
   },
   "outputs": [],
   "source": [
    "def progressplotter(optimizer, clean=False):\n",
    "    \n",
    "    if clean:\n",
    "        dataset = 'clean_correct'\n",
    "    else:\n",
    "        dataset = 'correct'\n",
    "    \n",
    "    means = []\n",
    "    \n",
    "    fig = plt.figure(figsize=(20,10))\n",
    "    ax = fig.add_subplot(111)\n",
    "    \n",
    "    gens = range(len(optimizer.test_results))\n",
    "    popsize = len(optimizer.test_results[1][dataset])\n",
    "    \n",
    "    for i in gens:\n",
    "        ax.scatter([i for j in range(popsize)], optimizer.test_results[i+1][dataset])\n",
    "        mean = np.mean(optimizer.test_results[i+1][dataset])\n",
    "        means.append(mean)\n",
    "        ax.scatter(i, mean, c=1)\n",
    "        \n",
    "        if i == 0:\n",
    "            continue\n",
    "        plt.plot([i-1, i], [means[i-1], mean], c='black')\n",
    "        \n",
    "    ax.set_xticks(np.arange(0, len(means),1))\n",
    "    ax.set_xlabel('Generation')\n",
    "    ax.set_ylabel('Correct classifications')\n",
    "    \n",
    "    if clean:\n",
    "        ax.set_title('Accuracy on clean dataset')\n",
    "    else:\n",
    "        ax.set_title('Accuracy on adversarial dataset')\n",
    "    \n",
    "    for item in ([ax.title, ax.xaxis.label, ax.yaxis.label]):\n",
    "        item.set_fontsize(30)\n",
    "        \n",
    "    for item in (ax.get_xticklabels() + ax.get_yticklabels()):\n",
    "        item.set_fontsize(20)"
   ]
  },
  {
   "cell_type": "markdown",
   "metadata": {},
   "source": [
    "## Plots "
   ]
  },
  {
   "cell_type": "code",
   "execution_count": 61,
   "metadata": {
    "collapsed": false
   },
   "outputs": [
    {
     "data": {
      "image/png": "[encoded data removed]",
      "text/plain": [
       "<matplotlib.figure.Figure at 0x2a904bbfe48>"
      ]
     },
     "metadata": {},
     "output_type": "display_data"
    }
   ],
   "source": [
    "progressplotter(testing, clean=True)"
   ]
  },
  {
   "cell_type": "code",
   "execution_count": 62,
   "metadata": {
    "collapsed": false
   },
   "outputs": [
    {
     "data": {
      "image/png": "[encoded data removed]",
      "text/plain": [
       "<matplotlib.figure.Figure at 0x2a906c6c668>"
      ]
     },
     "metadata": {},
     "output_type": "display_data"
    }
   ],
   "source": [
    "progressplotter(testing)"
   ]
  },
  {
   "cell_type": "markdown",
   "metadata": {
    "heading_collapsed": true
   },
   "source": [
    "# Tests"
   ]
  },
  {
   "cell_type": "code",
   "execution_count": 40,
   "metadata": {
    "collapsed": false,
    "hidden": true
   },
   "outputs": [],
   "source": [
    "def rebuild_from_save(optimizer, generation, position):\n",
    "    \n",
    "    genome = optimizer.genome_history[generation][position]\n",
    "    \n",
    "    net = NetFromBuildInfo(genome)\n",
    "    \n",
    "    net.load_state_dict(torch.load(r\"D:\\Models\\NeuroEvolution\\{}-{}\".format(generation, position)))\n",
    "    \n",
    "    return net.cuda()"
   ]
  },
  {
   "cell_type": "code",
   "execution_count": 41,
   "metadata": {
    "collapsed": true,
    "hidden": true
   },
   "outputs": [],
   "source": [
    "def sanity_check(optimizer, test_loader):\n",
    "    \n",
    "    for generation in optimizer.test_results:\n",
    "        print('generation {}: \\n'.format(generation))\n",
    "        for i, result in enumerate(optimizer.test_results[generation]['correct']):\n",
    "            \n",
    "            mod = rebuild_from_save(optimizer, generation, i)\n",
    "            _, rebuild_result = test(mod, test_loader)\n",
    "            \n",
    "            if result == rebuild_result:\n",
    "                print(\"result = {}, rebuild result = {}. (equal)\".format(result, rebuild_result))\n",
    "            else:\n",
    "                print(\"result = {}, rebuild result = {}. (different!!)\".format(result, rebuild_result))"
   ]
  },
  {
   "cell_type": "code",
   "execution_count": 42,
   "metadata": {
    "collapsed": false,
    "hidden": true,
    "scrolled": false
   },
   "outputs": [
    {
     "name": "stdout",
     "output_type": "stream",
     "text": [
      "generation 1: \n",
      "\n",
      "result = 974, rebuild result = 974. (equal)\n",
      "result = 2745, rebuild result = 2745. (equal)\n",
      "result = 864, rebuild result = 864. (equal)\n",
      "result = 1032, rebuild result = 1032. (equal)\n",
      "result = 4710, rebuild result = 4710. (equal)\n"
     ]
    }
   ],
   "source": [
    "sanity_check(testing, adversarial_loader)"
   ]
  }
 ],
 "metadata": {
  "anaconda-cloud": {},
  "kernelspec": {
   "display_name": "Python [default]",
   "language": "python",
   "name": "python3"
  },
  "language_info": {
   "codemirror_mode": {
    "name": "ipython",
    "version": 3
   },
   "file_extension": ".py",
   "mimetype": "text/x-python",
   "name": "python",
   "nbconvert_exporter": "python",
   "pygments_lexer": "ipython3",
   "version": "3.5.4"
  },
  "widgets": {
   "state": {
    "01c321584eb3457db2fdec42a90be29f": {
     "views": [
      {
       "cell_index": 32
      }
     ]
    },
    "2734769f12fd4599a288d4f974da692d": {
     "views": [
      {
       "cell_index": 32
      }
     ]
    },
    "3b9a2df0b2724c658f1341da7340a1e0": {
     "views": [
      {
       "cell_index": 32
      }
     ]
    },
    "473851ba24ad4ff694eedbf3abc3fde1": {
     "views": [
      {
       "cell_index": 32
      }
     ]
    },
    "afdd48a9872844b092c1c070cab4506d": {
     "views": [
      {
       "cell_index": 32
      }
     ]
    },
    "b862f11330374ed3909f9cc2952faa8f": {
     "views": [
      {
       "cell_index": 32
      }
     ]
    },
    "f7490e08bcdf43b39fe972a5fabcd8c8": {
     "views": [
      {
       "cell_index": 32
      }
     ]
    },
    "f9e2a98840644d34817f32f391e773fb": {
     "views": [
      {
       "cell_index": 32
      }
     ]
    }
   },
   "version": "1.2.0"
  }
 },
 "nbformat": 4,
 "nbformat_minor": 2
}
