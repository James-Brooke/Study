{
 "cells": [
  {
   "cell_type": "markdown",
   "metadata": {
    "heading_collapsed": true
   },
   "source": [
    "# Setup "
   ]
  },
  {
   "cell_type": "code",
   "execution_count": 73,
   "metadata": {
    "collapsed": false,
    "hidden": true
   },
   "outputs": [],
   "source": [
    "%matplotlib inline\n",
    "\n",
    "import torch\n",
    "import os\n",
    "import numpy as np\n",
    "import pandas as pd\n",
    "import seaborn as sns\n",
    "\n",
    "from PIL import Image\n",
    "import torch.nn as nn\n",
    "import torch.nn.functional as F\n",
    "import torch.optim as optim\n",
    "import matplotlib.pyplot as plt\n",
    "\n",
    "from torch.autograd import Variable\n",
    "from torchvision import datasets, transforms\n",
    "\n",
    "sns.set()"
   ]
  },
  {
   "cell_type": "markdown",
   "metadata": {
    "heading_collapsed": true
   },
   "source": [
    "# MNIST"
   ]
  },
  {
   "cell_type": "markdown",
   "metadata": {
    "heading_collapsed": true,
    "hidden": true
   },
   "source": [
    "## Args and random seed"
   ]
  },
  {
   "cell_type": "code",
   "execution_count": 2,
   "metadata": {
    "collapsed": false,
    "hidden": true
   },
   "outputs": [],
   "source": [
    "class args_m():\n",
    "    def __init__(self):\n",
    "        self.batch_size = 64\n",
    "        self.test_batch_size = 1000\n",
    "        self.epochs = 2\n",
    "        self.lr = 0.01 \n",
    "        self.momentum = 0.5\n",
    "        self.seed = 1\n",
    "        self.log_interval = 1\n",
    "        \n",
    "args = args_m()"
   ]
  },
  {
   "cell_type": "code",
   "execution_count": 3,
   "metadata": {
    "collapsed": false,
    "hidden": true
   },
   "outputs": [],
   "source": [
    "torch.manual_seed(args.seed); #random seed"
   ]
  },
  {
   "cell_type": "markdown",
   "metadata": {
    "heading_collapsed": true,
    "hidden": true
   },
   "source": [
    "## Dataloaders"
   ]
  },
  {
   "cell_type": "code",
   "execution_count": 4,
   "metadata": {
    "collapsed": true,
    "hidden": true
   },
   "outputs": [],
   "source": [
    "transform = transforms.Compose([\n",
    "                       transforms.ToTensor(),\n",
    "                       #transforms.Normalize((0.1307,), (0.3081,)) #normalise pixels using mean and stdev\n",
    "                       transforms.Normalize((0.5, 0.5, 0.5), (0.5, 0.5, 0.5)) #normalise to range -1 to 1\n",
    "                   ])\n",
    "\n",
    "\n",
    "\n",
    "MNIST_train = datasets.MNIST(r'D:\\Data_sets/MNIST', train=True, download=True,\n",
    "                   transform=transform)\n",
    "\n",
    "MNIST_test = datasets.MNIST(r'D:\\Data_sets/MNIST', train=False, download=True,\n",
    "                   transform=transform)"
   ]
  },
  {
   "cell_type": "code",
   "execution_count": 5,
   "metadata": {
    "collapsed": false,
    "hidden": true
   },
   "outputs": [],
   "source": [
    "train_loader = torch.utils.data.DataLoader(MNIST_train, \n",
    "                                           batch_size=args.batch_size, \n",
    "                                           shuffle=True, \n",
    "                                           pin_memory=True)\n",
    "\n",
    "test_loader = torch.utils.data.DataLoader(MNIST_test,\n",
    "                                          batch_size=args.test_batch_size, \n",
    "                                          shuffle=True, \n",
    "                                          pin_memory=True)"
   ]
  },
  {
   "cell_type": "markdown",
   "metadata": {
    "heading_collapsed": true,
    "hidden": true
   },
   "source": [
    "## Network definition"
   ]
  },
  {
   "cell_type": "code",
   "execution_count": 6,
   "metadata": {
    "collapsed": true,
    "hidden": true
   },
   "outputs": [],
   "source": [
    "class NNet(nn.Module):\n",
    "    def __init__(self):\n",
    "        super(NNet, self).__init__()\n",
    "        self.conv1 = nn.Conv2d(1, 10, kernel_size=5)\n",
    "        self.conv2 = nn.Conv2d(10, 20, kernel_size=5)\n",
    "        #self.conv2_drop = nn.Dropout2d()\n",
    "        self.fc1 = nn.Linear(320, 50)\n",
    "        self.fc2 = nn.Linear(50, 10)\n",
    "\n",
    "    def forward(self, x):\n",
    "        x = F.relu(F.max_pool2d(self.conv1(x), 2))\n",
    "        x = F.relu(F.max_pool2d(self.conv2(x), 2))\n",
    "        x = x.view(-1, 320)\n",
    "        x = F.relu(self.fc1(x))\n",
    "        #x = F.dropout(x, training=self.training)\n",
    "        x = self.fc2(x)\n",
    "        return F.log_softmax(x, dim=1)"
   ]
  },
  {
   "cell_type": "code",
   "execution_count": 7,
   "metadata": {
    "collapsed": false,
    "hidden": true
   },
   "outputs": [],
   "source": [
    "model = NNet().cuda()\n",
    "optimizer = optim.SGD(model.parameters(), lr=args.lr, momentum=args.momentum)"
   ]
  },
  {
   "cell_type": "code",
   "execution_count": 8,
   "metadata": {
    "collapsed": false,
    "hidden": true
   },
   "outputs": [
    {
     "data": {
      "text/plain": [
       "NNet(\n",
       "  (conv1): Conv2d(1, 10, kernel_size=(5, 5), stride=(1, 1))\n",
       "  (conv2): Conv2d(10, 20, kernel_size=(5, 5), stride=(1, 1))\n",
       "  (fc1): Linear(in_features=320, out_features=50, bias=True)\n",
       "  (fc2): Linear(in_features=50, out_features=10, bias=True)\n",
       ")"
      ]
     },
     "execution_count": 8,
     "metadata": {},
     "output_type": "execute_result"
    }
   ],
   "source": [
    "model"
   ]
  },
  {
   "cell_type": "markdown",
   "metadata": {
    "heading_collapsed": true,
    "hidden": true
   },
   "source": [
    "## Train"
   ]
  },
  {
   "cell_type": "code",
   "execution_count": 8,
   "metadata": {
    "collapsed": false,
    "hidden": true
   },
   "outputs": [],
   "source": [
    "#criterion = nn.CrossEntropyLoss()"
   ]
  },
  {
   "cell_type": "code",
   "execution_count": 9,
   "metadata": {
    "collapsed": false,
    "hidden": true
   },
   "outputs": [],
   "source": [
    "def train(args, model, train_loader, optimizer, epoch):\n",
    "    \n",
    "    running_loss = 0.0\n",
    "    \n",
    "    for batch_idx, (data, target) in enumerate(train_loader):\n",
    "        \n",
    "        data, target = Variable(data.cuda()), Variable(target.cuda())\n",
    "        optimizer.zero_grad()\n",
    "        output = model(data)\n",
    "        loss = F.nll_loss(output, target)\n",
    "        loss.backward() \n",
    "        optimizer.step()\n",
    "        running_loss += loss.item()\n",
    "\n",
    "    running_loss /= len(train_loader.dataset)    \n",
    "    \n",
    "    if epoch % args.log_interval == 0:\n",
    "        print('Train Epoch: {} \\t Loss: {:.6f}'.format(epoch, running_loss ))"
   ]
  },
  {
   "cell_type": "code",
   "execution_count": 10,
   "metadata": {
    "collapsed": true,
    "hidden": true
   },
   "outputs": [],
   "source": [
    "def test(args, model, test_loader):\n",
    "    \n",
    "    test_loss = 0\n",
    "    correct = 0\n",
    "    \n",
    "    with torch.no_grad():\n",
    "        \n",
    "        for data, target in test_loader:\n",
    "            \n",
    "            data, target = data.cuda(), target.cuda()\n",
    "            output = model(data)\n",
    "            \n",
    "            test_loss += F.nll_loss(output, target, size_average=False).item()\n",
    "            \n",
    "            pred = output.max(1, keepdim=True)[1] # get the index of the max log-probability\n",
    "            correct += pred.eq(target.view_as(pred)).sum().item()\n",
    "\n",
    "    test_loss /= len(test_loader.dataset)\n",
    "    \n",
    "    print('\\nTest set: Loss: {:.6f}, Accuracy: {}/{} ({:.0f}%)\\n'.format(\n",
    "        test_loss, correct, len(test_loader.dataset),\n",
    "        100. * correct / len(test_loader.dataset)))"
   ]
  },
  {
   "cell_type": "code",
   "execution_count": 11,
   "metadata": {
    "collapsed": true,
    "hidden": true
   },
   "outputs": [],
   "source": [
    "def run():\n",
    "    for epoch in range(1, args.epochs + 1):\n",
    "        train(args, model, train_loader, optimizer, epoch)\n",
    "        test(args, model, test_loader)"
   ]
  },
  {
   "cell_type": "code",
   "execution_count": 13,
   "metadata": {
    "collapsed": false,
    "hidden": true
   },
   "outputs": [
    {
     "name": "stdout",
     "output_type": "stream",
     "text": [
      "Train Epoch: 1 \t Loss: 0.011876\n",
      "\n",
      "Test set: Loss: 0.176301, Accuracy: 9469/10000 (95%)\n",
      "\n",
      "Train Epoch: 2 \t Loss: 0.002059\n",
      "\n",
      "Test set: Loss: 0.097126, Accuracy: 9734/10000 (97%)\n",
      "\n"
     ]
    }
   ],
   "source": [
    "#run()"
   ]
  },
  {
   "cell_type": "markdown",
   "metadata": {
    "heading_collapsed": true,
    "hidden": true
   },
   "source": [
    "## Save model"
   ]
  },
  {
   "cell_type": "code",
   "execution_count": 14,
   "metadata": {
    "collapsed": false,
    "hidden": true
   },
   "outputs": [],
   "source": [
    "fp = r\"D:\\Models\\MNIST\\180718\"\n",
    "#torch.save(model.state_dict(), fp)\n",
    "model.load_state_dict(torch.load(fp))"
   ]
  },
  {
   "cell_type": "markdown",
   "metadata": {
    "heading_collapsed": true
   },
   "source": [
    "# CIFAR-10"
   ]
  },
  {
   "cell_type": "markdown",
   "metadata": {
    "heading_collapsed": true,
    "hidden": true
   },
   "source": [
    "## Dataloaders"
   ]
  },
  {
   "cell_type": "code",
   "execution_count": 204,
   "metadata": {
    "collapsed": false,
    "hidden": true
   },
   "outputs": [
    {
     "name": "stdout",
     "output_type": "stream",
     "text": [
      "Files already downloaded and verified\n",
      "Files already downloaded and verified\n"
     ]
    }
   ],
   "source": [
    "transform = transforms.Compose([transforms.ToTensor()]) #scale 0-1\n",
    "\n",
    "CF_trainset = datasets.CIFAR10(r'D:\\Data_sets/CIFAR10', train=True,\n",
    "                                        download=True, transform=transform)\n",
    "CF_trainloader = torch.utils.data.DataLoader(CF_trainset, batch_size=32,\n",
    "                                          shuffle=True, num_workers=2)\n",
    "\n",
    "CF_testset = datasets.CIFAR10(r'D:\\Data_sets/CIFAR10', train=False,\n",
    "                                       download=True, transform=transform)\n",
    "CF_testloader = torch.utils.data.DataLoader(CF_testset, batch_size=1000,\n",
    "                                         shuffle=False, num_workers=2)"
   ]
  },
  {
   "cell_type": "code",
   "execution_count": 310,
   "metadata": {
    "collapsed": true,
    "hidden": true
   },
   "outputs": [],
   "source": [
    "cf_classes = ['plane', 'car', 'bird', 'cat',\n",
    "           'deer', 'dog', 'frog', 'horse', 'ship', 'truck']"
   ]
  },
  {
   "cell_type": "markdown",
   "metadata": {
    "heading_collapsed": true,
    "hidden": true
   },
   "source": [
    "## Network definition"
   ]
  },
  {
   "cell_type": "code",
   "execution_count": 205,
   "metadata": {
    "collapsed": false,
    "hidden": true
   },
   "outputs": [],
   "source": [
    "class CF_Net(nn.Module):\n",
    "    def __init__(self):\n",
    "        super(CF_Net, self).__init__()\n",
    "        self.conv1 = nn.Conv2d(3, 6, 5)\n",
    "        self.pool = nn.MaxPool2d(2, 2)\n",
    "        self.conv2 = nn.Conv2d(6, 16, 5)\n",
    "        self.fc1 = nn.Linear(16 * 5 * 5, 120)\n",
    "        self.fc2 = nn.Linear(120, 84)\n",
    "        self.fc3 = nn.Linear(84, 10)\n",
    "\n",
    "    def forward(self, x):\n",
    "        x = self.pool(F.relu(self.conv1(x)))\n",
    "        x = self.pool(F.relu(self.conv2(x)))\n",
    "        x = x.view(-1, 16 * 5 * 5)\n",
    "        x = F.relu(self.fc1(x))\n",
    "        x = F.relu(self.fc2(x))\n",
    "        x = self.fc3(x)\n",
    "        return F.log_softmax(x, dim=1)\n",
    "    \n",
    "cf_model = CF_Net().cuda()"
   ]
  },
  {
   "cell_type": "code",
   "execution_count": 206,
   "metadata": {
    "collapsed": false,
    "hidden": true
   },
   "outputs": [],
   "source": [
    "cf_optimizer = optim.SGD(cf_model.parameters(), lr=0.001, momentum=0.9)"
   ]
  },
  {
   "cell_type": "markdown",
   "metadata": {
    "heading_collapsed": true,
    "hidden": true
   },
   "source": [
    "## Train"
   ]
  },
  {
   "cell_type": "code",
   "execution_count": 207,
   "metadata": {
    "collapsed": true,
    "hidden": true
   },
   "outputs": [],
   "source": [
    "def train_cf(model, train_loader, optimizer, epoch):\n",
    "    \n",
    "    running_loss = 0.0\n",
    "    \n",
    "    for batch_idx, (data, target) in enumerate(train_loader):\n",
    "        \n",
    "        data, target = Variable(data.cuda()), Variable(target.cuda())\n",
    "        optimizer.zero_grad()\n",
    "        output = model(data)\n",
    "        \n",
    "        loss = F.nll_loss(output, target)\n",
    "        \n",
    "        loss.backward() \n",
    "        optimizer.step()\n",
    "        running_loss += loss.item()\n",
    "\n",
    "    running_loss /= len(train_loader.dataset)    \n",
    "    \n",
    "    if epoch % args.log_interval == 0:\n",
    "        print('Train Epoch: {} \\t Loss: {:.6f}'.format(epoch, running_loss ))"
   ]
  },
  {
   "cell_type": "code",
   "execution_count": 208,
   "metadata": {
    "collapsed": true,
    "hidden": true
   },
   "outputs": [],
   "source": [
    "def test_cf(model, test_loader):\n",
    "    \n",
    "    test_loss = 0\n",
    "    correct = 0\n",
    "    \n",
    "    with torch.no_grad():\n",
    "        \n",
    "        for data, target in test_loader:\n",
    "            \n",
    "            data, target = data.cuda(), target.cuda()\n",
    "            output = model(data)\n",
    "            \n",
    "            test_loss += F.nll_loss(output, target).item()\n",
    "            \n",
    "            pred = output.max(1, keepdim=True)[1] # get the index of the max log-probability\n",
    "            correct += pred.eq(target.view_as(pred)).sum().item()\n",
    "\n",
    "    test_loss /= len(test_loader.dataset)\n",
    "    \n",
    "    print('\\nTest set: Loss: {:.6f}, Accuracy: {}/{} ({:.0f}%)\\n'.format(\n",
    "        test_loss, correct, len(test_loader.dataset),\n",
    "        100. * correct / len(test_loader.dataset)))"
   ]
  },
  {
   "cell_type": "code",
   "execution_count": 214,
   "metadata": {
    "collapsed": true,
    "hidden": true
   },
   "outputs": [],
   "source": [
    "def run_cf():\n",
    "    for epoch in range(1, 11):\n",
    "        train_cf(cf_model, CF_trainloader, cf_optimizer, epoch)\n",
    "        test_cf(cf_model, CF_testloader)"
   ]
  },
  {
   "cell_type": "code",
   "execution_count": 217,
   "metadata": {
    "collapsed": false,
    "hidden": true,
    "scrolled": true
   },
   "outputs": [
    {
     "name": "stdout",
     "output_type": "stream",
     "text": [
      "Train Epoch: 1 \t Loss: 0.025840\n",
      "\n",
      "Test set: Loss: 0.001148, Accuracy: 6154/10000 (62%)\n",
      "\n",
      "Train Epoch: 2 \t Loss: 0.025213\n",
      "\n",
      "Test set: Loss: 0.001180, Accuracy: 6072/10000 (61%)\n",
      "\n",
      "Train Epoch: 3 \t Loss: 0.024866\n",
      "\n",
      "Test set: Loss: 0.001148, Accuracy: 6170/10000 (62%)\n",
      "\n",
      "Train Epoch: 4 \t Loss: 0.024611\n",
      "\n",
      "Test set: Loss: 0.001184, Accuracy: 6093/10000 (61%)\n",
      "\n",
      "Train Epoch: 5 \t Loss: 0.024063\n",
      "\n",
      "Test set: Loss: 0.001190, Accuracy: 6130/10000 (61%)\n",
      "\n",
      "Train Epoch: 6 \t Loss: 0.023665\n",
      "\n",
      "Test set: Loss: 0.001188, Accuracy: 6191/10000 (62%)\n",
      "\n",
      "Train Epoch: 7 \t Loss: 0.023297\n",
      "\n",
      "Test set: Loss: 0.001215, Accuracy: 6096/10000 (61%)\n",
      "\n",
      "Train Epoch: 8 \t Loss: 0.022933\n",
      "\n",
      "Test set: Loss: 0.001186, Accuracy: 6087/10000 (61%)\n",
      "\n",
      "Train Epoch: 9 \t Loss: 0.022417\n",
      "\n",
      "Test set: Loss: 0.001193, Accuracy: 6140/10000 (61%)\n",
      "\n",
      "Train Epoch: 10 \t Loss: 0.022047\n",
      "\n",
      "Test set: Loss: 0.001202, Accuracy: 6173/10000 (62%)\n",
      "\n"
     ]
    }
   ],
   "source": [
    "run_cf()\n",
    "\n",
    "#62% accuracy on test"
   ]
  },
  {
   "cell_type": "markdown",
   "metadata": {
    "heading_collapsed": true,
    "hidden": true
   },
   "source": [
    "## Save network"
   ]
  },
  {
   "cell_type": "code",
   "execution_count": 218,
   "metadata": {
    "collapsed": false,
    "hidden": true
   },
   "outputs": [],
   "source": [
    "cf_fp = r\"D:\\Models\\CIFAR10\\120718\"\n",
    "#torch.save(cf_model.state_dict(), cf_fp)\n",
    "cf_model.load_state_dict(torch.load(cf_fp))"
   ]
  },
  {
   "cell_type": "code",
   "execution_count": null,
   "metadata": {
    "collapsed": true,
    "hidden": true
   },
   "outputs": [],
   "source": []
  },
  {
   "cell_type": "markdown",
   "metadata": {},
   "source": [
    "# FGSM"
   ]
  },
  {
   "cell_type": "markdown",
   "metadata": {
    "heading_collapsed": true
   },
   "source": [
    "## Setup"
   ]
  },
  {
   "cell_type": "code",
   "execution_count": 15,
   "metadata": {
    "collapsed": true,
    "hidden": true
   },
   "outputs": [],
   "source": [
    "grads = {} #closure for use as a hook in fgsm attack - otherwise gradients can't be obtained for images. \n",
    "def save_grad(name):\n",
    "    def hook(grad):\n",
    "        grads[name] = grad\n",
    "    return hook"
   ]
  },
  {
   "cell_type": "code",
   "execution_count": 16,
   "metadata": {
    "collapsed": false,
    "hidden": true
   },
   "outputs": [],
   "source": [
    "def fgsm(model, x, y, eps=0.03, x_val_min=0, x_val_max=1, batch=True): #https://arxiv.org/pdf/1412.6572.pdf\n",
    "    \n",
    "    x_adv = Variable(x.data, requires_grad=True).cuda() #clean image\n",
    "    x_adv.register_hook(save_grad('x_adv'))\n",
    "\n",
    "    h_adv = model(x_adv) #clean pred\n",
    "    \n",
    "    cost = F.nll_loss(h_adv, y.cuda()) #negative log loss clean image and clean pred\n",
    "\n",
    "    if x_adv.grad is not None:\n",
    "        x_adv.grad.data.fill_(0)\n",
    "\n",
    "    cost.backward()\n",
    "\n",
    "    #x_adv.grad.sign_() #take sign of gradients \n",
    "    x_adv = x_adv + (eps*grads['x_adv'].sign())\n",
    "    x_adv = torch.clamp(x_adv, x_val_min, x_val_max)\n",
    "    \n",
    "    if batch == False:\n",
    "        with torch.no_grad():\n",
    "            h = model(x)\n",
    "            h_adv = model(x_adv)\n",
    "\n",
    "        return x_adv, h_adv, h\n",
    "    \n",
    "    return x_adv"
   ]
  },
  {
   "cell_type": "code",
   "execution_count": 17,
   "metadata": {
    "collapsed": false,
    "hidden": true
   },
   "outputs": [],
   "source": [
    "def adv_plotter(x, y, model, eps=0.3, dataset='MNIST'):\n",
    "    \n",
    "    \n",
    "    x_adv, adv_h, clean_h = fgsm(model, x, y, eps=eps, batch=False)\n",
    "    \n",
    "    if dataset == 'MNIST':\n",
    "        x = x.cpu().detach().numpy().reshape(28,28)\n",
    "        x_adv = x_adv.cpu().detach().numpy().reshape(28,28)\n",
    "        \n",
    "    elif dataset == 'CIFAR10':\n",
    "        x = np.transpose(x.cpu().detach().numpy().reshape(3,32,32), (1, 2, 0))\n",
    "        x_adv = np.transpose(x_adv.cpu().detach().numpy().reshape(3,32,32), (1, 2, 0))\n",
    "    \n",
    "    cleanpred = F.softmax(clean_h, dim=1).argmax()\n",
    "    advpred = F.softmax(adv_h, dim=1).argmax()\n",
    "    \n",
    "    if dataset == 'CIFAR10':\n",
    "        cleanpred = cf_classes[cleanpred]\n",
    "        advpred = cf_classes[advpred]\n",
    "        \n",
    "    cleanpredpct = F.softmax(clean_h, dim=1).max()\n",
    "    advpredpct = F.softmax(adv_h, dim=1).max()\n",
    "    \n",
    "    fig, (ax1, ax2, ax3) = plt.subplots(1, 3, figsize=(18,10))\n",
    "    ax1.imshow(x, cmap='Greys')\n",
    "    ax1.text(x=3, y=36, s=\"Predicted: {x} ({y:.2f})\".format(x=cleanpred, y=cleanpredpct), fontsize=20)\n",
    "    ax2.imshow(x_adv, cmap='Greys')\n",
    "    ax2.text(x=3, y=36, s=\"Predicted: {x} ({y:.2f})\".format(x=advpred, y=advpredpct), fontsize=20)\n",
    "    ax3.imshow(np.clip(x - x_adv, 0, 1), cmap='Greys')\n",
    "    ax3.text(x=8, y=36, s=\"Difference\", fontsize=20)"
   ]
  },
  {
   "cell_type": "code",
   "execution_count": 18,
   "metadata": {
    "collapsed": true,
    "hidden": true
   },
   "outputs": [],
   "source": [
    "def advtester(model, dataloader, eps):\n",
    "    \n",
    "    correct = 0\n",
    "    \n",
    "    for data, target in dataloader:\n",
    "            \n",
    "            data= fgsm(model, data, target, eps=eps)\n",
    "            \n",
    "            output = model(data)\n",
    "            \n",
    "            pred = output.max(1, keepdim=True)[1] # get the index of the max log-probability\n",
    "            correct += pred.eq(target.view_as(pred).cuda()).sum().item()\n",
    "            \n",
    "    accuracy = 100. * correct / len(test_loader.dataset)\n",
    "    \n",
    "    print('Accuracy on adversarial examples: {}/{} ({:.1f}%)\\n'.format(\n",
    "    correct, len(test_loader.dataset),accuracy))\n",
    "    \n",
    "    return accuracy"
   ]
  },
  {
   "cell_type": "markdown",
   "metadata": {},
   "source": [
    "## Plots"
   ]
  },
  {
   "cell_type": "code",
   "execution_count": 392,
   "metadata": {
    "collapsed": false
   },
   "outputs": [],
   "source": [
    "unbatch = next(iter(train_loader)) #get images from test set\n",
    "\n",
    "xx = unbatch[0][2].view(1,1,28,28).cuda()\n",
    "yy = unbatch[1][2].view(1).cuda()\n",
    "\n",
    "cf_unbatch = next(iter(CF_trainloader))\n",
    "\n",
    "cf_xx = cf_unbatch[0][5].view(1,3,32,32).cuda()\n",
    "cf_yy = cf_unbatch[1][5].view(1).cuda()"
   ]
  },
  {
   "cell_type": "code",
   "execution_count": 394,
   "metadata": {
    "collapsed": false
   },
   "outputs": [
    {
     "data": {
      "image/png": "[encoded data removed]",
      "text/plain": [
       "<matplotlib.figure.Figure at 0x294c81e7cf8>"
      ]
     },
     "metadata": {},
     "output_type": "display_data"
    }
   ],
   "source": [
    "adv_plotter(xx, yy, model, eps=0.4)"
   ]
  },
  {
   "cell_type": "code",
   "execution_count": 319,
   "metadata": {
    "collapsed": false
   },
   "outputs": [
    {
     "data": {
      "image/png": "[encoded data removed]",
      "text/plain": [
       "<matplotlib.figure.Figure at 0x294c7fca048>"
      ]
     },
     "metadata": {},
     "output_type": "display_data"
    }
   ],
   "source": [
    "adv_plotter(cf_xx, cf_yy, cf_model, eps=0.1, dataset='CIFAR10')"
   ]
  },
  {
   "cell_type": "code",
   "execution_count": 111,
   "metadata": {
    "collapsed": false
   },
   "outputs": [],
   "source": [
    "#FOR MNIST\n",
    "\n",
    "#eps_dict = {}\n",
    "\n",
    "#for i in range(101):\n",
    "#    eps_dict[i/100] = advtester(model, test_loader, eps=i/100)"
   ]
  },
  {
   "cell_type": "code",
   "execution_count": 102,
   "metadata": {
    "collapsed": false
   },
   "outputs": [],
   "source": [
    "#FOR MNIST\n",
    "#df =pd.DataFrame(eps_dict, index=['Accuracy']).T\n",
    "#df.index.name = 'epsilon'\n",
    "#df = df.reset_index()\n",
    "#df.to_feather(r\"D:\\Data_sets\\Adversarial/fgsm_eps_df\")"
   ]
  },
  {
   "cell_type": "code",
   "execution_count": 350,
   "metadata": {
    "collapsed": false
   },
   "outputs": [],
   "source": [
    "#FOR CIFAR10\n",
    "\n",
    "# eps_dict2 = {}\n",
    "\n",
    "# for i in range(101):\n",
    "#     eps_dict2[i/100] = advtester(cf_model, CF_testloader, eps=i/100)"
   ]
  },
  {
   "cell_type": "code",
   "execution_count": 329,
   "metadata": {
    "collapsed": true
   },
   "outputs": [],
   "source": [
    "#For CIFAR10\n",
    "# df2 = pd.DataFrame(eps_dict2, index=['Accuracy']).T\n",
    "# df2.index.name = 'epsilon'\n",
    "# df2 = df2.reset_index()\n",
    "# df2.to_feather(r\"D:\\Data_sets\\Adversarial/fgsm_eps_df_cfar\")"
   ]
  },
  {
   "cell_type": "code",
   "execution_count": 348,
   "metadata": {
    "collapsed": false
   },
   "outputs": [],
   "source": [
    "df = pd.read_feather(r\"D:\\Data_sets\\Adversarial/fgsm_eps_df\")\n",
    "df2 = pd.read_feather(r\"D:\\Data_sets\\Adversarial/fgsm_eps_df_cfar\")\n",
    "comb = df.join(df2, lsuffix='mnist')\n",
    "comb.drop('epsilonmnist', axis=1, inplace=True)\n",
    "comb.columns = ['MNIST', 'epsilon', 'CIFAR']"
   ]
  },
  {
   "cell_type": "code",
   "execution_count": 406,
   "metadata": {
    "collapsed": false
   },
   "outputs": [
    {
     "data": {
      "image/png": "[encoded data removed]",
      "text/plain": [
       "<matplotlib.figure.Figure at 0x294c81480b8>"
      ]
     },
     "metadata": {},
     "output_type": "display_data"
    }
   ],
   "source": [
    "ax =comb.plot(x='epsilon', figsize=(20,10), title='Accuracy of network on MNIST and CIFAR10 test sets (10k examples) \\n as epsilon is increased for FGSM attack')\n",
    "ax.set_ylabel('Accuracy');"
   ]
  },
  {
   "cell_type": "code",
   "execution_count": 403,
   "metadata": {
    "collapsed": false
   },
   "outputs": [],
   "source": [
    "def normcomp(order):\n",
    "    norm_dict = {}\n",
    "\n",
    "    for i in range(101):\n",
    "        norm_dict[i/100] ={}\n",
    "        norm_dict[i/100]['CIFAR10'] = np.linalg.norm(np.full(32*32, i/100), ord=order)\n",
    "        norm_dict[i/100]['MNIST'] = np.linalg.norm(np.full(28*28, i/100), ord=order)\n",
    "        \n",
    "    ax = pd.DataFrame(norm_dict).T.plot(title='norms of fgsm perturbations as epsilon increases')\n",
    "    ax.set_ylabel('$l_{}$ norm'.format(order))\n",
    "    ax.set_xlabel('Epsilon')"
   ]
  },
  {
   "cell_type": "code",
   "execution_count": 404,
   "metadata": {
    "collapsed": false
   },
   "outputs": [
    {
     "data": {
      "image/png": "[encoded data removed]",
      "text/plain": [
       "<matplotlib.figure.Figure at 0x294c806af28>"
      ]
     },
     "metadata": {},
     "output_type": "display_data"
    }
   ],
   "source": [
    "normcomp(2)"
   ]
  },
  {
   "cell_type": "code",
   "execution_count": 405,
   "metadata": {
    "collapsed": false
   },
   "outputs": [
    {
     "data": {
      "image/png": "[encoded data removed]",
      "text/plain": [
       "<matplotlib.figure.Figure at 0x294b6958978>"
      ]
     },
     "metadata": {},
     "output_type": "display_data"
    }
   ],
   "source": [
    "normcomp(1)"
   ]
  },
  {
   "cell_type": "markdown",
   "metadata": {
    "heading_collapsed": true
   },
   "source": [
    "## Write adversarials to disk"
   ]
  },
  {
   "cell_type": "code",
   "execution_count": 138,
   "metadata": {
    "collapsed": true,
    "hidden": true
   },
   "outputs": [],
   "source": [
    "def adv_writer(root, model, dataloader, epsilon=0.3):\n",
    "    \"\"\"Given a model and data set,\n",
    "    saves numpy array of fgsm adversarial \n",
    "    examples to disk\"\"\"\n",
    "    \n",
    "    for i, batch in enumerate(iter(test_loader)):\n",
    "    \n",
    "        if i == 0:\n",
    "\n",
    "            adversarials = fgsm(model, batch[0], batch[1], \n",
    "                            eps=epsilon).cpu().detach().numpy()\n",
    "\n",
    "            labels = batch[1].cpu().detach().numpy()\n",
    "\n",
    "        else:\n",
    "            ads = fgsm(model, batch[0], batch[1], \n",
    "                        eps=epsilon).cpu().detach().numpy()\n",
    "            labs = batch[1].cpu().detach().numpy()\n",
    "\n",
    "\n",
    "            adversarials = np.append(adversarials, ads, axis = 0)\n",
    "            labels = np.append(labels, labs)\n",
    "    \n",
    "        \n",
    "    np.save(root+'/adversarials', adversarials)\n",
    "    np.save(root+'/labels', labels)"
   ]
  },
  {
   "cell_type": "code",
   "execution_count": 140,
   "metadata": {
    "collapsed": false,
    "hidden": true
   },
   "outputs": [],
   "source": [
    "#adv_writer('D:/Data_sets/Adversarial/MNIST', model, test_loader, epsilon=0.5)"
   ]
  }
 ],
 "metadata": {
  "anaconda-cloud": {},
  "kernelspec": {
   "display_name": "Python [default]",
   "language": "python",
   "name": "python3"
  },
  "language_info": {
   "codemirror_mode": {
    "name": "ipython",
    "version": 3
   },
   "file_extension": ".py",
   "mimetype": "text/x-python",
   "name": "python",
   "nbconvert_exporter": "python",
   "pygments_lexer": "ipython3",
   "version": "3.5.4"
  }
 },
 "nbformat": 4,
 "nbformat_minor": 2
}
