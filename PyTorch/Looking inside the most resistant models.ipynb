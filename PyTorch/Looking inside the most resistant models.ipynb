{
 "cells": [
  {
   "cell_type": "markdown",
   "metadata": {
    "heading_collapsed": true
   },
   "source": [
    "# Setup "
   ]
  },
  {
   "cell_type": "code",
   "execution_count": 1,
   "metadata": {
    "hidden": true
   },
   "outputs": [],
   "source": [
    "%matplotlib inline\n",
    "\n",
    "import torch\n",
    "import numpy as np\n",
    "import pandas as pd\n",
    "import seaborn as sns\n",
    "\n",
    "import torch.nn as nn\n",
    "import torch.nn.functional as F\n",
    "import torch.optim as optim\n",
    "import matplotlib.pyplot as plt\n",
    "\n",
    "from torch.autograd import Variable\n",
    "from torchvision import datasets, transforms"
   ]
  },
  {
   "cell_type": "markdown",
   "metadata": {
    "heading_collapsed": true
   },
   "source": [
    "# Dataloaders"
   ]
  },
  {
   "cell_type": "code",
   "execution_count": 2,
   "metadata": {
    "hidden": true
   },
   "outputs": [],
   "source": [
    "transform = transforms.Compose([\n",
    "                       transforms.ToTensor(),\n",
    "                       #transforms.Normalize((0.1307,), (0.3081,)) #normalise pixels using mean and stdev\n",
    "                       transforms.Normalize((0.5, 0.5, 0.5), (0.5, 0.5, 0.5)) #normalise to range -1 to 1\n",
    "                   ])\n",
    "\n",
    "\n",
    "\n",
    "MNIST_train = datasets.MNIST(r'D:\\Data_sets/MNIST', train=True, download=True,\n",
    "                   transform=transform)\n",
    "\n",
    "MNIST_test = datasets.MNIST(r'D:\\Data_sets/MNIST', train=False, download=True,\n",
    "                   transform=transform)"
   ]
  },
  {
   "cell_type": "code",
   "execution_count": 4,
   "metadata": {
    "hidden": true
   },
   "outputs": [],
   "source": [
    "train_loader = torch.utils.data.DataLoader(MNIST_train, \n",
    "                                           batch_size=64, \n",
    "                                           shuffle=True, \n",
    "                                           pin_memory=True)\n",
    "\n",
    "test_loader = torch.utils.data.DataLoader(MNIST_test,\n",
    "                                          batch_size=1000, \n",
    "                                          shuffle=True, \n",
    "                                          pin_memory=True)"
   ]
  },
  {
   "cell_type": "markdown",
   "metadata": {
    "heading_collapsed": true
   },
   "source": [
    "# ModelBuilders "
   ]
  },
  {
   "cell_type": "code",
   "execution_count": 11,
   "metadata": {
    "hidden": true
   },
   "outputs": [],
   "source": [
    "class Flatten(nn.Module):\n",
    "    \"\"\"Flattens input to vector size (batchsize, 1)\n",
    "    (for use in NetFromBuildInfo).\"\"\"\n",
    "\n",
    "    def __init__(self):\n",
    "        super(Flatten, self).__init__()\n",
    "\n",
    "    def forward(self, x):\n",
    "        return x.view(x.size(0), -1)"
   ]
  },
  {
   "cell_type": "code",
   "execution_count": 12,
   "metadata": {
    "hidden": true
   },
   "outputs": [],
   "source": [
    "class NetFromBuildInfo(nn.Module):\n",
    "    def __init__(self, build_info):\n",
    "        super(NetFromBuildInfo, self).__init__()\n",
    "        \n",
    "        self.activation_dict = {\n",
    "            'tanh': nn.Tanh(),\n",
    "            'relu': nn.ReLU(),\n",
    "            'sigmoid': nn.Sigmoid(),\n",
    "            'elu': nn.ELU()\n",
    "            }\n",
    "\n",
    "        #NETWORK DEFINITION\n",
    "        \n",
    "        previous_units = 28 * 28 #MNIST shape\n",
    "        \n",
    "        self.model = nn.Sequential()\n",
    "        self.model.add_module('flatten', Flatten())\n",
    "         \n",
    "        for i, layer_info in enumerate(build_info['layers']):\n",
    "            i = str(i)\n",
    "            \n",
    "            self.model.add_module(\n",
    "                'fc_' + i,\n",
    "                nn.Linear(previous_units, layer_info['nb_units'])\n",
    "                )\n",
    "            \n",
    "            previous_units = layer_info['nb_units']\n",
    "            \n",
    "            self.model.add_module(\n",
    "                'dropout_' + i,\n",
    "                nn.Dropout(p=layer_info['dropout_rate'])\n",
    "                )\n",
    "            if layer_info['activation'] == 'linear':\n",
    "                continue #linear activation is identity function\n",
    "            self.model.add_module(\n",
    "                layer_info['activation']+ i,\n",
    "                self.activation_dict[layer_info['activation']])\n",
    "\n",
    "        self.model.add_module(\n",
    "            'logits',\n",
    "            nn.Linear(previous_units, 10) #10 MNIST classes\n",
    "            )\n",
    "        \n",
    "        \n",
    "        ##OPTIMIZER\n",
    "\n",
    "        self.opt_args = {#'params': self.model.parameters(),\n",
    "                 'weight_decay': build_info['weight_decay'],\n",
    "                 'lr': build_info['lr']\n",
    "                 }\n",
    "        \n",
    "        self.optimizer_dict = {\n",
    "            'adam': optim.Adam(self.model.parameters(),**self.opt_args),\n",
    "            'rmsprop': optim.RMSprop(self.model.parameters(),**self.opt_args),\n",
    "            'adadelta':optim.Adadelta(self.model.parameters(),**self.opt_args),\n",
    "            'sgd': optim.SGD(self.model.parameters(), **self.opt_args, momentum=0.9) #momentum to train faster\n",
    "            }\n",
    "\n",
    "        self.optimizer = self.optimizer_dict[build_info['optimizer']]\n",
    "        \n",
    "        \n",
    "    def forward(self, x):\n",
    "        x = self.model(x)\n",
    "        return F.log_softmax(x, dim=1)"
   ]
  },
  {
   "cell_type": "code",
   "execution_count": 13,
   "metadata": {
    "hidden": true
   },
   "outputs": [],
   "source": [
    "def count_parameters(model):\n",
    "    return sum(p.numel() for p in model.parameters() if p.requires_grad)"
   ]
  },
  {
   "cell_type": "code",
   "execution_count": 37,
   "metadata": {
    "hidden": true
   },
   "outputs": [],
   "source": [
    "def rebuild_from_save(df, generation, position):\n",
    "    \n",
    "    genome = df[df['Generation'] == generation].iloc[position, -2]\n",
    "    \n",
    "    net = NetFromBuildInfo(genome)\n",
    "    \n",
    "    net.load_state_dict(torch.load(r\"D:\\Models\\NeuroEvolution\\{}-{}\".format(generation, position)))\n",
    "    \n",
    "    return net.cuda()"
   ]
  },
  {
   "cell_type": "code",
   "execution_count": null,
   "metadata": {
    "hidden": true
   },
   "outputs": [],
   "source": []
  },
  {
   "cell_type": "markdown",
   "metadata": {},
   "source": [
    "# Exploration"
   ]
  },
  {
   "cell_type": "code",
   "execution_count": 5,
   "metadata": {},
   "outputs": [],
   "source": [
    "df = pd.read_pickle(r\"../data/neuroevolution2\")"
   ]
  },
  {
   "cell_type": "code",
   "execution_count": 24,
   "metadata": {
    "scrolled": true
   },
   "outputs": [
    {
     "data": {
      "text/html": [
       "<div>\n",
       "<style scoped>\n",
       "    .dataframe tbody tr th:only-of-type {\n",
       "        vertical-align: middle;\n",
       "    }\n",
       "\n",
       "    .dataframe tbody tr th {\n",
       "        vertical-align: top;\n",
       "    }\n",
       "\n",
       "    .dataframe thead th {\n",
       "        text-align: right;\n",
       "    }\n",
       "</style>\n",
       "<table border=\"1\" class=\"dataframe\">\n",
       "  <thead>\n",
       "    <tr style=\"text-align: right;\">\n",
       "      <th></th>\n",
       "      <th>Generation</th>\n",
       "      <th>Clean</th>\n",
       "      <th>Adversarial</th>\n",
       "      <th>No_layers</th>\n",
       "      <th>Lr</th>\n",
       "      <th>Act_func</th>\n",
       "      <th>Nb_units</th>\n",
       "      <th>Dropout</th>\n",
       "      <th>Genome</th>\n",
       "    </tr>\n",
       "  </thead>\n",
       "  <tbody>\n",
       "    <tr>\n",
       "      <th>2010</th>\n",
       "      <td>68</td>\n",
       "      <td>8811</td>\n",
       "      <td>8181</td>\n",
       "      <td>1</td>\n",
       "      <td>0.078663</td>\n",
       "      <td>linear</td>\n",
       "      <td>1577</td>\n",
       "      <td>0.673602</td>\n",
       "      <td>{'optimizer': 'adam', 'weight_decay': 0.000168...</td>\n",
       "    </tr>\n",
       "    <tr>\n",
       "      <th>2011</th>\n",
       "      <td>68</td>\n",
       "      <td>8997</td>\n",
       "      <td>8312</td>\n",
       "      <td>1</td>\n",
       "      <td>0.078663</td>\n",
       "      <td>linear</td>\n",
       "      <td>1577</td>\n",
       "      <td>0.673602</td>\n",
       "      <td>{'optimizer': 'adam', 'weight_decay': 4.712941...</td>\n",
       "    </tr>\n",
       "    <tr>\n",
       "      <th>2012</th>\n",
       "      <td>68</td>\n",
       "      <td>9099</td>\n",
       "      <td>8295</td>\n",
       "      <td>1</td>\n",
       "      <td>0.078663</td>\n",
       "      <td>linear</td>\n",
       "      <td>1577</td>\n",
       "      <td>0.673602</td>\n",
       "      <td>{'optimizer': 'adam', 'weight_decay': 4.712941...</td>\n",
       "    </tr>\n",
       "    <tr>\n",
       "      <th>2013</th>\n",
       "      <td>68</td>\n",
       "      <td>8755</td>\n",
       "      <td>8274</td>\n",
       "      <td>2</td>\n",
       "      <td>0.00463863</td>\n",
       "      <td>linear</td>\n",
       "      <td>1577</td>\n",
       "      <td>0.673602</td>\n",
       "      <td>{'optimizer': 'adam', 'weight_decay': 4.712941...</td>\n",
       "    </tr>\n",
       "    <tr>\n",
       "      <th>2014</th>\n",
       "      <td>68</td>\n",
       "      <td>8933</td>\n",
       "      <td>8223</td>\n",
       "      <td>1</td>\n",
       "      <td>0.078663</td>\n",
       "      <td>linear</td>\n",
       "      <td>1577</td>\n",
       "      <td>0.673602</td>\n",
       "      <td>{'optimizer': 'adam', 'weight_decay': 0.000168...</td>\n",
       "    </tr>\n",
       "    <tr>\n",
       "      <th>2015</th>\n",
       "      <td>68</td>\n",
       "      <td>980</td>\n",
       "      <td>980</td>\n",
       "      <td>1</td>\n",
       "      <td>0.078663</td>\n",
       "      <td>linear</td>\n",
       "      <td>1577</td>\n",
       "      <td>0.673602</td>\n",
       "      <td>{'optimizer': 'sgd', 'weight_decay': 4.7129419...</td>\n",
       "    </tr>\n",
       "    <tr>\n",
       "      <th>2016</th>\n",
       "      <td>68</td>\n",
       "      <td>9184</td>\n",
       "      <td>627</td>\n",
       "      <td>1</td>\n",
       "      <td>0.0664317</td>\n",
       "      <td>linear</td>\n",
       "      <td>1577</td>\n",
       "      <td>0.673602</td>\n",
       "      <td>{'optimizer': 'adadelta', 'weight_decay': 0.00...</td>\n",
       "    </tr>\n",
       "    <tr>\n",
       "      <th>2017</th>\n",
       "      <td>68</td>\n",
       "      <td>1108</td>\n",
       "      <td>3091</td>\n",
       "      <td>1</td>\n",
       "      <td>0.078663</td>\n",
       "      <td>tanh</td>\n",
       "      <td>1577</td>\n",
       "      <td>0.673602</td>\n",
       "      <td>{'optimizer': 'adam', 'weight_decay': 4.712941...</td>\n",
       "    </tr>\n",
       "    <tr>\n",
       "      <th>2018</th>\n",
       "      <td>68</td>\n",
       "      <td>9207</td>\n",
       "      <td>255</td>\n",
       "      <td>1</td>\n",
       "      <td>0.039763</td>\n",
       "      <td>linear</td>\n",
       "      <td>1577</td>\n",
       "      <td>0.212479</td>\n",
       "      <td>{'optimizer': 'adadelta', 'weight_decay': 0.00...</td>\n",
       "    </tr>\n",
       "    <tr>\n",
       "      <th>2019</th>\n",
       "      <td>68</td>\n",
       "      <td>7937</td>\n",
       "      <td>4600</td>\n",
       "      <td>1</td>\n",
       "      <td>0.078663</td>\n",
       "      <td>sigmoid</td>\n",
       "      <td>1822</td>\n",
       "      <td>0.673602</td>\n",
       "      <td>{'optimizer': 'sgd', 'weight_decay': 4.7129419...</td>\n",
       "    </tr>\n",
       "    <tr>\n",
       "      <th>2020</th>\n",
       "      <td>68</td>\n",
       "      <td>8820</td>\n",
       "      <td>8131</td>\n",
       "      <td>1</td>\n",
       "      <td>0.078663</td>\n",
       "      <td>linear</td>\n",
       "      <td>324</td>\n",
       "      <td>0.673602</td>\n",
       "      <td>{'optimizer': 'adam', 'weight_decay': 0.000168...</td>\n",
       "    </tr>\n",
       "    <tr>\n",
       "      <th>2021</th>\n",
       "      <td>68</td>\n",
       "      <td>9629</td>\n",
       "      <td>1869</td>\n",
       "      <td>1</td>\n",
       "      <td>0.078663</td>\n",
       "      <td>relu</td>\n",
       "      <td>1577</td>\n",
       "      <td>0.673602</td>\n",
       "      <td>{'optimizer': 'adadelta', 'weight_decay': 4.71...</td>\n",
       "    </tr>\n",
       "    <tr>\n",
       "      <th>2022</th>\n",
       "      <td>68</td>\n",
       "      <td>8967</td>\n",
       "      <td>8217</td>\n",
       "      <td>1</td>\n",
       "      <td>0.078663</td>\n",
       "      <td>linear</td>\n",
       "      <td>1577</td>\n",
       "      <td>0.2942</td>\n",
       "      <td>{'optimizer': 'adam', 'weight_decay': 4.524477...</td>\n",
       "    </tr>\n",
       "    <tr>\n",
       "      <th>2023</th>\n",
       "      <td>68</td>\n",
       "      <td>9066</td>\n",
       "      <td>8235</td>\n",
       "      <td>1</td>\n",
       "      <td>0.00470045</td>\n",
       "      <td>linear</td>\n",
       "      <td>1577</td>\n",
       "      <td>0.673602</td>\n",
       "      <td>{'optimizer': 'adam', 'weight_decay': 4.712941...</td>\n",
       "    </tr>\n",
       "    <tr>\n",
       "      <th>2024</th>\n",
       "      <td>68</td>\n",
       "      <td>8559</td>\n",
       "      <td>7653</td>\n",
       "      <td>1</td>\n",
       "      <td>0.078663</td>\n",
       "      <td>linear</td>\n",
       "      <td>1849</td>\n",
       "      <td>0.147497</td>\n",
       "      <td>{'optimizer': 'adam', 'weight_decay': 4.712941...</td>\n",
       "    </tr>\n",
       "    <tr>\n",
       "      <th>2025</th>\n",
       "      <td>68</td>\n",
       "      <td>9015</td>\n",
       "      <td>8266</td>\n",
       "      <td>1</td>\n",
       "      <td>0.078663</td>\n",
       "      <td>linear</td>\n",
       "      <td>1849</td>\n",
       "      <td>0.673602</td>\n",
       "      <td>{'optimizer': 'adam', 'weight_decay': 4.712941...</td>\n",
       "    </tr>\n",
       "    <tr>\n",
       "      <th>2026</th>\n",
       "      <td>68</td>\n",
       "      <td>1047</td>\n",
       "      <td>1072</td>\n",
       "      <td>1</td>\n",
       "      <td>0.078663</td>\n",
       "      <td>relu</td>\n",
       "      <td>564</td>\n",
       "      <td>0.673602</td>\n",
       "      <td>{'optimizer': 'adam', 'weight_decay': 2.067522...</td>\n",
       "    </tr>\n",
       "    <tr>\n",
       "      <th>2027</th>\n",
       "      <td>68</td>\n",
       "      <td>9170</td>\n",
       "      <td>501</td>\n",
       "      <td>1</td>\n",
       "      <td>0.062212</td>\n",
       "      <td>linear</td>\n",
       "      <td>1577</td>\n",
       "      <td>0.654093</td>\n",
       "      <td>{'optimizer': 'adadelta', 'weight_decay': 0.00...</td>\n",
       "    </tr>\n",
       "    <tr>\n",
       "      <th>2028</th>\n",
       "      <td>68</td>\n",
       "      <td>9081</td>\n",
       "      <td>8546</td>\n",
       "      <td>1</td>\n",
       "      <td>0.078663</td>\n",
       "      <td>linear</td>\n",
       "      <td>1995</td>\n",
       "      <td>0.673602</td>\n",
       "      <td>{'optimizer': 'adam', 'weight_decay': 4.712941...</td>\n",
       "    </tr>\n",
       "    <tr>\n",
       "      <th>2029</th>\n",
       "      <td>68</td>\n",
       "      <td>1090</td>\n",
       "      <td>2207</td>\n",
       "      <td>2</td>\n",
       "      <td>0.078663</td>\n",
       "      <td>linear</td>\n",
       "      <td>1577</td>\n",
       "      <td>0.673602</td>\n",
       "      <td>{'optimizer': 'adam', 'weight_decay': 4.712941...</td>\n",
       "    </tr>\n",
       "    <tr>\n",
       "      <th>2030</th>\n",
       "      <td>68</td>\n",
       "      <td>7817</td>\n",
       "      <td>3044</td>\n",
       "      <td>1</td>\n",
       "      <td>0.0408082</td>\n",
       "      <td>linear</td>\n",
       "      <td>1543</td>\n",
       "      <td>0.051383</td>\n",
       "      <td>{'optimizer': 'sgd', 'weight_decay': 0.0001349...</td>\n",
       "    </tr>\n",
       "    <tr>\n",
       "      <th>2031</th>\n",
       "      <td>68</td>\n",
       "      <td>980</td>\n",
       "      <td>155</td>\n",
       "      <td>1</td>\n",
       "      <td>0.078663</td>\n",
       "      <td>relu</td>\n",
       "      <td>1577</td>\n",
       "      <td>0.673602</td>\n",
       "      <td>{'optimizer': 'adam', 'weight_decay': 4.712941...</td>\n",
       "    </tr>\n",
       "    <tr>\n",
       "      <th>2032</th>\n",
       "      <td>68</td>\n",
       "      <td>9112</td>\n",
       "      <td>8577</td>\n",
       "      <td>1</td>\n",
       "      <td>0.078663</td>\n",
       "      <td>linear</td>\n",
       "      <td>1577</td>\n",
       "      <td>0.673602</td>\n",
       "      <td>{'optimizer': 'rmsprop', 'weight_decay': 4.712...</td>\n",
       "    </tr>\n",
       "    <tr>\n",
       "      <th>2033</th>\n",
       "      <td>68</td>\n",
       "      <td>8991</td>\n",
       "      <td>8450</td>\n",
       "      <td>2</td>\n",
       "      <td>0.0646036</td>\n",
       "      <td>linear</td>\n",
       "      <td>1577</td>\n",
       "      <td>0.505282</td>\n",
       "      <td>{'optimizer': 'adam', 'weight_decay': 0.000181...</td>\n",
       "    </tr>\n",
       "    <tr>\n",
       "      <th>2034</th>\n",
       "      <td>68</td>\n",
       "      <td>980</td>\n",
       "      <td>980</td>\n",
       "      <td>1</td>\n",
       "      <td>0.062212</td>\n",
       "      <td>linear</td>\n",
       "      <td>1577</td>\n",
       "      <td>0.538185</td>\n",
       "      <td>{'optimizer': 'sgd', 'weight_decay': 0.0003247...</td>\n",
       "    </tr>\n",
       "    <tr>\n",
       "      <th>2035</th>\n",
       "      <td>68</td>\n",
       "      <td>8814</td>\n",
       "      <td>8160</td>\n",
       "      <td>1</td>\n",
       "      <td>0.0274471</td>\n",
       "      <td>linear</td>\n",
       "      <td>1381</td>\n",
       "      <td>0.117239</td>\n",
       "      <td>{'optimizer': 'adam', 'weight_decay': 1.430719...</td>\n",
       "    </tr>\n",
       "    <tr>\n",
       "      <th>2036</th>\n",
       "      <td>68</td>\n",
       "      <td>8739</td>\n",
       "      <td>8175</td>\n",
       "      <td>1</td>\n",
       "      <td>0.078663</td>\n",
       "      <td>linear</td>\n",
       "      <td>1577</td>\n",
       "      <td>0.673602</td>\n",
       "      <td>{'optimizer': 'adam', 'weight_decay': 0.000168...</td>\n",
       "    </tr>\n",
       "    <tr>\n",
       "      <th>2037</th>\n",
       "      <td>68</td>\n",
       "      <td>892</td>\n",
       "      <td>1375</td>\n",
       "      <td>1</td>\n",
       "      <td>0.078663</td>\n",
       "      <td>sigmoid</td>\n",
       "      <td>564</td>\n",
       "      <td>0.673602</td>\n",
       "      <td>{'optimizer': 'adam', 'weight_decay': 2.067522...</td>\n",
       "    </tr>\n",
       "    <tr>\n",
       "      <th>2038</th>\n",
       "      <td>68</td>\n",
       "      <td>9090</td>\n",
       "      <td>8213</td>\n",
       "      <td>1</td>\n",
       "      <td>0.00470045</td>\n",
       "      <td>linear</td>\n",
       "      <td>1286</td>\n",
       "      <td>0.673602</td>\n",
       "      <td>{'optimizer': 'adam', 'weight_decay': 8.656746...</td>\n",
       "    </tr>\n",
       "    <tr>\n",
       "      <th>2039</th>\n",
       "      <td>68</td>\n",
       "      <td>958</td>\n",
       "      <td>2882</td>\n",
       "      <td>1</td>\n",
       "      <td>0.078663</td>\n",
       "      <td>tanh</td>\n",
       "      <td>1577</td>\n",
       "      <td>0.673602</td>\n",
       "      <td>{'optimizer': 'adam', 'weight_decay': 0.000170...</td>\n",
       "    </tr>\n",
       "  </tbody>\n",
       "</table>\n",
       "</div>"
      ],
      "text/plain": [
       "     Generation Clean Adversarial No_layers          Lr Act_func Nb_units  \\\n",
       "2010         68  8811        8181         1    0.078663   linear     1577   \n",
       "2011         68  8997        8312         1    0.078663   linear     1577   \n",
       "2012         68  9099        8295         1    0.078663   linear     1577   \n",
       "2013         68  8755        8274         2  0.00463863   linear     1577   \n",
       "2014         68  8933        8223         1    0.078663   linear     1577   \n",
       "2015         68   980         980         1    0.078663   linear     1577   \n",
       "2016         68  9184         627         1   0.0664317   linear     1577   \n",
       "2017         68  1108        3091         1    0.078663     tanh     1577   \n",
       "2018         68  9207         255         1    0.039763   linear     1577   \n",
       "2019         68  7937        4600         1    0.078663  sigmoid     1822   \n",
       "2020         68  8820        8131         1    0.078663   linear      324   \n",
       "2021         68  9629        1869         1    0.078663     relu     1577   \n",
       "2022         68  8967        8217         1    0.078663   linear     1577   \n",
       "2023         68  9066        8235         1  0.00470045   linear     1577   \n",
       "2024         68  8559        7653         1    0.078663   linear     1849   \n",
       "2025         68  9015        8266         1    0.078663   linear     1849   \n",
       "2026         68  1047        1072         1    0.078663     relu      564   \n",
       "2027         68  9170         501         1    0.062212   linear     1577   \n",
       "2028         68  9081        8546         1    0.078663   linear     1995   \n",
       "2029         68  1090        2207         2    0.078663   linear     1577   \n",
       "2030         68  7817        3044         1   0.0408082   linear     1543   \n",
       "2031         68   980         155         1    0.078663     relu     1577   \n",
       "2032         68  9112        8577         1    0.078663   linear     1577   \n",
       "2033         68  8991        8450         2   0.0646036   linear     1577   \n",
       "2034         68   980         980         1    0.062212   linear     1577   \n",
       "2035         68  8814        8160         1   0.0274471   linear     1381   \n",
       "2036         68  8739        8175         1    0.078663   linear     1577   \n",
       "2037         68   892        1375         1    0.078663  sigmoid      564   \n",
       "2038         68  9090        8213         1  0.00470045   linear     1286   \n",
       "2039         68   958        2882         1    0.078663     tanh     1577   \n",
       "\n",
       "       Dropout                                             Genome  \n",
       "2010  0.673602  {'optimizer': 'adam', 'weight_decay': 0.000168...  \n",
       "2011  0.673602  {'optimizer': 'adam', 'weight_decay': 4.712941...  \n",
       "2012  0.673602  {'optimizer': 'adam', 'weight_decay': 4.712941...  \n",
       "2013  0.673602  {'optimizer': 'adam', 'weight_decay': 4.712941...  \n",
       "2014  0.673602  {'optimizer': 'adam', 'weight_decay': 0.000168...  \n",
       "2015  0.673602  {'optimizer': 'sgd', 'weight_decay': 4.7129419...  \n",
       "2016  0.673602  {'optimizer': 'adadelta', 'weight_decay': 0.00...  \n",
       "2017  0.673602  {'optimizer': 'adam', 'weight_decay': 4.712941...  \n",
       "2018  0.212479  {'optimizer': 'adadelta', 'weight_decay': 0.00...  \n",
       "2019  0.673602  {'optimizer': 'sgd', 'weight_decay': 4.7129419...  \n",
       "2020  0.673602  {'optimizer': 'adam', 'weight_decay': 0.000168...  \n",
       "2021  0.673602  {'optimizer': 'adadelta', 'weight_decay': 4.71...  \n",
       "2022    0.2942  {'optimizer': 'adam', 'weight_decay': 4.524477...  \n",
       "2023  0.673602  {'optimizer': 'adam', 'weight_decay': 4.712941...  \n",
       "2024  0.147497  {'optimizer': 'adam', 'weight_decay': 4.712941...  \n",
       "2025  0.673602  {'optimizer': 'adam', 'weight_decay': 4.712941...  \n",
       "2026  0.673602  {'optimizer': 'adam', 'weight_decay': 2.067522...  \n",
       "2027  0.654093  {'optimizer': 'adadelta', 'weight_decay': 0.00...  \n",
       "2028  0.673602  {'optimizer': 'adam', 'weight_decay': 4.712941...  \n",
       "2029  0.673602  {'optimizer': 'adam', 'weight_decay': 4.712941...  \n",
       "2030  0.051383  {'optimizer': 'sgd', 'weight_decay': 0.0001349...  \n",
       "2031  0.673602  {'optimizer': 'adam', 'weight_decay': 4.712941...  \n",
       "2032  0.673602  {'optimizer': 'rmsprop', 'weight_decay': 4.712...  \n",
       "2033  0.505282  {'optimizer': 'adam', 'weight_decay': 0.000181...  \n",
       "2034  0.538185  {'optimizer': 'sgd', 'weight_decay': 0.0003247...  \n",
       "2035  0.117239  {'optimizer': 'adam', 'weight_decay': 1.430719...  \n",
       "2036  0.673602  {'optimizer': 'adam', 'weight_decay': 0.000168...  \n",
       "2037  0.673602  {'optimizer': 'adam', 'weight_decay': 2.067522...  \n",
       "2038  0.673602  {'optimizer': 'adam', 'weight_decay': 8.656746...  \n",
       "2039  0.673602  {'optimizer': 'adam', 'weight_decay': 0.000170...  "
      ]
     },
     "execution_count": 24,
     "metadata": {},
     "output_type": "execute_result"
    }
   ],
   "source": [
    "df[df['Generation'] == 68]"
   ]
  },
  {
   "cell_type": "code",
   "execution_count": 30,
   "metadata": {},
   "outputs": [],
   "source": [
    "popnums = [j for i in range(100) for j in range(30)]"
   ]
  },
  {
   "cell_type": "code",
   "execution_count": 31,
   "metadata": {},
   "outputs": [],
   "source": [
    "df['popnum'] = popnums"
   ]
  },
  {
   "cell_type": "code",
   "execution_count": 33,
   "metadata": {
    "scrolled": true
   },
   "outputs": [
    {
     "data": {
      "text/html": [
       "<div>\n",
       "<style scoped>\n",
       "    .dataframe tbody tr th:only-of-type {\n",
       "        vertical-align: middle;\n",
       "    }\n",
       "\n",
       "    .dataframe tbody tr th {\n",
       "        vertical-align: top;\n",
       "    }\n",
       "\n",
       "    .dataframe thead th {\n",
       "        text-align: right;\n",
       "    }\n",
       "</style>\n",
       "<table border=\"1\" class=\"dataframe\">\n",
       "  <thead>\n",
       "    <tr style=\"text-align: right;\">\n",
       "      <th></th>\n",
       "      <th>Generation</th>\n",
       "      <th>Clean</th>\n",
       "      <th>Adversarial</th>\n",
       "      <th>No_layers</th>\n",
       "      <th>Lr</th>\n",
       "      <th>Act_func</th>\n",
       "      <th>Nb_units</th>\n",
       "      <th>Dropout</th>\n",
       "      <th>Genome</th>\n",
       "      <th>popnum</th>\n",
       "    </tr>\n",
       "  </thead>\n",
       "  <tbody>\n",
       "    <tr>\n",
       "      <th>2032</th>\n",
       "      <td>68</td>\n",
       "      <td>9112</td>\n",
       "      <td>8577</td>\n",
       "      <td>1</td>\n",
       "      <td>0.078663</td>\n",
       "      <td>linear</td>\n",
       "      <td>1577</td>\n",
       "      <td>0.673602</td>\n",
       "      <td>{'optimizer': 'rmsprop', 'weight_decay': 4.712...</td>\n",
       "      <td>22</td>\n",
       "    </tr>\n",
       "  </tbody>\n",
       "</table>\n",
       "</div>"
      ],
      "text/plain": [
       "     Generation Clean Adversarial No_layers        Lr Act_func Nb_units  \\\n",
       "2032         68  9112        8577         1  0.078663   linear     1577   \n",
       "\n",
       "       Dropout                                             Genome  popnum  \n",
       "2032  0.673602  {'optimizer': 'rmsprop', 'weight_decay': 4.712...      22  "
      ]
     },
     "execution_count": 33,
     "metadata": {},
     "output_type": "execute_result"
    }
   ],
   "source": [
    "df[df['Adversarial'] == df['Adversarial'].max()]"
   ]
  },
  {
   "cell_type": "code",
   "execution_count": 78,
   "metadata": {},
   "outputs": [
    {
     "data": {
      "text/plain": [
       "{'layers': [{'activation': 'linear',\n",
       "   'dropout_rate': 0.6736020681051939,\n",
       "   'nb_units': 1577}],\n",
       " 'lr': 0.07866303147789494,\n",
       " 'nb_layers': 1,\n",
       " 'optimizer': 'rmsprop',\n",
       " 'weight_decay': 4.712941984142251e-05}"
      ]
     },
     "execution_count": 78,
     "metadata": {},
     "output_type": "execute_result"
    }
   ],
   "source": [
    "df[df['Adversarial'] == df['Adversarial'].max()].iloc[0,-2]"
   ]
  },
  {
   "cell_type": "code",
   "execution_count": 39,
   "metadata": {
    "scrolled": true
   },
   "outputs": [],
   "source": [
    "model = rebuild_from_save(df, 68, 22)"
   ]
  },
  {
   "cell_type": "code",
   "execution_count": 40,
   "metadata": {},
   "outputs": [
    {
     "data": {
      "text/plain": [
       "NetFromBuildInfo(\n",
       "  (model): Sequential(\n",
       "    (flatten): Flatten()\n",
       "    (fc_0): Linear(in_features=784, out_features=1577, bias=True)\n",
       "    (dropout_0): Dropout(p=0.6736020681051939)\n",
       "    (logits): Linear(in_features=1577, out_features=10, bias=True)\n",
       "  )\n",
       ")"
      ]
     },
     "execution_count": 40,
     "metadata": {},
     "output_type": "execute_result"
    }
   ],
   "source": [
    "model"
   ]
  },
  {
   "cell_type": "code",
   "execution_count": 47,
   "metadata": {},
   "outputs": [
    {
     "data": {
      "text/plain": [
       "1253725"
      ]
     },
     "execution_count": 47,
     "metadata": {},
     "output_type": "execute_result"
    }
   ],
   "source": [
    "count_parameters(model)"
   ]
  },
  {
   "cell_type": "code",
   "execution_count": 79,
   "metadata": {},
   "outputs": [],
   "source": [
    "layer1 = list(model.parameters())[0].detach().cpu().numpy()"
   ]
  },
  {
   "cell_type": "code",
   "execution_count": 80,
   "metadata": {},
   "outputs": [
    {
     "data": {
      "image/png": "[encoded data removed]",
      "text/plain": [
       "<Figure size 432x288 with 1 Axes>"
      ]
     },
     "metadata": {},
     "output_type": "display_data"
    }
   ],
   "source": [
    "plt.hist(layer1.flatten(), bins=40);"
   ]
  },
  {
   "cell_type": "code",
   "execution_count": 82,
   "metadata": {},
   "outputs": [
    {
     "data": {
      "text/plain": [
       "(1577, 784)"
      ]
     },
     "execution_count": 82,
     "metadata": {},
     "output_type": "execute_result"
    }
   ],
   "source": [
    "layer1.shape"
   ]
  },
  {
   "cell_type": "code",
   "execution_count": 151,
   "metadata": {},
   "outputs": [],
   "source": [
    "biases = list(model.parameters())[1].detach().cpu().numpy()"
   ]
  },
  {
   "cell_type": "code",
   "execution_count": 157,
   "metadata": {},
   "outputs": [
    {
     "data": {
      "image/png": "[encoded data removed]",
      "text/plain": [
       "<Figure size 432x288 with 1 Axes>"
      ]
     },
     "metadata": {},
     "output_type": "display_data"
    }
   ],
   "source": [
    "plt.hist(biases);"
   ]
  },
  {
   "cell_type": "code",
   "execution_count": 152,
   "metadata": {},
   "outputs": [],
   "source": [
    "holder = []\n",
    "for i in range(784):\n",
    "    holder.append(layer1[:, i].sum() + biases[i])"
   ]
  },
  {
   "cell_type": "code",
   "execution_count": 153,
   "metadata": {},
   "outputs": [
    {
     "data": {
      "image/png": "[encoded data removed]",
      "text/plain": [
       "<Figure size 432x288 with 1 Axes>"
      ]
     },
     "metadata": {},
     "output_type": "display_data"
    }
   ],
   "source": [
    "plt.hist(holder);"
   ]
  },
  {
   "cell_type": "code",
   "execution_count": 154,
   "metadata": {},
   "outputs": [],
   "source": [
    "holder = np.array(holder)"
   ]
  },
  {
   "cell_type": "code",
   "execution_count": 155,
   "metadata": {},
   "outputs": [
    {
     "data": {
      "image/png": "[encoded data removed]",
      "text/plain": [
       "<Figure size 432x288 with 2 Axes>"
      ]
     },
     "metadata": {},
     "output_type": "display_data"
    }
   ],
   "source": [
    "im = plt.imshow(holder.reshape(28,28), cmap='Greys', interpolation=None)\n",
    "plt.colorbar();"
   ]
  },
  {
   "cell_type": "code",
   "execution_count": 150,
   "metadata": {},
   "outputs": [
    {
     "data": {
      "text/plain": [
       "(1577,)"
      ]
     },
     "execution_count": 150,
     "metadata": {},
     "output_type": "execute_result"
    }
   ],
   "source": [
    "list(model.parameters())[1].detach().cpu().numpy().shape"
   ]
  }
 ],
 "metadata": {
  "anaconda-cloud": {},
  "kernelspec": {
   "display_name": "Python [default]",
   "language": "python",
   "name": "python3"
  },
  "language_info": {
   "codemirror_mode": {
    "name": "ipython",
    "version": 3
   },
   "file_extension": ".py",
   "mimetype": "text/x-python",
   "name": "python",
   "nbconvert_exporter": "python",
   "pygments_lexer": "ipython3",
   "version": "3.5.5"
  }
 },
 "nbformat": 4,
 "nbformat_minor": 2
}
