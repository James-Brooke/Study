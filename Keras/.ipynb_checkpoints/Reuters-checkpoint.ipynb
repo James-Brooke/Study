{
 "cells": [
  {
   "cell_type": "markdown",
   "metadata": {},
   "source": [
    "# Reuters"
   ]
  },
  {
   "cell_type": "code",
   "execution_count": 20,
   "metadata": {
    "collapsed": false
   },
   "outputs": [],
   "source": [
    "%matplotlib inline\n",
    "\n",
    "import numpy as np\n",
    "import matplotlib.pyplot as plt\n",
    "\n",
    "from collections import Counter\n",
    "from keras import models\n",
    "from keras import layers\n",
    "from keras.utils.np_utils import to_categorical\n",
    "\n",
    "from keras.datasets import reuters"
   ]
  },
  {
   "cell_type": "code",
   "execution_count": 4,
   "metadata": {
    "collapsed": false
   },
   "outputs": [
    {
     "name": "stdout",
     "output_type": "stream",
     "text": [
      "Downloading data from https://s3.amazonaws.com/text-datasets/reuters.npz\n",
      "2113536/2110848 [==============================] - 2s 1us/step\n"
     ]
    }
   ],
   "source": [
    "(train_X, train_y), (test_X, test_y) = reuters.load_data(num_words=10000) #only 10000 most common words"
   ]
  },
  {
   "cell_type": "code",
   "execution_count": 5,
   "metadata": {
    "collapsed": false
   },
   "outputs": [
    {
     "data": {
      "text/plain": [
       "(8982,)"
      ]
     },
     "execution_count": 5,
     "metadata": {},
     "output_type": "execute_result"
    }
   ],
   "source": [
    "train_X.shape"
   ]
  },
  {
   "cell_type": "code",
   "execution_count": 8,
   "metadata": {
    "collapsed": false
   },
   "outputs": [
    {
     "data": {
      "text/plain": [
       "87"
      ]
     },
     "execution_count": 8,
     "metadata": {},
     "output_type": "execute_result"
    }
   ],
   "source": [
    "len(train_X[0])"
   ]
  },
  {
   "cell_type": "code",
   "execution_count": 9,
   "metadata": {
    "collapsed": false
   },
   "outputs": [
    {
     "data": {
      "text/plain": [
       "[1, 2, 2, 8, 43, 10, 447, 5, 25, 207]"
      ]
     },
     "execution_count": 9,
     "metadata": {},
     "output_type": "execute_result"
    }
   ],
   "source": [
    "train_X[0][:10]"
   ]
  },
  {
   "cell_type": "code",
   "execution_count": 10,
   "metadata": {
    "collapsed": false
   },
   "outputs": [
    {
     "data": {
      "text/plain": [
       "(2246,)"
      ]
     },
     "execution_count": 10,
     "metadata": {},
     "output_type": "execute_result"
    }
   ],
   "source": [
    "test_X.shape"
   ]
  },
  {
   "cell_type": "code",
   "execution_count": 11,
   "metadata": {
    "collapsed": false
   },
   "outputs": [
    {
     "name": "stdout",
     "output_type": "stream",
     "text": [
      "Downloading data from https://s3.amazonaws.com/text-datasets/reuters_word_index.json\n",
      "557056/550378 [==============================] - 1s 2us/step\n"
     ]
    }
   ],
   "source": [
    "index_dict = reuters.get_word_index()\n",
    "reverse_index = {val: key for (key, val) in index_dict.items()}"
   ]
  },
  {
   "cell_type": "code",
   "execution_count": 12,
   "metadata": {
    "collapsed": true
   },
   "outputs": [],
   "source": [
    "translated = [reverse_index[i-3] if i > 2 else '' for i in train_X[0]] # keys 0-2 are reserved for padding"
   ]
  },
  {
   "cell_type": "code",
   "execution_count": 13,
   "metadata": {
    "collapsed": false
   },
   "outputs": [
    {
     "data": {
      "text/plain": [
       "'   said as a result of its december acquisition of space co it expects earnings per share in 1987 of 1 15 to 1 30 dlrs per share up from 70 cts in 1986 the company said pretax net should rise to nine to 10 mln dlrs from six mln dlrs in 1986 and rental operation revenues to 19 to 22 mln dlrs from 12 5 mln dlrs it said cash flow per share this year should be 2 50 to three dlrs reuter 3'"
      ]
     },
     "execution_count": 13,
     "metadata": {},
     "output_type": "execute_result"
    }
   ],
   "source": [
    "' '.join(translated)"
   ]
  },
  {
   "cell_type": "code",
   "execution_count": 15,
   "metadata": {
    "collapsed": false
   },
   "outputs": [
    {
     "data": {
      "text/plain": [
       "45"
      ]
     },
     "execution_count": 15,
     "metadata": {},
     "output_type": "execute_result"
    }
   ],
   "source": [
    "train_y.max()"
   ]
  },
  {
   "cell_type": "code",
   "execution_count": 18,
   "metadata": {
    "collapsed": false,
    "scrolled": true
   },
   "outputs": [
    {
     "data": {
      "text/plain": [
       "Counter({0: 55,\n",
       "         1: 432,\n",
       "         2: 74,\n",
       "         3: 3159,\n",
       "         4: 1949,\n",
       "         5: 17,\n",
       "         6: 48,\n",
       "         7: 16,\n",
       "         8: 139,\n",
       "         9: 101,\n",
       "         10: 124,\n",
       "         11: 390,\n",
       "         12: 49,\n",
       "         13: 172,\n",
       "         14: 26,\n",
       "         15: 20,\n",
       "         16: 444,\n",
       "         17: 39,\n",
       "         18: 66,\n",
       "         19: 549,\n",
       "         20: 269,\n",
       "         21: 100,\n",
       "         22: 15,\n",
       "         23: 41,\n",
       "         24: 62,\n",
       "         25: 92,\n",
       "         26: 24,\n",
       "         27: 15,\n",
       "         28: 48,\n",
       "         29: 19,\n",
       "         30: 45,\n",
       "         31: 39,\n",
       "         32: 32,\n",
       "         33: 11,\n",
       "         34: 50,\n",
       "         35: 10,\n",
       "         36: 49,\n",
       "         37: 19,\n",
       "         38: 19,\n",
       "         39: 24,\n",
       "         40: 36,\n",
       "         41: 30,\n",
       "         42: 13,\n",
       "         43: 21,\n",
       "         44: 12,\n",
       "         45: 18})"
      ]
     },
     "execution_count": 18,
     "metadata": {},
     "output_type": "execute_result"
    }
   ],
   "source": [
    "Counter(train_y)"
   ]
  },
  {
   "cell_type": "markdown",
   "metadata": {},
   "source": [
    "46 classes (starting at 0), highly imbalanced."
   ]
  },
  {
   "cell_type": "code",
   "execution_count": 19,
   "metadata": {
    "collapsed": true
   },
   "outputs": [],
   "source": [
    "def one_hotter(examples):\n",
    "    out = np.zeros((len(examples), 10000)) #10000 words\n",
    "    for i, example in enumerate(examples):\n",
    "        out[i, example] = 1\n",
    "    return out"
   ]
  },
  {
   "cell_type": "code",
   "execution_count": 21,
   "metadata": {
    "collapsed": true
   },
   "outputs": [],
   "source": [
    "train_X = one_hotter(train_X)\n",
    "test_X = one_hotter(test_X)\n",
    "\n",
    "train_X = train_X.astype('float32')\n",
    "test_X = test_X.astype('float32')\n",
    "train_y = train_y.astype('float32')\n",
    "test_y = test_y.astype('float32')\n",
    "\n",
    "train_y = to_categorical(train_y)\n",
    "test_y = to_categorical(test_y)\n",
    "\n",
    "val_X = train_X[:1000]\n",
    "train_X = train_X[1000:]\n",
    "val_y = train_y[:1000]\n",
    "train_y = train_y[1000:]"
   ]
  },
  {
   "cell_type": "code",
   "execution_count": 22,
   "metadata": {
    "collapsed": true
   },
   "outputs": [],
   "source": [
    "model = models.Sequential()\n",
    "model.add(layers.Dense(64, activation='relu', input_shape=(10000,)))\n",
    "model.add(layers.Dense(64, activation='relu'))\n",
    "model.add(layers.Dense(46, activation ='softmax')) #multiclass classification problem"
   ]
  },
  {
   "cell_type": "code",
   "execution_count": 23,
   "metadata": {
    "collapsed": true
   },
   "outputs": [],
   "source": [
    "model.compile(optimizer='adam', loss='categorical_crossentropy', metrics=['accuracy'])"
   ]
  },
  {
   "cell_type": "code",
   "execution_count": 24,
   "metadata": {
    "collapsed": false
   },
   "outputs": [
    {
     "name": "stdout",
     "output_type": "stream",
     "text": [
      "Train on 7982 samples, validate on 1000 samples\n",
      "Epoch 1/20\n",
      "7982/7982 [==============================] - 4s 444us/step - loss: 3.2648 - acc: 0.4108 - val_loss: 2.4803 - val_acc: 0.5350\n",
      "Epoch 2/20\n",
      "7982/7982 [==============================] - 0s 57us/step - loss: 1.9809 - acc: 0.5730 - val_loss: 1.6435 - val_acc: 0.6210\n",
      "Epoch 3/20\n",
      "7982/7982 [==============================] - 0s 51us/step - loss: 1.3955 - acc: 0.6974 - val_loss: 1.3561 - val_acc: 0.7090\n",
      "Epoch 4/20\n",
      "7982/7982 [==============================] - 0s 52us/step - loss: 1.1027 - acc: 0.7585 - val_loss: 1.1940 - val_acc: 0.7410\n",
      "Epoch 5/20\n",
      "7982/7982 [==============================] - 0s 49us/step - loss: 0.8862 - acc: 0.8068 - val_loss: 1.0826 - val_acc: 0.7650\n",
      "Epoch 6/20\n",
      "7982/7982 [==============================] - 0s 51us/step - loss: 0.7094 - acc: 0.8478 - val_loss: 0.9990 - val_acc: 0.7870\n",
      "Epoch 7/20\n",
      "7982/7982 [==============================] - 0s 49us/step - loss: 0.5647 - acc: 0.8797 - val_loss: 0.9487 - val_acc: 0.7950\n",
      "Epoch 8/20\n",
      "7982/7982 [==============================] - 0s 53us/step - loss: 0.4459 - acc: 0.9077 - val_loss: 0.9040 - val_acc: 0.8130\n",
      "Epoch 9/20\n",
      "7982/7982 [==============================] - 0s 51us/step - loss: 0.3531 - acc: 0.9242 - val_loss: 0.8847 - val_acc: 0.8110\n",
      "Epoch 10/20\n",
      "7982/7982 [==============================] - 0s 55us/step - loss: 0.2808 - acc: 0.9380 - val_loss: 0.8861 - val_acc: 0.8180\n",
      "Epoch 11/20\n",
      "7982/7982 [==============================] - 0s 50us/step - loss: 0.2291 - acc: 0.9456 - val_loss: 0.8890 - val_acc: 0.8150\n",
      "Epoch 12/20\n",
      "7982/7982 [==============================] - 0s 49us/step - loss: 0.1906 - acc: 0.9528 - val_loss: 0.9102 - val_acc: 0.8170\n",
      "Epoch 13/20\n",
      "7982/7982 [==============================] - 0s 53us/step - loss: 0.1673 - acc: 0.9562 - val_loss: 0.9139 - val_acc: 0.8100\n",
      "Epoch 14/20\n",
      "7982/7982 [==============================] - 0s 49us/step - loss: 0.1450 - acc: 0.9582 - val_loss: 0.9502 - val_acc: 0.8120\n",
      "Epoch 15/20\n",
      "7982/7982 [==============================] - 0s 47us/step - loss: 0.1319 - acc: 0.9565 - val_loss: 0.9565 - val_acc: 0.8130\n",
      "Epoch 16/20\n",
      "7982/7982 [==============================] - 0s 51us/step - loss: 0.1215 - acc: 0.9584 - val_loss: 0.9594 - val_acc: 0.8140\n",
      "Epoch 17/20\n",
      "7982/7982 [==============================] - 0s 55us/step - loss: 0.1167 - acc: 0.9600 - val_loss: 0.9802 - val_acc: 0.8080\n",
      "Epoch 18/20\n",
      "7982/7982 [==============================] - 0s 51us/step - loss: 0.1048 - acc: 0.9608 - val_loss: 1.0099 - val_acc: 0.8100\n",
      "Epoch 19/20\n",
      "7982/7982 [==============================] - 0s 51us/step - loss: 0.1023 - acc: 0.9612 - val_loss: 0.9907 - val_acc: 0.8130\n",
      "Epoch 20/20\n",
      "7982/7982 [==============================] - 0s 56us/step - loss: 0.0973 - acc: 0.9643 - val_loss: 1.0047 - val_acc: 0.8050\n"
     ]
    }
   ],
   "source": [
    "history = model.fit(train_X, train_y, epochs=20, batch_size=512, validation_data = (val_X, val_y))"
   ]
  },
  {
   "cell_type": "code",
   "execution_count": 25,
   "metadata": {
    "collapsed": true
   },
   "outputs": [],
   "source": [
    "hist_dict = history.history"
   ]
  },
  {
   "cell_type": "code",
   "execution_count": 26,
   "metadata": {
    "collapsed": true
   },
   "outputs": [],
   "source": [
    "losses = hist_dict['loss']\n",
    "val_losses = hist_dict['val_loss']\n",
    "acc = hist_dict['acc']\n",
    "val_acc = hist_dict['val_acc']"
   ]
  },
  {
   "cell_type": "code",
   "execution_count": 27,
   "metadata": {
    "collapsed": false
   },
   "outputs": [
    {
     "data": {
      "image/png": "[encoded data removed]",
      "text/plain": [
       "<matplotlib.figure.Figure at 0x20c0ec994a8>"
      ]
     },
     "metadata": {},
     "output_type": "display_data"
    }
   ],
   "source": [
    "plt.figure(figsize=(16,6))\n",
    "plt.plot(range(1,21), losses, 'r', label='Train loss', linewidth=3)\n",
    "plt.plot(range(1,21), val_losses, 'b', label='Validation loss', linewidth=3)\n",
    "plt.xlabel('Epoch')\n",
    "plt.ylabel('Loss')\n",
    "plt.legend();"
   ]
  },
  {
   "cell_type": "code",
   "execution_count": 28,
   "metadata": {
    "collapsed": false
   },
   "outputs": [
    {
     "data": {
      "image/png": "[encoded data removed]",
      "text/plain": [
       "<matplotlib.figure.Figure at 0x20c0eba8b70>"
      ]
     },
     "metadata": {},
     "output_type": "display_data"
    }
   ],
   "source": [
    "plt.figure(figsize=(16,6))\n",
    "plt.plot(range(1,21), acc, 'r', label='Train accuracy', linewidth=3)\n",
    "plt.plot(range(1,21), val_acc, 'b', label='Validation accuracy', linewidth=3)\n",
    "plt.xlabel('Epoch')\n",
    "plt.ylabel('Accuracy')\n",
    "plt.legend();"
   ]
  },
  {
   "cell_type": "markdown",
   "metadata": {},
   "source": [
    "Overfitting, could use regularisation."
   ]
  }
 ],
 "metadata": {
  "anaconda-cloud": {},
  "kernelspec": {
   "display_name": "Python [default]",
   "language": "python",
   "name": "python3"
  },
  "language_info": {
   "codemirror_mode": {
    "name": "ipython",
    "version": 3
   },
   "file_extension": ".py",
   "mimetype": "text/x-python",
   "name": "python",
   "nbconvert_exporter": "python",
   "pygments_lexer": "ipython3",
   "version": "3.5.4"
  }
 },
 "nbformat": 4,
 "nbformat_minor": 2
}
