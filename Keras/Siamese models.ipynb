{
 "cells": [
  {
   "cell_type": "markdown",
   "metadata": {},
   "source": [
    "# Siamese models"
   ]
  },
  {
   "cell_type": "markdown",
   "metadata": {},
   "source": [
    "So called 'Siamese' models are designed to take more than one input and use shared layers to train. This makes sense if the inputs are statistically related because it wouldn't make sense to learn two independent models."
   ]
  },
  {
   "cell_type": "code",
   "execution_count": 2,
   "metadata": {
    "collapsed": false
   },
   "outputs": [
    {
     "name": "stderr",
     "output_type": "stream",
     "text": [
      "Using TensorFlow backend.\n"
     ]
    }
   ],
   "source": [
    "from keras import layers\n",
    "from keras import Input\n",
    "from keras.applications import Xception"
   ]
  },
  {
   "cell_type": "code",
   "execution_count": 5,
   "metadata": {
    "collapsed": false
   },
   "outputs": [],
   "source": [
    "xception = Xception(include_top=False) #https://arxiv.org/abs/1610.02357"
   ]
  },
  {
   "cell_type": "code",
   "execution_count": 6,
   "metadata": {
    "collapsed": true
   },
   "outputs": [],
   "source": [
    "left_in = Input(shape=(250, 250, 3))\n",
    "right_in = Input(shape=(250, 250, 3))\n",
    "\n",
    "left_processed = xception(left_in) #call a model like a layer \n",
    "right_processed = xception(right_in)\n",
    "\n",
    "merged = layers.concatenate([left_processed, right_processed], axis=-1)"
   ]
  },
  {
   "cell_type": "markdown",
   "metadata": {},
   "source": [
    "The above model combines inputs from two sources. Fully connected layers can be stacked on top to make use of the shared layers."
   ]
  }
 ],
 "metadata": {
  "kernelspec": {
   "display_name": "Python [default]",
   "language": "python",
   "name": "python3"
  },
  "language_info": {
   "codemirror_mode": {
    "name": "ipython",
    "version": 3
   },
   "file_extension": ".py",
   "mimetype": "text/x-python",
   "name": "python",
   "nbconvert_exporter": "python",
   "pygments_lexer": "ipython3",
   "version": "3.5.4"
  }
 },
 "nbformat": 4,
 "nbformat_minor": 2
}
