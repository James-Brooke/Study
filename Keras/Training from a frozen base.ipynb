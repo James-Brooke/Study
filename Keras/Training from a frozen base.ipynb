{
 "cells": [
  {
   "cell_type": "markdown",
   "metadata": {},
   "source": [
    "# Training from a frozen base"
   ]
  },
  {
   "cell_type": "code",
   "execution_count": 55,
   "metadata": {
    "collapsed": false
   },
   "outputs": [],
   "source": [
    "%matplotlib inline\n",
    "\n",
    "import os\n",
    "import numpy as np\n",
    "\n",
    "import matplotlib.pyplot as plt\n",
    "\n",
    "from keras import models, layers, optimizers\n",
    "from keras.preprocessing.image import ImageDataGenerator\n",
    "from keras.applications import VGG16"
   ]
  },
  {
   "cell_type": "code",
   "execution_count": 4,
   "metadata": {
    "collapsed": false
   },
   "outputs": [
    {
     "name": "stdout",
     "output_type": "stream",
     "text": [
      "Downloading data from https://github.com/fchollet/deep-learning-models/releases/download/v0.1/vgg16_weights_tf_dim_ordering_tf_kernels_notop.h5\n",
      "58892288/58889256 [==============================] - 11s 0us/step\n"
     ]
    }
   ],
   "source": [
    "vgg = VGG16(weights='imagenet',\n",
    "            include_top=False,\n",
    "            input_shape=(150, 150, 3))"
   ]
  },
  {
   "cell_type": "code",
   "execution_count": 5,
   "metadata": {
    "collapsed": false
   },
   "outputs": [
    {
     "name": "stdout",
     "output_type": "stream",
     "text": [
      "_________________________________________________________________\n",
      "Layer (type)                 Output Shape              Param #   \n",
      "=================================================================\n",
      "input_1 (InputLayer)         (None, 150, 150, 3)       0         \n",
      "_________________________________________________________________\n",
      "block1_conv1 (Conv2D)        (None, 150, 150, 64)      1792      \n",
      "_________________________________________________________________\n",
      "block1_conv2 (Conv2D)        (None, 150, 150, 64)      36928     \n",
      "_________________________________________________________________\n",
      "block1_pool (MaxPooling2D)   (None, 75, 75, 64)        0         \n",
      "_________________________________________________________________\n",
      "block2_conv1 (Conv2D)        (None, 75, 75, 128)       73856     \n",
      "_________________________________________________________________\n",
      "block2_conv2 (Conv2D)        (None, 75, 75, 128)       147584    \n",
      "_________________________________________________________________\n",
      "block2_pool (MaxPooling2D)   (None, 37, 37, 128)       0         \n",
      "_________________________________________________________________\n",
      "block3_conv1 (Conv2D)        (None, 37, 37, 256)       295168    \n",
      "_________________________________________________________________\n",
      "block3_conv2 (Conv2D)        (None, 37, 37, 256)       590080    \n",
      "_________________________________________________________________\n",
      "block3_conv3 (Conv2D)        (None, 37, 37, 256)       590080    \n",
      "_________________________________________________________________\n",
      "block3_pool (MaxPooling2D)   (None, 18, 18, 256)       0         \n",
      "_________________________________________________________________\n",
      "block4_conv1 (Conv2D)        (None, 18, 18, 512)       1180160   \n",
      "_________________________________________________________________\n",
      "block4_conv2 (Conv2D)        (None, 18, 18, 512)       2359808   \n",
      "_________________________________________________________________\n",
      "block4_conv3 (Conv2D)        (None, 18, 18, 512)       2359808   \n",
      "_________________________________________________________________\n",
      "block4_pool (MaxPooling2D)   (None, 9, 9, 512)         0         \n",
      "_________________________________________________________________\n",
      "block5_conv1 (Conv2D)        (None, 9, 9, 512)         2359808   \n",
      "_________________________________________________________________\n",
      "block5_conv2 (Conv2D)        (None, 9, 9, 512)         2359808   \n",
      "_________________________________________________________________\n",
      "block5_conv3 (Conv2D)        (None, 9, 9, 512)         2359808   \n",
      "_________________________________________________________________\n",
      "block5_pool (MaxPooling2D)   (None, 4, 4, 512)         0         \n",
      "=================================================================\n",
      "Total params: 14,714,688\n",
      "Trainable params: 14,714,688\n",
      "Non-trainable params: 0\n",
      "_________________________________________________________________\n"
     ]
    }
   ],
   "source": [
    "vgg.summary() #https://arxiv.org/abs/1409.1556"
   ]
  },
  {
   "cell_type": "markdown",
   "metadata": {},
   "source": [
    "~15 million params"
   ]
  },
  {
   "cell_type": "code",
   "execution_count": 7,
   "metadata": {
    "collapsed": true
   },
   "outputs": [],
   "source": [
    "train_gen = ImageDataGenerator(\n",
    "    rescale=1./255,\n",
    "    rotation_range=40,\n",
    "    width_shift_range=0.2,\n",
    "    height_shift_range=0.2,\n",
    "    shear_range=0.2,\n",
    "    zoom_range=0.2,\n",
    "    horizontal_flip=True,\n",
    "    fill_mode='nearest')"
   ]
  },
  {
   "cell_type": "code",
   "execution_count": 10,
   "metadata": {
    "collapsed": true
   },
   "outputs": [],
   "source": [
    "val_gen = ImageDataGenerator(rescale=1./255)"
   ]
  },
  {
   "cell_type": "code",
   "execution_count": 9,
   "metadata": {
    "collapsed": false
   },
   "outputs": [
    {
     "name": "stdout",
     "output_type": "stream",
     "text": [
      "Found 23000 images belonging to 2 classes.\n"
     ]
    }
   ],
   "source": [
    "train_data_gen = train_gen.flow_from_directory(\n",
    "    r\"D:\\Data_sets\\dogscats\\train\",\n",
    "    target_size=(150, 150),\n",
    "    batch_size=20,\n",
    "    class_mode='binary')"
   ]
  },
  {
   "cell_type": "markdown",
   "metadata": {},
   "source": [
    "11500 cats and 11500 dogs"
   ]
  },
  {
   "cell_type": "code",
   "execution_count": 11,
   "metadata": {
    "collapsed": false
   },
   "outputs": [
    {
     "name": "stdout",
     "output_type": "stream",
     "text": [
      "Found 2000 images belonging to 2 classes.\n"
     ]
    }
   ],
   "source": [
    "val_data_gen = val_gen.flow_from_directory(\n",
    "    r\"D:\\Data_sets\\dogscats\\valid\",\n",
    "    target_size=(150, 150),\n",
    "    batch_size=20,\n",
    "    class_mode='binary')"
   ]
  },
  {
   "cell_type": "code",
   "execution_count": 17,
   "metadata": {
    "collapsed": false
   },
   "outputs": [],
   "source": [
    "model = models.Sequential()\n",
    "model.add(vgg) #Add a model just like a layer\n",
    "model.add(layers.Flatten())\n",
    "model.add(layers.Dense(256, activation='relu'))\n",
    "model.add(layers.Dense(1, activation='sigmoid'))"
   ]
  },
  {
   "cell_type": "code",
   "execution_count": 20,
   "metadata": {
    "collapsed": false
   },
   "outputs": [
    {
     "name": "stdout",
     "output_type": "stream",
     "text": [
      "_________________________________________________________________\n",
      "Layer (type)                 Output Shape              Param #   \n",
      "=================================================================\n",
      "vgg16 (Model)                (None, 4, 4, 512)         14714688  \n",
      "_________________________________________________________________\n",
      "flatten_2 (Flatten)          (None, 8192)              0         \n",
      "_________________________________________________________________\n",
      "dense_3 (Dense)              (None, 256)               2097408   \n",
      "_________________________________________________________________\n",
      "dense_4 (Dense)              (None, 1)                 257       \n",
      "=================================================================\n",
      "Total params: 16,812,353\n",
      "Trainable params: 16,812,353\n",
      "Non-trainable params: 0\n",
      "_________________________________________________________________\n"
     ]
    }
   ],
   "source": [
    "model.summary()"
   ]
  },
  {
   "cell_type": "markdown",
   "metadata": {},
   "source": [
    "~ extra 2 million params in fully connected layers."
   ]
  },
  {
   "cell_type": "code",
   "execution_count": 18,
   "metadata": {
    "collapsed": false
   },
   "outputs": [
    {
     "data": {
      "text/plain": [
       "[<tf.Variable 'block1_conv1/kernel:0' shape=(3, 3, 3, 64) dtype=float32_ref>,\n",
       " <tf.Variable 'block1_conv1/bias:0' shape=(64,) dtype=float32_ref>,\n",
       " <tf.Variable 'block1_conv2/kernel:0' shape=(3, 3, 64, 64) dtype=float32_ref>,\n",
       " <tf.Variable 'block1_conv2/bias:0' shape=(64,) dtype=float32_ref>,\n",
       " <tf.Variable 'block2_conv1/kernel:0' shape=(3, 3, 64, 128) dtype=float32_ref>,\n",
       " <tf.Variable 'block2_conv1/bias:0' shape=(128,) dtype=float32_ref>,\n",
       " <tf.Variable 'block2_conv2/kernel:0' shape=(3, 3, 128, 128) dtype=float32_ref>,\n",
       " <tf.Variable 'block2_conv2/bias:0' shape=(128,) dtype=float32_ref>,\n",
       " <tf.Variable 'block3_conv1/kernel:0' shape=(3, 3, 128, 256) dtype=float32_ref>,\n",
       " <tf.Variable 'block3_conv1/bias:0' shape=(256,) dtype=float32_ref>,\n",
       " <tf.Variable 'block3_conv2/kernel:0' shape=(3, 3, 256, 256) dtype=float32_ref>,\n",
       " <tf.Variable 'block3_conv2/bias:0' shape=(256,) dtype=float32_ref>,\n",
       " <tf.Variable 'block3_conv3/kernel:0' shape=(3, 3, 256, 256) dtype=float32_ref>,\n",
       " <tf.Variable 'block3_conv3/bias:0' shape=(256,) dtype=float32_ref>,\n",
       " <tf.Variable 'block4_conv1/kernel:0' shape=(3, 3, 256, 512) dtype=float32_ref>,\n",
       " <tf.Variable 'block4_conv1/bias:0' shape=(512,) dtype=float32_ref>,\n",
       " <tf.Variable 'block4_conv2/kernel:0' shape=(3, 3, 512, 512) dtype=float32_ref>,\n",
       " <tf.Variable 'block4_conv2/bias:0' shape=(512,) dtype=float32_ref>,\n",
       " <tf.Variable 'block4_conv3/kernel:0' shape=(3, 3, 512, 512) dtype=float32_ref>,\n",
       " <tf.Variable 'block4_conv3/bias:0' shape=(512,) dtype=float32_ref>,\n",
       " <tf.Variable 'block5_conv1/kernel:0' shape=(3, 3, 512, 512) dtype=float32_ref>,\n",
       " <tf.Variable 'block5_conv1/bias:0' shape=(512,) dtype=float32_ref>,\n",
       " <tf.Variable 'block5_conv2/kernel:0' shape=(3, 3, 512, 512) dtype=float32_ref>,\n",
       " <tf.Variable 'block5_conv2/bias:0' shape=(512,) dtype=float32_ref>,\n",
       " <tf.Variable 'block5_conv3/kernel:0' shape=(3, 3, 512, 512) dtype=float32_ref>,\n",
       " <tf.Variable 'block5_conv3/bias:0' shape=(512,) dtype=float32_ref>,\n",
       " <tf.Variable 'dense_3/kernel:0' shape=(8192, 256) dtype=float32_ref>,\n",
       " <tf.Variable 'dense_3/bias:0' shape=(256,) dtype=float32_ref>,\n",
       " <tf.Variable 'dense_4/kernel:0' shape=(256, 1) dtype=float32_ref>,\n",
       " <tf.Variable 'dense_4/bias:0' shape=(1,) dtype=float32_ref>]"
      ]
     },
     "execution_count": 18,
     "metadata": {},
     "output_type": "execute_result"
    }
   ],
   "source": [
    "model.trainable_weights"
   ]
  },
  {
   "cell_type": "code",
   "execution_count": 21,
   "metadata": {
    "collapsed": false
   },
   "outputs": [
    {
     "data": {
      "text/plain": [
       "30"
      ]
     },
     "execution_count": 21,
     "metadata": {},
     "output_type": "execute_result"
    }
   ],
   "source": [
    "len(model.trainable_weights)"
   ]
  },
  {
   "cell_type": "code",
   "execution_count": 22,
   "metadata": {
    "collapsed": true
   },
   "outputs": [],
   "source": [
    "vgg.trainable = False #Freeze"
   ]
  },
  {
   "cell_type": "code",
   "execution_count": 23,
   "metadata": {
    "collapsed": false
   },
   "outputs": [
    {
     "data": {
      "text/plain": [
       "4"
      ]
     },
     "execution_count": 23,
     "metadata": {},
     "output_type": "execute_result"
    }
   ],
   "source": [
    "len(model.trainable_weights)"
   ]
  },
  {
   "cell_type": "code",
   "execution_count": 24,
   "metadata": {
    "collapsed": true
   },
   "outputs": [],
   "source": [
    "model.compile(loss='binary_crossentropy', optimizer=optimizers.RMSprop(lr=2e-5), metrics=['acc'])"
   ]
  },
  {
   "cell_type": "code",
   "execution_count": 27,
   "metadata": {
    "collapsed": false
   },
   "outputs": [
    {
     "name": "stdout",
     "output_type": "stream",
     "text": [
      "Epoch 1/30\n",
      "100/100 [==============================] - 64s 640ms/step - loss: 0.5946 - acc: 0.6815 - val_loss: 0.4512 - val_acc: 0.8210\n",
      "Epoch 2/30\n",
      "100/100 [==============================] - 50s 500ms/step - loss: 0.4820 - acc: 0.7800 - val_loss: 0.3781 - val_acc: 0.8390\n",
      "Epoch 3/30\n",
      "100/100 [==============================] - 49s 490ms/step - loss: 0.4390 - acc: 0.8095 - val_loss: 0.3364 - val_acc: 0.8640\n",
      "Epoch 4/30\n",
      "100/100 [==============================] - 50s 497ms/step - loss: 0.4056 - acc: 0.8125 - val_loss: 0.3148 - val_acc: 0.8730\n",
      "Epoch 5/30\n",
      "100/100 [==============================] - 50s 495ms/step - loss: 0.4053 - acc: 0.8090 - val_loss: 0.3061 - val_acc: 0.8740\n",
      "Epoch 6/30\n",
      "100/100 [==============================] - 52s 518ms/step - loss: 0.3772 - acc: 0.8300 - val_loss: 0.3010 - val_acc: 0.8740\n",
      "Epoch 7/30\n",
      "100/100 [==============================] - 51s 505ms/step - loss: 0.3819 - acc: 0.8225 - val_loss: 0.2889 - val_acc: 0.8780\n",
      "Epoch 8/30\n",
      "100/100 [==============================] - 50s 500ms/step - loss: 0.3627 - acc: 0.8450 - val_loss: 0.2790 - val_acc: 0.8820\n",
      "Epoch 9/30\n",
      "100/100 [==============================] - 53s 532ms/step - loss: 0.3581 - acc: 0.8475 - val_loss: 0.3112 - val_acc: 0.8630\n",
      "Epoch 10/30\n",
      "100/100 [==============================] - 49s 494ms/step - loss: 0.3678 - acc: 0.8340 - val_loss: 0.2689 - val_acc: 0.8820\n",
      "Epoch 11/30\n",
      "100/100 [==============================] - 51s 509ms/step - loss: 0.3458 - acc: 0.8510 - val_loss: 0.2644 - val_acc: 0.8890\n",
      "Epoch 12/30\n",
      "100/100 [==============================] - 33s 332ms/step - loss: 0.3386 - acc: 0.8410 - val_loss: 0.2595 - val_acc: 0.8840\n",
      "Epoch 13/30\n",
      "100/100 [==============================] - 17s 172ms/step - loss: 0.3330 - acc: 0.8450 - val_loss: 0.2688 - val_acc: 0.8830\n",
      "Epoch 14/30\n",
      "100/100 [==============================] - 17s 173ms/step - loss: 0.3361 - acc: 0.8470 - val_loss: 0.2567 - val_acc: 0.8920\n",
      "Epoch 15/30\n",
      "100/100 [==============================] - 17s 173ms/step - loss: 0.3294 - acc: 0.8525 - val_loss: 0.2481 - val_acc: 0.8880\n",
      "Epoch 16/30\n",
      "100/100 [==============================] - 17s 172ms/step - loss: 0.3147 - acc: 0.8620 - val_loss: 0.2489 - val_acc: 0.8860\n",
      "Epoch 17/30\n",
      "100/100 [==============================] - 17s 172ms/step - loss: 0.3403 - acc: 0.8425 - val_loss: 0.2520 - val_acc: 0.8900\n",
      "Epoch 18/30\n",
      "100/100 [==============================] - 17s 173ms/step - loss: 0.3446 - acc: 0.8440 - val_loss: 0.2444 - val_acc: 0.8950\n",
      "Epoch 19/30\n",
      "100/100 [==============================] - 17s 172ms/step - loss: 0.3526 - acc: 0.8385 - val_loss: 0.2477 - val_acc: 0.8980\n",
      "Epoch 20/30\n",
      "100/100 [==============================] - 17s 173ms/step - loss: 0.3546 - acc: 0.8430 - val_loss: 0.2524 - val_acc: 0.8890\n",
      "Epoch 21/30\n",
      "100/100 [==============================] - 17s 172ms/step - loss: 0.3269 - acc: 0.8575 - val_loss: 0.2449 - val_acc: 0.8990\n",
      "Epoch 22/30\n",
      "100/100 [==============================] - 17s 173ms/step - loss: 0.3310 - acc: 0.8540 - val_loss: 0.2432 - val_acc: 0.8980\n",
      "Epoch 23/30\n",
      "100/100 [==============================] - 17s 173ms/step - loss: 0.3241 - acc: 0.8550 - val_loss: 0.2418 - val_acc: 0.9010\n",
      "Epoch 24/30\n",
      "100/100 [==============================] - 17s 173ms/step - loss: 0.3221 - acc: 0.8615 - val_loss: 0.2408 - val_acc: 0.9010\n",
      "Epoch 25/30\n",
      "100/100 [==============================] - 17s 172ms/step - loss: 0.3175 - acc: 0.8590 - val_loss: 0.2348 - val_acc: 0.9070\n",
      "Epoch 26/30\n",
      "100/100 [==============================] - 17s 172ms/step - loss: 0.3149 - acc: 0.8535 - val_loss: 0.2726 - val_acc: 0.8780\n",
      "Epoch 27/30\n",
      "100/100 [==============================] - 17s 173ms/step - loss: 0.2952 - acc: 0.8605 - val_loss: 0.2389 - val_acc: 0.8980\n",
      "Epoch 28/30\n",
      "100/100 [==============================] - 17s 173ms/step - loss: 0.3405 - acc: 0.8515 - val_loss: 0.2265 - val_acc: 0.9020\n",
      "Epoch 29/30\n",
      "100/100 [==============================] - 17s 173ms/step - loss: 0.3234 - acc: 0.8550 - val_loss: 0.2288 - val_acc: 0.9020\n",
      "Epoch 30/30\n",
      "100/100 [==============================] - 17s 174ms/step - loss: 0.3258 - acc: 0.8550 - val_loss: 0.2295 - val_acc: 0.9040\n"
     ]
    }
   ],
   "source": [
    "history = model.fit_generator(train_data_gen,\n",
    "                              steps_per_epoch=100,\n",
    "                              epochs=30,\n",
    "                              validation_data=val_data_gen,\n",
    "                              validation_steps=50)"
   ]
  },
  {
   "cell_type": "markdown",
   "metadata": {},
   "source": [
    "The fully connected layers are trained and the model has 90.4% accuracy"
   ]
  },
  {
   "cell_type": "markdown",
   "metadata": {},
   "source": [
    "To further improve, lets fine tune the top of the vgg model:"
   ]
  },
  {
   "cell_type": "code",
   "execution_count": 28,
   "metadata": {
    "collapsed": false
   },
   "outputs": [
    {
     "data": {
      "text/plain": [
       "[<keras.engine.topology.InputLayer at 0x1cb69d988d0>,\n",
       " <keras.layers.convolutional.Conv2D at 0x1cb69d98c18>,\n",
       " <keras.layers.convolutional.Conv2D at 0x1cb69d98e80>,\n",
       " <keras.layers.pooling.MaxPooling2D at 0x1cb69d98ba8>,\n",
       " <keras.layers.convolutional.Conv2D at 0x1cb69debda0>,\n",
       " <keras.layers.convolutional.Conv2D at 0x1cb69de09b0>,\n",
       " <keras.layers.pooling.MaxPooling2D at 0x1cb69e05a20>,\n",
       " <keras.layers.convolutional.Conv2D at 0x1cb69e10898>,\n",
       " <keras.layers.convolutional.Conv2D at 0x1cb69e33828>,\n",
       " <keras.layers.convolutional.Conv2D at 0x1cb69e56438>,\n",
       " <keras.layers.pooling.MaxPooling2D at 0x1cb69e6bc18>,\n",
       " <keras.layers.convolutional.Conv2D at 0x1cb69ecada0>,\n",
       " <keras.layers.convolutional.Conv2D at 0x1cb69eb4198>,\n",
       " <keras.layers.convolutional.Conv2D at 0x1cb69ed56a0>,\n",
       " <keras.layers.pooling.MaxPooling2D at 0x1cb69efaa20>,\n",
       " <keras.layers.convolutional.Conv2D at 0x1cb69f33080>,\n",
       " <keras.layers.convolutional.Conv2D at 0x1cb69f42358>,\n",
       " <keras.layers.convolutional.Conv2D at 0x1cb69f4cdd8>,\n",
       " <keras.layers.pooling.MaxPooling2D at 0x1cb69f61ba8>]"
      ]
     },
     "execution_count": 28,
     "metadata": {},
     "output_type": "execute_result"
    }
   ],
   "source": [
    "vgg.layers"
   ]
  },
  {
   "cell_type": "code",
   "execution_count": 42,
   "metadata": {
    "collapsed": false
   },
   "outputs": [
    {
     "data": {
      "text/plain": [
       "'block5_conv3'"
      ]
     },
     "execution_count": 42,
     "metadata": {},
     "output_type": "execute_result"
    }
   ],
   "source": [
    "vgg.layers[-2].name"
   ]
  },
  {
   "cell_type": "code",
   "execution_count": 43,
   "metadata": {
    "collapsed": false
   },
   "outputs": [],
   "source": [
    "vgg.trainable = True"
   ]
  },
  {
   "cell_type": "code",
   "execution_count": 47,
   "metadata": {
    "collapsed": false
   },
   "outputs": [],
   "source": [
    "for layer in vgg.layers:\n",
    "    if layer.name == 'block5_conv3':\n",
    "        layer.trainable = True\n",
    "    else:\n",
    "        layer.trainable = False"
   ]
  },
  {
   "cell_type": "code",
   "execution_count": 50,
   "metadata": {
    "collapsed": false
   },
   "outputs": [
    {
     "data": {
      "text/plain": [
       "6"
      ]
     },
     "execution_count": 50,
     "metadata": {},
     "output_type": "execute_result"
    }
   ],
   "source": [
    "len(model.trainable_weights)"
   ]
  },
  {
   "cell_type": "code",
   "execution_count": 52,
   "metadata": {
    "collapsed": true
   },
   "outputs": [],
   "source": [
    "model.compile(loss='binary_crossentropy', optimizer=optimizers.RMSprop(lr=1e-5), metrics=['acc'])"
   ]
  },
  {
   "cell_type": "code",
   "execution_count": 53,
   "metadata": {
    "collapsed": false
   },
   "outputs": [
    {
     "name": "stdout",
     "output_type": "stream",
     "text": [
      "Epoch 1/30\n",
      "100/100 [==============================] - 19s 193ms/step - loss: 0.3114 - acc: 0.8625 - val_loss: 0.2267 - val_acc: 0.9020\n",
      "Epoch 2/30\n",
      "100/100 [==============================] - 17s 173ms/step - loss: 0.3301 - acc: 0.8520 - val_loss: 0.2187 - val_acc: 0.9050\n",
      "Epoch 3/30\n",
      "100/100 [==============================] - 17s 174ms/step - loss: 0.3202 - acc: 0.8690 - val_loss: 0.2383 - val_acc: 0.8950\n",
      "Epoch 4/30\n",
      "100/100 [==============================] - 18s 183ms/step - loss: 0.3267 - acc: 0.8570 - val_loss: 0.2137 - val_acc: 0.9160\n",
      "Epoch 5/30\n",
      "100/100 [==============================] - 19s 186ms/step - loss: 0.3228 - acc: 0.8525 - val_loss: 0.2129 - val_acc: 0.9190\n",
      "Epoch 6/30\n",
      "100/100 [==============================] - 18s 182ms/step - loss: 0.3186 - acc: 0.8585 - val_loss: 0.2135 - val_acc: 0.9150\n",
      "Epoch 7/30\n",
      "100/100 [==============================] - 18s 177ms/step - loss: 0.2954 - acc: 0.8760 - val_loss: 0.2072 - val_acc: 0.9120\n",
      "Epoch 8/30\n",
      "100/100 [==============================] - 17s 174ms/step - loss: 0.2797 - acc: 0.8760 - val_loss: 0.1964 - val_acc: 0.9190\n",
      "Epoch 9/30\n",
      "100/100 [==============================] - 18s 176ms/step - loss: 0.2879 - acc: 0.8695 - val_loss: 0.1941 - val_acc: 0.9250\n",
      "Epoch 10/30\n",
      "100/100 [==============================] - 19s 186ms/step - loss: 0.2708 - acc: 0.8810 - val_loss: 0.2014 - val_acc: 0.9160\n",
      "Epoch 11/30\n",
      "100/100 [==============================] - 18s 183ms/step - loss: 0.2916 - acc: 0.8780 - val_loss: 0.1939 - val_acc: 0.9230\n",
      "Epoch 12/30\n",
      "100/100 [==============================] - 18s 184ms/step - loss: 0.2959 - acc: 0.8690 - val_loss: 0.1942 - val_acc: 0.9150\n",
      "Epoch 13/30\n",
      "100/100 [==============================] - 18s 182ms/step - loss: 0.3018 - acc: 0.8650 - val_loss: 0.1957 - val_acc: 0.9200\n",
      "Epoch 14/30\n",
      "100/100 [==============================] - 18s 178ms/step - loss: 0.2923 - acc: 0.8745 - val_loss: 0.1968 - val_acc: 0.9180\n",
      "Epoch 15/30\n",
      "100/100 [==============================] - 18s 178ms/step - loss: 0.2786 - acc: 0.8860 - val_loss: 0.1895 - val_acc: 0.9230\n",
      "Epoch 16/30\n",
      "100/100 [==============================] - 18s 176ms/step - loss: 0.2779 - acc: 0.8750 - val_loss: 0.1936 - val_acc: 0.9230\n",
      "Epoch 17/30\n",
      "100/100 [==============================] - 18s 180ms/step - loss: 0.2657 - acc: 0.8915 - val_loss: 0.1915 - val_acc: 0.9180\n",
      "Epoch 18/30\n",
      "100/100 [==============================] - 18s 177ms/step - loss: 0.2680 - acc: 0.8815 - val_loss: 0.1978 - val_acc: 0.9210\n",
      "Epoch 19/30\n",
      "100/100 [==============================] - 18s 177ms/step - loss: 0.2989 - acc: 0.8660 - val_loss: 0.1882 - val_acc: 0.9260\n",
      "Epoch 20/30\n",
      "100/100 [==============================] - 18s 177ms/step - loss: 0.2636 - acc: 0.8835 - val_loss: 0.1900 - val_acc: 0.9230\n",
      "Epoch 21/30\n",
      "100/100 [==============================] - 18s 177ms/step - loss: 0.2834 - acc: 0.8760 - val_loss: 0.1967 - val_acc: 0.9250\n",
      "Epoch 22/30\n",
      "100/100 [==============================] - 18s 176ms/step - loss: 0.2843 - acc: 0.8745 - val_loss: 0.2166 - val_acc: 0.9020\n",
      "Epoch 23/30\n",
      "100/100 [==============================] - 18s 176ms/step - loss: 0.2630 - acc: 0.8895 - val_loss: 0.1873 - val_acc: 0.9230\n",
      "Epoch 24/30\n",
      "100/100 [==============================] - 17s 175ms/step - loss: 0.2896 - acc: 0.8780 - val_loss: 0.2245 - val_acc: 0.9090\n",
      "Epoch 25/30\n",
      "100/100 [==============================] - 18s 175ms/step - loss: 0.2777 - acc: 0.8815 - val_loss: 0.1819 - val_acc: 0.9240\n",
      "Epoch 26/30\n",
      "100/100 [==============================] - 17s 175ms/step - loss: 0.2657 - acc: 0.8925 - val_loss: 0.1857 - val_acc: 0.9280\n",
      "Epoch 27/30\n",
      "100/100 [==============================] - 17s 175ms/step - loss: 0.2610 - acc: 0.8925 - val_loss: 0.1858 - val_acc: 0.9310\n",
      "Epoch 28/30\n",
      "100/100 [==============================] - 18s 176ms/step - loss: 0.2576 - acc: 0.8915 - val_loss: 0.1827 - val_acc: 0.9260\n",
      "Epoch 29/30\n",
      "100/100 [==============================] - 18s 185ms/step - loss: 0.2581 - acc: 0.8910 - val_loss: 0.1839 - val_acc: 0.9240\n",
      "Epoch 30/30\n",
      "100/100 [==============================] - 17s 174ms/step - loss: 0.2757 - acc: 0.8830 - val_loss: 0.1863 - val_acc: 0.9210\n"
     ]
    }
   ],
   "source": [
    "history = model.fit_generator(train_data_gen,\n",
    "                              steps_per_epoch=100,\n",
    "                              epochs=30,\n",
    "                              validation_data=val_data_gen,\n",
    "                              validation_steps=50)"
   ]
  },
  {
   "cell_type": "code",
   "execution_count": 64,
   "metadata": {
    "collapsed": false
   },
   "outputs": [
    {
     "data": {
      "image/png": "[encoded data removed]",
      "text/plain": [
       "<matplotlib.figure.Figure at 0x1ccd2f464e0>"
      ]
     },
     "metadata": {},
     "output_type": "display_data"
    }
   ],
   "source": [
    "hist_dict = history.history\n",
    "\n",
    "losses = hist_dict['loss']\n",
    "val_losses = hist_dict['val_loss']\n",
    "acc = hist_dict['acc']\n",
    "val_acc = hist_dict['val_acc']\n",
    "\n",
    "plt.figure(figsize=(16,6))\n",
    "plt.plot(range(1,31), acc, 'r', label='Train accuracy', linewidth=3)\n",
    "plt.plot(range(1,31), val_acc, 'b', label='Validation accuracy', linewidth=3)\n",
    "plt.xlabel('Epoch')\n",
    "plt.ylabel('Accuracy')\n",
    "plt.legend();"
   ]
  },
  {
   "cell_type": "markdown",
   "metadata": {},
   "source": [
    "Augmentation causes the training accuracy to fall below the validation accuracy (it is turned off when validating)."
   ]
  }
 ],
 "metadata": {
  "anaconda-cloud": {},
  "kernelspec": {
   "display_name": "Python [default]",
   "language": "python",
   "name": "python3"
  },
  "language_info": {
   "codemirror_mode": {
    "name": "ipython",
    "version": 3
   },
   "file_extension": ".py",
   "mimetype": "text/x-python",
   "name": "python",
   "nbconvert_exporter": "python",
   "pygments_lexer": "ipython3",
   "version": "3.5.4"
  }
 },
 "nbformat": 4,
 "nbformat_minor": 2
}
