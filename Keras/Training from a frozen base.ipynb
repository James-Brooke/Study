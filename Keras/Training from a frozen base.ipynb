{
 "cells": [
  {
   "cell_type": "markdown",
   "metadata": {},
   "source": [
    "# Training from a frozen base"
   ]
  },
  {
   "cell_type": "code",
   "execution_count": 1,
   "metadata": {
    "collapsed": false
   },
   "outputs": [
    {
     "name": "stderr",
     "output_type": "stream",
     "text": [
      "Using TensorFlow backend.\n"
     ]
    }
   ],
   "source": [
    "%matplotlib inline\n",
    "\n",
    "import os\n",
    "import numpy as np\n",
    "\n",
    "import matplotlib.pyplot as plt\n",
    "\n",
    "from keras import models, layers, optimizers\n",
    "from keras.preprocessing.image import ImageDataGenerator\n",
    "from keras.applications import VGG16"
   ]
  },
  {
   "cell_type": "code",
   "execution_count": 2,
   "metadata": {
    "collapsed": false
   },
   "outputs": [],
   "source": [
    "vgg = VGG16(weights='imagenet',\n",
    "            include_top=False,\n",
    "            input_shape=(150, 150, 3))"
   ]
  },
  {
   "cell_type": "code",
   "execution_count": 3,
   "metadata": {
    "collapsed": false
   },
   "outputs": [
    {
     "name": "stdout",
     "output_type": "stream",
     "text": [
      "_________________________________________________________________\n",
      "Layer (type)                 Output Shape              Param #   \n",
      "=================================================================\n",
      "input_1 (InputLayer)         (None, 150, 150, 3)       0         \n",
      "_________________________________________________________________\n",
      "block1_conv1 (Conv2D)        (None, 150, 150, 64)      1792      \n",
      "_________________________________________________________________\n",
      "block1_conv2 (Conv2D)        (None, 150, 150, 64)      36928     \n",
      "_________________________________________________________________\n",
      "block1_pool (MaxPooling2D)   (None, 75, 75, 64)        0         \n",
      "_________________________________________________________________\n",
      "block2_conv1 (Conv2D)        (None, 75, 75, 128)       73856     \n",
      "_________________________________________________________________\n",
      "block2_conv2 (Conv2D)        (None, 75, 75, 128)       147584    \n",
      "_________________________________________________________________\n",
      "block2_pool (MaxPooling2D)   (None, 37, 37, 128)       0         \n",
      "_________________________________________________________________\n",
      "block3_conv1 (Conv2D)        (None, 37, 37, 256)       295168    \n",
      "_________________________________________________________________\n",
      "block3_conv2 (Conv2D)        (None, 37, 37, 256)       590080    \n",
      "_________________________________________________________________\n",
      "block3_conv3 (Conv2D)        (None, 37, 37, 256)       590080    \n",
      "_________________________________________________________________\n",
      "block3_pool (MaxPooling2D)   (None, 18, 18, 256)       0         \n",
      "_________________________________________________________________\n",
      "block4_conv1 (Conv2D)        (None, 18, 18, 512)       1180160   \n",
      "_________________________________________________________________\n",
      "block4_conv2 (Conv2D)        (None, 18, 18, 512)       2359808   \n",
      "_________________________________________________________________\n",
      "block4_conv3 (Conv2D)        (None, 18, 18, 512)       2359808   \n",
      "_________________________________________________________________\n",
      "block4_pool (MaxPooling2D)   (None, 9, 9, 512)         0         \n",
      "_________________________________________________________________\n",
      "block5_conv1 (Conv2D)        (None, 9, 9, 512)         2359808   \n",
      "_________________________________________________________________\n",
      "block5_conv2 (Conv2D)        (None, 9, 9, 512)         2359808   \n",
      "_________________________________________________________________\n",
      "block5_conv3 (Conv2D)        (None, 9, 9, 512)         2359808   \n",
      "_________________________________________________________________\n",
      "block5_pool (MaxPooling2D)   (None, 4, 4, 512)         0         \n",
      "=================================================================\n",
      "Total params: 14,714,688\n",
      "Trainable params: 14,714,688\n",
      "Non-trainable params: 0\n",
      "_________________________________________________________________\n"
     ]
    }
   ],
   "source": [
    "vgg.summary() #https://arxiv.org/abs/1409.1556"
   ]
  },
  {
   "cell_type": "markdown",
   "metadata": {},
   "source": [
    "~15 million params"
   ]
  },
  {
   "cell_type": "code",
   "execution_count": 4,
   "metadata": {
    "collapsed": true
   },
   "outputs": [],
   "source": [
    "train_gen = ImageDataGenerator(\n",
    "    rescale=1./255,\n",
    "    rotation_range=40,\n",
    "    width_shift_range=0.2,\n",
    "    height_shift_range=0.2,\n",
    "    shear_range=0.2,\n",
    "    zoom_range=0.2,\n",
    "    horizontal_flip=True,\n",
    "    fill_mode='nearest')"
   ]
  },
  {
   "cell_type": "code",
   "execution_count": 5,
   "metadata": {
    "collapsed": true
   },
   "outputs": [],
   "source": [
    "val_gen = ImageDataGenerator(rescale=1./255)"
   ]
  },
  {
   "cell_type": "code",
   "execution_count": 6,
   "metadata": {
    "collapsed": false
   },
   "outputs": [
    {
     "name": "stdout",
     "output_type": "stream",
     "text": [
      "Found 23000 images belonging to 2 classes.\n"
     ]
    }
   ],
   "source": [
    "train_data_gen = train_gen.flow_from_directory(\n",
    "    r\"D:\\Data_sets\\dogscats\\train\",\n",
    "    target_size=(150, 150),\n",
    "    batch_size=20,\n",
    "    class_mode='binary')"
   ]
  },
  {
   "cell_type": "markdown",
   "metadata": {},
   "source": [
    "11500 cats and 11500 dogs"
   ]
  },
  {
   "cell_type": "code",
   "execution_count": 7,
   "metadata": {
    "collapsed": false
   },
   "outputs": [
    {
     "name": "stdout",
     "output_type": "stream",
     "text": [
      "Found 2000 images belonging to 2 classes.\n"
     ]
    }
   ],
   "source": [
    "val_data_gen = val_gen.flow_from_directory(\n",
    "    r\"D:\\Data_sets\\dogscats\\valid\",\n",
    "    target_size=(150, 150),\n",
    "    batch_size=20,\n",
    "    class_mode='binary')"
   ]
  },
  {
   "cell_type": "code",
   "execution_count": 8,
   "metadata": {
    "collapsed": false
   },
   "outputs": [],
   "source": [
    "model = models.Sequential()\n",
    "model.add(vgg) #Add a model just like a layer\n",
    "model.add(layers.Flatten())\n",
    "model.add(layers.Dense(256, activation='relu'))\n",
    "model.add(layers.Dense(1, activation='sigmoid'))"
   ]
  },
  {
   "cell_type": "code",
   "execution_count": 9,
   "metadata": {
    "collapsed": false
   },
   "outputs": [
    {
     "name": "stdout",
     "output_type": "stream",
     "text": [
      "_________________________________________________________________\n",
      "Layer (type)                 Output Shape              Param #   \n",
      "=================================================================\n",
      "vgg16 (Model)                (None, 4, 4, 512)         14714688  \n",
      "_________________________________________________________________\n",
      "flatten_1 (Flatten)          (None, 8192)              0         \n",
      "_________________________________________________________________\n",
      "dense_1 (Dense)              (None, 256)               2097408   \n",
      "_________________________________________________________________\n",
      "dense_2 (Dense)              (None, 1)                 257       \n",
      "=================================================================\n",
      "Total params: 16,812,353\n",
      "Trainable params: 16,812,353\n",
      "Non-trainable params: 0\n",
      "_________________________________________________________________\n"
     ]
    }
   ],
   "source": [
    "model.summary()"
   ]
  },
  {
   "cell_type": "markdown",
   "metadata": {},
   "source": [
    "~ extra 2 million params in fully connected layers."
   ]
  },
  {
   "cell_type": "code",
   "execution_count": 10,
   "metadata": {
    "collapsed": false
   },
   "outputs": [
    {
     "data": {
      "text/plain": [
       "[<tf.Variable 'block1_conv1/kernel:0' shape=(3, 3, 3, 64) dtype=float32_ref>,\n",
       " <tf.Variable 'block1_conv1/bias:0' shape=(64,) dtype=float32_ref>,\n",
       " <tf.Variable 'block1_conv2/kernel:0' shape=(3, 3, 64, 64) dtype=float32_ref>,\n",
       " <tf.Variable 'block1_conv2/bias:0' shape=(64,) dtype=float32_ref>,\n",
       " <tf.Variable 'block2_conv1/kernel:0' shape=(3, 3, 64, 128) dtype=float32_ref>,\n",
       " <tf.Variable 'block2_conv1/bias:0' shape=(128,) dtype=float32_ref>,\n",
       " <tf.Variable 'block2_conv2/kernel:0' shape=(3, 3, 128, 128) dtype=float32_ref>,\n",
       " <tf.Variable 'block2_conv2/bias:0' shape=(128,) dtype=float32_ref>,\n",
       " <tf.Variable 'block3_conv1/kernel:0' shape=(3, 3, 128, 256) dtype=float32_ref>,\n",
       " <tf.Variable 'block3_conv1/bias:0' shape=(256,) dtype=float32_ref>,\n",
       " <tf.Variable 'block3_conv2/kernel:0' shape=(3, 3, 256, 256) dtype=float32_ref>,\n",
       " <tf.Variable 'block3_conv2/bias:0' shape=(256,) dtype=float32_ref>,\n",
       " <tf.Variable 'block3_conv3/kernel:0' shape=(3, 3, 256, 256) dtype=float32_ref>,\n",
       " <tf.Variable 'block3_conv3/bias:0' shape=(256,) dtype=float32_ref>,\n",
       " <tf.Variable 'block4_conv1/kernel:0' shape=(3, 3, 256, 512) dtype=float32_ref>,\n",
       " <tf.Variable 'block4_conv1/bias:0' shape=(512,) dtype=float32_ref>,\n",
       " <tf.Variable 'block4_conv2/kernel:0' shape=(3, 3, 512, 512) dtype=float32_ref>,\n",
       " <tf.Variable 'block4_conv2/bias:0' shape=(512,) dtype=float32_ref>,\n",
       " <tf.Variable 'block4_conv3/kernel:0' shape=(3, 3, 512, 512) dtype=float32_ref>,\n",
       " <tf.Variable 'block4_conv3/bias:0' shape=(512,) dtype=float32_ref>,\n",
       " <tf.Variable 'block5_conv1/kernel:0' shape=(3, 3, 512, 512) dtype=float32_ref>,\n",
       " <tf.Variable 'block5_conv1/bias:0' shape=(512,) dtype=float32_ref>,\n",
       " <tf.Variable 'block5_conv2/kernel:0' shape=(3, 3, 512, 512) dtype=float32_ref>,\n",
       " <tf.Variable 'block5_conv2/bias:0' shape=(512,) dtype=float32_ref>,\n",
       " <tf.Variable 'block5_conv3/kernel:0' shape=(3, 3, 512, 512) dtype=float32_ref>,\n",
       " <tf.Variable 'block5_conv3/bias:0' shape=(512,) dtype=float32_ref>,\n",
       " <tf.Variable 'dense_1/kernel:0' shape=(8192, 256) dtype=float32_ref>,\n",
       " <tf.Variable 'dense_1/bias:0' shape=(256,) dtype=float32_ref>,\n",
       " <tf.Variable 'dense_2/kernel:0' shape=(256, 1) dtype=float32_ref>,\n",
       " <tf.Variable 'dense_2/bias:0' shape=(1,) dtype=float32_ref>]"
      ]
     },
     "execution_count": 10,
     "metadata": {},
     "output_type": "execute_result"
    }
   ],
   "source": [
    "model.trainable_weights"
   ]
  },
  {
   "cell_type": "code",
   "execution_count": 11,
   "metadata": {
    "collapsed": false
   },
   "outputs": [
    {
     "data": {
      "text/plain": [
       "30"
      ]
     },
     "execution_count": 11,
     "metadata": {},
     "output_type": "execute_result"
    }
   ],
   "source": [
    "len(model.trainable_weights)"
   ]
  },
  {
   "cell_type": "code",
   "execution_count": 12,
   "metadata": {
    "collapsed": true
   },
   "outputs": [],
   "source": [
    "vgg.trainable = False #Freeze"
   ]
  },
  {
   "cell_type": "code",
   "execution_count": 13,
   "metadata": {
    "collapsed": false
   },
   "outputs": [
    {
     "data": {
      "text/plain": [
       "4"
      ]
     },
     "execution_count": 13,
     "metadata": {},
     "output_type": "execute_result"
    }
   ],
   "source": [
    "len(model.trainable_weights)"
   ]
  },
  {
   "cell_type": "code",
   "execution_count": 14,
   "metadata": {
    "collapsed": true
   },
   "outputs": [],
   "source": [
    "model.compile(loss='binary_crossentropy', optimizer=optimizers.RMSprop(lr=2e-5), metrics=['acc'])"
   ]
  },
  {
   "cell_type": "code",
   "execution_count": 15,
   "metadata": {
    "collapsed": false
   },
   "outputs": [
    {
     "name": "stdout",
     "output_type": "stream",
     "text": [
      "Epoch 1/30\n",
      "100/100 [==============================] - 21s 215ms/step - loss: 0.6014 - acc: 0.6795 - val_loss: 0.4568 - val_acc: 0.8130\n",
      "Epoch 2/30\n",
      "100/100 [==============================] - 17s 175ms/step - loss: 0.4867 - acc: 0.7725 - val_loss: 0.3848 - val_acc: 0.8340\n",
      "Epoch 3/30\n",
      "100/100 [==============================] - 17s 172ms/step - loss: 0.4415 - acc: 0.8020 - val_loss: 0.3621 - val_acc: 0.8420\n",
      "Epoch 4/30\n",
      "100/100 [==============================] - 17s 169ms/step - loss: 0.4229 - acc: 0.8085 - val_loss: 0.3350 - val_acc: 0.8580\n",
      "Epoch 5/30\n",
      "100/100 [==============================] - 17s 170ms/step - loss: 0.4002 - acc: 0.8240 - val_loss: 0.3163 - val_acc: 0.8690\n",
      "Epoch 6/30\n",
      "100/100 [==============================] - 17s 174ms/step - loss: 0.3865 - acc: 0.8230 - val_loss: 0.3064 - val_acc: 0.8670\n",
      "Epoch 7/30\n",
      "100/100 [==============================] - 18s 176ms/step - loss: 0.3849 - acc: 0.8255 - val_loss: 0.3028 - val_acc: 0.8710\n",
      "Epoch 8/30\n",
      "100/100 [==============================] - 17s 172ms/step - loss: 0.3870 - acc: 0.8245 - val_loss: 0.2981 - val_acc: 0.8730\n",
      "Epoch 9/30\n",
      "100/100 [==============================] - 18s 175ms/step - loss: 0.3550 - acc: 0.8450 - val_loss: 0.2846 - val_acc: 0.8720\n",
      "Epoch 10/30\n",
      "100/100 [==============================] - 17s 171ms/step - loss: 0.3458 - acc: 0.8555 - val_loss: 0.2861 - val_acc: 0.8720\n",
      "Epoch 11/30\n",
      "100/100 [==============================] - 17s 174ms/step - loss: 0.3782 - acc: 0.8370 - val_loss: 0.2852 - val_acc: 0.8730\n",
      "Epoch 12/30\n",
      "100/100 [==============================] - 17s 174ms/step - loss: 0.3426 - acc: 0.8470 - val_loss: 0.3475 - val_acc: 0.8470\n",
      "Epoch 13/30\n",
      "100/100 [==============================] - 18s 176ms/step - loss: 0.3560 - acc: 0.8435 - val_loss: 0.2741 - val_acc: 0.8840\n",
      "Epoch 14/30\n",
      "100/100 [==============================] - 18s 177ms/step - loss: 0.3382 - acc: 0.8525 - val_loss: 0.2713 - val_acc: 0.8840\n",
      "Epoch 15/30\n",
      "100/100 [==============================] - 17s 172ms/step - loss: 0.3498 - acc: 0.8395 - val_loss: 0.2948 - val_acc: 0.8700\n",
      "Epoch 16/30\n",
      "100/100 [==============================] - 17s 173ms/step - loss: 0.3304 - acc: 0.8630 - val_loss: 0.2659 - val_acc: 0.8840\n",
      "Epoch 17/30\n",
      "100/100 [==============================] - 17s 172ms/step - loss: 0.3554 - acc: 0.8400 - val_loss: 0.2634 - val_acc: 0.8840\n",
      "Epoch 18/30\n",
      "100/100 [==============================] - 17s 173ms/step - loss: 0.3388 - acc: 0.8425 - val_loss: 0.2611 - val_acc: 0.8860\n",
      "Epoch 19/30\n",
      "100/100 [==============================] - 17s 173ms/step - loss: 0.3258 - acc: 0.8515 - val_loss: 0.2728 - val_acc: 0.8850\n",
      "Epoch 20/30\n",
      "100/100 [==============================] - 17s 175ms/step - loss: 0.3322 - acc: 0.8550 - val_loss: 0.2592 - val_acc: 0.8840\n",
      "Epoch 21/30\n",
      "100/100 [==============================] - 17s 175ms/step - loss: 0.3369 - acc: 0.8495 - val_loss: 0.2565 - val_acc: 0.8880\n",
      "Epoch 22/30\n",
      "100/100 [==============================] - 17s 174ms/step - loss: 0.3195 - acc: 0.8645 - val_loss: 0.2593 - val_acc: 0.8890\n",
      "Epoch 23/30\n",
      "100/100 [==============================] - 17s 173ms/step - loss: 0.3153 - acc: 0.8530 - val_loss: 0.2588 - val_acc: 0.8910\n",
      "Epoch 24/30\n",
      "100/100 [==============================] - 18s 178ms/step - loss: 0.3240 - acc: 0.8590 - val_loss: 0.2912 - val_acc: 0.8700\n",
      "Epoch 25/30\n",
      "100/100 [==============================] - 17s 173ms/step - loss: 0.3186 - acc: 0.8505 - val_loss: 0.2657 - val_acc: 0.8820\n",
      "Epoch 26/30\n",
      "100/100 [==============================] - 17s 173ms/step - loss: 0.3343 - acc: 0.8545 - val_loss: 0.2576 - val_acc: 0.8940\n",
      "Epoch 27/30\n",
      "100/100 [==============================] - 17s 174ms/step - loss: 0.3344 - acc: 0.8435 - val_loss: 0.2532 - val_acc: 0.8970\n",
      "Epoch 28/30\n",
      "100/100 [==============================] - 17s 174ms/step - loss: 0.3127 - acc: 0.8625 - val_loss: 0.2821 - val_acc: 0.8740\n",
      "Epoch 29/30\n",
      "100/100 [==============================] - 17s 171ms/step - loss: 0.3195 - acc: 0.8610 - val_loss: 0.2534 - val_acc: 0.8970\n",
      "Epoch 30/30\n",
      "100/100 [==============================] - 17s 171ms/step - loss: 0.3467 - acc: 0.8410 - val_loss: 0.2529 - val_acc: 0.8990\n"
     ]
    }
   ],
   "source": [
    "history = model.fit_generator(train_data_gen,\n",
    "                              steps_per_epoch=100,\n",
    "                              epochs=30,\n",
    "                              validation_data=val_data_gen,\n",
    "                              validation_steps=50)"
   ]
  },
  {
   "cell_type": "markdown",
   "metadata": {},
   "source": [
    "The fully connected layers are trained and the model has 89.9% accuracy"
   ]
  },
  {
   "cell_type": "markdown",
   "metadata": {},
   "source": [
    "To further improve, lets fine tune the top of the vgg model:"
   ]
  },
  {
   "cell_type": "code",
   "execution_count": 16,
   "metadata": {
    "collapsed": false
   },
   "outputs": [
    {
     "data": {
      "text/plain": [
       "[<keras.engine.topology.InputLayer at 0x1db89322cc0>,\n",
       " <keras.layers.convolutional.Conv2D at 0x1db89322f98>,\n",
       " <keras.layers.convolutional.Conv2D at 0x1db835ff7f0>,\n",
       " <keras.layers.pooling.MaxPooling2D at 0x1db8933a208>,\n",
       " <keras.layers.convolutional.Conv2D at 0x1db893785c0>,\n",
       " <keras.layers.convolutional.Conv2D at 0x1db8936dda0>,\n",
       " <keras.layers.pooling.MaxPooling2D at 0x1db893a7e10>,\n",
       " <keras.layers.convolutional.Conv2D at 0x1db893cb3c8>,\n",
       " <keras.layers.convolutional.Conv2D at 0x1db893e5f28>,\n",
       " <keras.layers.convolutional.Conv2D at 0x1db894087f0>,\n",
       " <keras.layers.pooling.MaxPooling2D at 0x1db893f1f98>,\n",
       " <keras.layers.convolutional.Conv2D at 0x1db8940cac8>,\n",
       " <keras.layers.convolutional.Conv2D at 0x1db89441470>,\n",
       " <keras.layers.convolutional.Conv2D at 0x1db89487d30>,\n",
       " <keras.layers.pooling.MaxPooling2D at 0x1db894628d0>,\n",
       " <keras.layers.convolutional.Conv2D at 0x1db894c0358>,\n",
       " <keras.layers.convolutional.Conv2D at 0x1db894da5f8>,\n",
       " <keras.layers.convolutional.Conv2D at 0x1db894fd780>,\n",
       " <keras.layers.pooling.MaxPooling2D at 0x1db894e5f28>]"
      ]
     },
     "execution_count": 16,
     "metadata": {},
     "output_type": "execute_result"
    }
   ],
   "source": [
    "vgg.layers"
   ]
  },
  {
   "cell_type": "code",
   "execution_count": 17,
   "metadata": {
    "collapsed": false
   },
   "outputs": [
    {
     "data": {
      "text/plain": [
       "'block5_conv3'"
      ]
     },
     "execution_count": 17,
     "metadata": {},
     "output_type": "execute_result"
    }
   ],
   "source": [
    "vgg.layers[-2].name"
   ]
  },
  {
   "cell_type": "code",
   "execution_count": 18,
   "metadata": {
    "collapsed": false
   },
   "outputs": [],
   "source": [
    "vgg.trainable = True"
   ]
  },
  {
   "cell_type": "code",
   "execution_count": 19,
   "metadata": {
    "collapsed": false
   },
   "outputs": [],
   "source": [
    "for layer in vgg.layers:\n",
    "    if layer.name == 'block5_conv3':\n",
    "        layer.trainable = True\n",
    "    else:\n",
    "        layer.trainable = False"
   ]
  },
  {
   "cell_type": "code",
   "execution_count": 20,
   "metadata": {
    "collapsed": false
   },
   "outputs": [
    {
     "data": {
      "text/plain": [
       "6"
      ]
     },
     "execution_count": 20,
     "metadata": {},
     "output_type": "execute_result"
    }
   ],
   "source": [
    "len(model.trainable_weights)"
   ]
  },
  {
   "cell_type": "code",
   "execution_count": 21,
   "metadata": {
    "collapsed": true
   },
   "outputs": [],
   "source": [
    "model.compile(loss='binary_crossentropy', optimizer=optimizers.RMSprop(lr=1e-5), metrics=['acc'])"
   ]
  },
  {
   "cell_type": "code",
   "execution_count": 22,
   "metadata": {
    "collapsed": false
   },
   "outputs": [
    {
     "name": "stdout",
     "output_type": "stream",
     "text": [
      "Epoch 1/30\n",
      "100/100 [==============================] - 20s 196ms/step - loss: 0.3144 - acc: 0.8540 - val_loss: 0.2508 - val_acc: 0.8970\n",
      "Epoch 2/30\n",
      "100/100 [==============================] - 19s 186ms/step - loss: 0.2993 - acc: 0.8675 - val_loss: 0.2450 - val_acc: 0.8990\n",
      "Epoch 3/30\n",
      "100/100 [==============================] - 19s 188ms/step - loss: 0.3146 - acc: 0.8640 - val_loss: 0.2411 - val_acc: 0.9040\n",
      "Epoch 4/30\n",
      "100/100 [==============================] - 18s 177ms/step - loss: 0.3209 - acc: 0.8610 - val_loss: 0.2537 - val_acc: 0.8970\n",
      "Epoch 5/30\n",
      "100/100 [==============================] - 17s 173ms/step - loss: 0.3117 - acc: 0.8620 - val_loss: 0.2339 - val_acc: 0.9050\n",
      "Epoch 6/30\n",
      "100/100 [==============================] - 18s 179ms/step - loss: 0.3022 - acc: 0.8660 - val_loss: 0.2290 - val_acc: 0.9050\n",
      "Epoch 7/30\n",
      "100/100 [==============================] - 18s 176ms/step - loss: 0.3005 - acc: 0.8675 - val_loss: 0.2247 - val_acc: 0.9020\n",
      "Epoch 8/30\n",
      "100/100 [==============================] - 18s 181ms/step - loss: 0.2963 - acc: 0.8705 - val_loss: 0.2247 - val_acc: 0.9080\n",
      "Epoch 9/30\n",
      "100/100 [==============================] - 18s 179ms/step - loss: 0.3067 - acc: 0.8680 - val_loss: 0.2951 - val_acc: 0.8770\n",
      "Epoch 10/30\n",
      "100/100 [==============================] - 18s 175ms/step - loss: 0.2857 - acc: 0.8790 - val_loss: 0.2358 - val_acc: 0.9050\n",
      "Epoch 11/30\n",
      "100/100 [==============================] - 18s 179ms/step - loss: 0.2998 - acc: 0.8760 - val_loss: 0.2308 - val_acc: 0.9100\n",
      "Epoch 12/30\n",
      "100/100 [==============================] - 18s 177ms/step - loss: 0.2858 - acc: 0.8885 - val_loss: 0.2471 - val_acc: 0.8990\n",
      "Epoch 13/30\n",
      "100/100 [==============================] - 18s 176ms/step - loss: 0.2902 - acc: 0.8720 - val_loss: 0.2160 - val_acc: 0.9080\n",
      "Epoch 14/30\n",
      "100/100 [==============================] - 17s 175ms/step - loss: 0.2828 - acc: 0.8815 - val_loss: 0.2175 - val_acc: 0.9110\n",
      "Epoch 15/30\n",
      "100/100 [==============================] - 18s 180ms/step - loss: 0.3025 - acc: 0.8600 - val_loss: 0.2264 - val_acc: 0.9100\n",
      "Epoch 16/30\n",
      "100/100 [==============================] - 18s 180ms/step - loss: 0.2776 - acc: 0.8800 - val_loss: 0.2124 - val_acc: 0.9160\n",
      "Epoch 17/30\n",
      "100/100 [==============================] - 18s 183ms/step - loss: 0.2630 - acc: 0.8850 - val_loss: 0.2182 - val_acc: 0.9160\n",
      "Epoch 18/30\n",
      "100/100 [==============================] - 17s 174ms/step - loss: 0.2903 - acc: 0.8745 - val_loss: 0.2287 - val_acc: 0.9140\n",
      "Epoch 19/30\n",
      "100/100 [==============================] - 17s 174ms/step - loss: 0.2818 - acc: 0.8790 - val_loss: 0.2094 - val_acc: 0.9090\n",
      "Epoch 20/30\n",
      "100/100 [==============================] - 18s 182ms/step - loss: 0.2674 - acc: 0.8825 - val_loss: 0.2082 - val_acc: 0.9060\n",
      "Epoch 21/30\n",
      "100/100 [==============================] - 18s 179ms/step - loss: 0.2522 - acc: 0.8915 - val_loss: 0.2125 - val_acc: 0.9180\n",
      "Epoch 22/30\n",
      "100/100 [==============================] - 17s 172ms/step - loss: 0.2633 - acc: 0.8855 - val_loss: 0.2202 - val_acc: 0.9170\n",
      "Epoch 23/30\n",
      "100/100 [==============================] - 18s 176ms/step - loss: 0.2578 - acc: 0.8960 - val_loss: 0.2019 - val_acc: 0.9200\n",
      "Epoch 24/30\n",
      "100/100 [==============================] - 17s 172ms/step - loss: 0.2797 - acc: 0.8805 - val_loss: 0.2087 - val_acc: 0.9190\n",
      "Epoch 25/30\n",
      "100/100 [==============================] - 18s 183ms/step - loss: 0.2632 - acc: 0.8855 - val_loss: 0.2010 - val_acc: 0.9160\n",
      "Epoch 26/30\n",
      "100/100 [==============================] - 18s 179ms/step - loss: 0.2516 - acc: 0.8960 - val_loss: 0.2079 - val_acc: 0.9160\n",
      "Epoch 27/30\n",
      "100/100 [==============================] - 18s 178ms/step - loss: 0.2541 - acc: 0.8910 - val_loss: 0.2040 - val_acc: 0.9160\n",
      "Epoch 28/30\n",
      "100/100 [==============================] - 17s 174ms/step - loss: 0.2795 - acc: 0.8785 - val_loss: 0.1985 - val_acc: 0.9180\n",
      "Epoch 29/30\n",
      "100/100 [==============================] - 18s 177ms/step - loss: 0.2702 - acc: 0.8850 - val_loss: 0.1939 - val_acc: 0.9160\n",
      "Epoch 30/30\n",
      "100/100 [==============================] - 17s 174ms/step - loss: 0.2691 - acc: 0.8765 - val_loss: 0.2045 - val_acc: 0.9210\n"
     ]
    }
   ],
   "source": [
    "history = model.fit_generator(train_data_gen,\n",
    "                              steps_per_epoch=100,\n",
    "                              epochs=30,\n",
    "                              validation_data=val_data_gen,\n",
    "                              validation_steps=50)"
   ]
  },
  {
   "cell_type": "code",
   "execution_count": 23,
   "metadata": {
    "collapsed": false
   },
   "outputs": [
    {
     "data": {
      "image/png": "[encoded data removed]",
      "text/plain": [
       "<matplotlib.figure.Figure at 0x1db8b7748d0>"
      ]
     },
     "metadata": {},
     "output_type": "display_data"
    }
   ],
   "source": [
    "hist_dict = history.history\n",
    "\n",
    "losses = hist_dict['loss']\n",
    "val_losses = hist_dict['val_loss']\n",
    "acc = hist_dict['acc']\n",
    "val_acc = hist_dict['val_acc']\n",
    "\n",
    "plt.figure(figsize=(16,6))\n",
    "plt.plot(range(1,31), acc, 'r', label='Train accuracy', linewidth=3)\n",
    "plt.plot(range(1,31), val_acc, 'b', label='Validation accuracy', linewidth=3)\n",
    "plt.xlabel('Epoch')\n",
    "plt.ylabel('Accuracy')\n",
    "plt.legend();"
   ]
  },
  {
   "cell_type": "markdown",
   "metadata": {},
   "source": [
    "Augmentation causes the training accuracy to fall below the validation accuracy (it is turned off when validating)."
   ]
  },
  {
   "cell_type": "code",
   "execution_count": 26,
   "metadata": {
    "collapsed": false
   },
   "outputs": [],
   "source": [
    "model.save('cats_dogs_vgg.h5')"
   ]
  },
  {
   "cell_type": "code",
   "execution_count": null,
   "metadata": {
    "collapsed": true
   },
   "outputs": [],
   "source": []
  }
 ],
 "metadata": {
  "anaconda-cloud": {},
  "kernelspec": {
   "display_name": "Python [default]",
   "language": "python",
   "name": "python3"
  },
  "language_info": {
   "codemirror_mode": {
    "name": "ipython",
    "version": 3
   },
   "file_extension": ".py",
   "mimetype": "text/x-python",
   "name": "python",
   "nbconvert_exporter": "python",
   "pygments_lexer": "ipython3",
   "version": "3.5.4"
  }
 },
 "nbformat": 4,
 "nbformat_minor": 2
}
