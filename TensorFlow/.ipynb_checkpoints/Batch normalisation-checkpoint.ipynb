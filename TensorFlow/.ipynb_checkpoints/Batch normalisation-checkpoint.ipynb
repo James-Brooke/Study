{
 "cells": [
  {
   "cell_type": "markdown",
   "metadata": {},
   "source": [
    "# Batch normalisation on MNIST"
   ]
  },
  {
   "cell_type": "markdown",
   "metadata": {},
   "source": [
    "https://arxiv.org/abs/1502.03167"
   ]
  },
  {
   "cell_type": "markdown",
   "metadata": {},
   "source": [
    "Batch normalisation reduces the vanishing and exploding gradients problem, makes networks less sensitive to weight initialisation, reduces training times and acts as a regulariser.  "
   ]
  },
  {
   "cell_type": "markdown",
   "metadata": {},
   "source": [
    "Before the activation is applied at each layer, the inputs are normalised and zero-centered using the standard deviation and mean of the current mini-batch. The inputs are also shifted and scaled using parameters that are learned.  "
   ]
  },
  {
   "cell_type": "code",
   "execution_count": 1,
   "metadata": {
    "collapsed": true
   },
   "outputs": [],
   "source": [
    "import tensorflow as tf\n",
    "from tensorflow.examples.tutorials.mnist import input_data"
   ]
  },
  {
   "cell_type": "code",
   "execution_count": 2,
   "metadata": {
    "collapsed": false,
    "scrolled": true
   },
   "outputs": [
    {
     "name": "stdout",
     "output_type": "stream",
     "text": [
      "Extracting /tmp/data/train-images-idx3-ubyte.gz\n",
      "Extracting /tmp/data/train-labels-idx1-ubyte.gz\n",
      "Extracting /tmp/data/t10k-images-idx3-ubyte.gz\n",
      "Extracting /tmp/data/t10k-labels-idx1-ubyte.gz\n"
     ]
    }
   ],
   "source": [
    "mnist = input_data.read_data_sets(\"/tmp/data/\")"
   ]
  },
  {
   "cell_type": "code",
   "execution_count": 3,
   "metadata": {
    "collapsed": true
   },
   "outputs": [],
   "source": [
    "n_inputs = 28 * 28 \n",
    "n_hidden1 = 300\n",
    "n_hidden2 = 100\n",
    "n_outputs = 10"
   ]
  },
  {
   "cell_type": "code",
   "execution_count": 4,
   "metadata": {
    "collapsed": true
   },
   "outputs": [],
   "source": [
    "X = tf.placeholder(tf.float32, shape = (None, n_inputs), name=\"X\") \n",
    "y = tf.placeholder(tf.int64, shape = (None), name=\"y\")"
   ]
  },
  {
   "cell_type": "code",
   "execution_count": 5,
   "metadata": {
    "collapsed": false
   },
   "outputs": [],
   "source": [
    "training = tf.placeholder_with_default(False, shape=(), name=\"training\") #Training flag for calculating mean and standard deviation (for whole batch during testing)"
   ]
  },
  {
   "cell_type": "code",
   "execution_count": 6,
   "metadata": {
    "collapsed": true
   },
   "outputs": [],
   "source": [
    "hidden1 = tf.layers.dense(X, n_hidden1, name=\"hidden1\")\n",
    "bn1 = tf.layers.batch_normalization(hidden1, training=training, momentum=0.9) \n",
    "bn1_act = tf.nn.elu(bn1) #Exponential linear unit https://arxiv.org/abs/1511.07289 (slower than Relu to calculate, but converges faster)\n",
    "\n",
    "hidden2 = tf.layers.dense(bn1_act, n_hidden2, name=\"hidden2\")\n",
    "bn2 = tf.layers.batch_normalization(hidden2, training=training, momentum=0.9)\n",
    "bn2_act = tf.nn.elu(bn2)\n",
    "\n",
    "logits_before_bn = tf.layers.dense(bn2_act, n_outputs, name=\"outputs\")\n",
    "logits = tf.layers.batch_normalization(logits_before_bn, training=training, momentum=0.9)"
   ]
  },
  {
   "cell_type": "code",
   "execution_count": 7,
   "metadata": {
    "collapsed": true
   },
   "outputs": [],
   "source": [
    "extra_update_ops = tf.get_collection(tf.GraphKeys.UPDATE_OPS) #extra batch-norm operations that need updating at each step"
   ]
  },
  {
   "cell_type": "code",
   "execution_count": 8,
   "metadata": {
    "collapsed": true
   },
   "outputs": [],
   "source": [
    "cross_entropy = tf.nn.sparse_softmax_cross_entropy_with_logits(labels=y, logits=logits)\n",
    "loss = tf.reduce_mean(cross_entropy, name=\"loss\") "
   ]
  },
  {
   "cell_type": "code",
   "execution_count": 9,
   "metadata": {
    "collapsed": false
   },
   "outputs": [],
   "source": [
    "learning_rate = 0.01\n",
    "optimiser = tf.train.GradientDescentOptimizer(learning_rate)\n",
    "training_op =optimiser.minimize(loss)"
   ]
  },
  {
   "cell_type": "code",
   "execution_count": 10,
   "metadata": {
    "collapsed": true
   },
   "outputs": [],
   "source": [
    "correct = tf.nn.in_top_k(logits, y, 1)\n",
    "accuracy = tf.reduce_mean(tf.cast(correct, tf.float32))"
   ]
  },
  {
   "cell_type": "code",
   "execution_count": 11,
   "metadata": {
    "collapsed": true
   },
   "outputs": [],
   "source": [
    "init = tf.global_variables_initializer()"
   ]
  },
  {
   "cell_type": "code",
   "execution_count": 12,
   "metadata": {
    "collapsed": true
   },
   "outputs": [],
   "source": [
    "n_epochs = 50 \n",
    "batch_size = 50"
   ]
  },
  {
   "cell_type": "code",
   "execution_count": 13,
   "metadata": {
    "collapsed": false,
    "scrolled": true
   },
   "outputs": [
    {
     "name": "stdout",
     "output_type": "stream",
     "text": [
      "0 Test accuracy:  0.9244\n",
      "1 Test accuracy:  0.9452\n",
      "2 Test accuracy:  0.9539\n",
      "3 Test accuracy:  0.9628\n",
      "4 Test accuracy:  0.9669\n",
      "5 Test accuracy:  0.9661\n",
      "6 Test accuracy:  0.9714\n",
      "7 Test accuracy:  0.9718\n",
      "8 Test accuracy:  0.9744\n",
      "9 Test accuracy:  0.9733\n",
      "10 Test accuracy:  0.9724\n",
      "11 Test accuracy:  0.9741\n",
      "12 Test accuracy:  0.9759\n",
      "13 Test accuracy:  0.9758\n",
      "14 Test accuracy:  0.9766\n",
      "15 Test accuracy:  0.9759\n",
      "16 Test accuracy:  0.9768\n",
      "17 Test accuracy:  0.9761\n",
      "18 Test accuracy:  0.9751\n",
      "19 Test accuracy:  0.9791\n",
      "20 Test accuracy:  0.9773\n",
      "21 Test accuracy:  0.9774\n",
      "22 Test accuracy:  0.9774\n",
      "23 Test accuracy:  0.979\n",
      "24 Test accuracy:  0.9782\n",
      "25 Test accuracy:  0.9798\n",
      "26 Test accuracy:  0.9787\n",
      "27 Test accuracy:  0.9789\n",
      "28 Test accuracy:  0.977\n",
      "29 Test accuracy:  0.9781\n",
      "30 Test accuracy:  0.9783\n",
      "31 Test accuracy:  0.98\n",
      "32 Test accuracy:  0.979\n",
      "33 Test accuracy:  0.9799\n",
      "34 Test accuracy:  0.98\n",
      "35 Test accuracy:  0.9801\n",
      "36 Test accuracy:  0.9776\n",
      "37 Test accuracy:  0.98\n",
      "38 Test accuracy:  0.9785\n",
      "39 Test accuracy:  0.9808\n",
      "40 Test accuracy:  0.9797\n",
      "41 Test accuracy:  0.979\n",
      "42 Test accuracy:  0.9797\n",
      "43 Test accuracy:  0.9802\n",
      "44 Test accuracy:  0.9791\n",
      "45 Test accuracy:  0.9793\n",
      "46 Test accuracy:  0.9787\n",
      "47 Test accuracy:  0.9792\n",
      "48 Test accuracy:  0.9813\n",
      "49 Test accuracy:  0.9789\n"
     ]
    }
   ],
   "source": [
    "with tf.Session() as sess:\n",
    "    init.run()\n",
    "    for epoch in range(n_epochs):\n",
    "        for iteration in range(mnist.train.num_examples // batch_size):\n",
    "            X_batch, y_batch = mnist.train.next_batch(batch_size)\n",
    "            sess.run([training_op, extra_update_ops], feed_dict = {training:True, X:X_batch, y:y_batch})\n",
    "        accuracy_val = accuracy.eval(feed_dict = {X: mnist.test.images, y:mnist.test.labels})\n",
    "        print(epoch, \"Test accuracy: \", accuracy_val)"
   ]
  },
  {
   "cell_type": "markdown",
   "metadata": {},
   "source": [
    "~ 98% accuracy, converging after roughly 30 epochs. "
   ]
  },
  {
   "cell_type": "markdown",
   "metadata": {},
   "source": [
    "Batch normalisation helps to train much deeper networks."
   ]
  }
 ],
 "metadata": {
  "anaconda-cloud": {},
  "kernelspec": {
   "display_name": "Python [default]",
   "language": "python",
   "name": "python3"
  },
  "language_info": {
   "codemirror_mode": {
    "name": "ipython",
    "version": 3
   },
   "file_extension": ".py",
   "mimetype": "text/x-python",
   "name": "python",
   "nbconvert_exporter": "python",
   "pygments_lexer": "ipython3",
   "version": "3.5.4"
  }
 },
 "nbformat": 4,
 "nbformat_minor": 2
}
